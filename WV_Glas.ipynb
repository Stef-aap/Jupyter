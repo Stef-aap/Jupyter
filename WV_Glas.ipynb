{
 "cells": [
  {
   "cell_type": "markdown",
   "metadata": {},
   "source": [
    "19-02-2019, SM"
   ]
  },
  {
   "cell_type": "markdown",
   "metadata": {},
   "source": [
    "# WarmteVerlies Glas\n",
    "In dit document worden een aantal mogelijke raamverbeteringen met elkaar vergeleken voor wat betreft het warmteverlies, de kosten en de terugverdientijd die hiermee samenhangen. "
   ]
  },
  {
   "cell_type": "markdown",
   "metadata": {
    "extensions": {
     "jupyter_dashboards": {
      "version": 1,
      "views": {
       "grid_default": {
        "col": 4,
        "height": 4,
        "hidden": false,
        "row": 31,
        "width": 4
       },
       "report_default": {}
      }
     }
    }
   },
   "source": [
    "## Uitgangspunten"
   ]
  },
  {
   "cell_type": "code",
   "execution_count": 1,
   "metadata": {
    "ExecuteTime": {
     "end_time": "2017-05-05T20:52:07.228970Z",
     "start_time": "2017-05-05T20:52:07.222952Z"
    },
    "collapsed": true,
    "extensions": {
     "jupyter_dashboards": {
      "version": 1,
      "views": {
       "grid_default": {
        "col": 8,
        "height": 4,
        "hidden": false,
        "row": 31,
        "width": 4
       },
       "report_default": {}
      }
     }
    },
    "run_control": {
     "frozen": false,
     "read_only": false
    }
   },
   "outputs": [
    {
     "name": "stdout",
     "output_type": "stream",
     "text": [
      "Totaal Oppervlakte =  12.25\n"
     ]
    }
   ],
   "source": [
    "Opp = 2.1*1 + 1.3*2.5 + 2.4*1.3 + 1.8*2.1\n",
    "print ( \"Totaal Oppervlakte = \", Opp )\n",
    "Lengte   = Opp / 2\n",
    "Hoogte   = 2\n",
    "\n",
    "# Veronderstelde temperaturen\n",
    "Temperatuur_Binnen = 20.0\n",
    "Temperatuur_Buiten = 0.0\n",
    "\n",
    "# Voor de berekening van de kostenbesparing gaan we uit van het aantal graaddagen van het vorige jaar.\n",
    "# De gasprijs in [Euro] per m3:\n",
    "Price_Gas = 0.80"
   ]
  },
  {
   "cell_type": "markdown",
   "metadata": {
    "extensions": {
     "jupyter_dashboards": {
      "version": 1,
      "views": {
       "grid_default": {
        "col": 8,
        "height": 4,
        "hidden": false,
        "row": 35,
        "width": 4
       },
       "report_default": {}
      }
     }
    }
   },
   "source": [
    "## Materiaal Constanten\n",
    "Hieronder de definitie van de gebruikte materialen.\n",
    "<br>Iedere vorm om de warmtegeleiding op te geven is toegestaan ( R-waarde, U-waarde of Lambda + Dikte). "
   ]
  },
  {
   "cell_type": "code",
   "execution_count": 2,
   "metadata": {},
   "outputs": [],
   "source": [
    "from Base_Heat import *\n",
    "import Base_Heat\n",
    "\n",
    "# luchtweerstand van de binnenmuur, zoals gedefinieerd in het bouwbesluit\n",
    "Rsi = Heat_Transfer_Object ( \"Rsi\" )\n",
    "Rsi.R_Waarde = 0.13\n",
    "\n",
    "# luchtweerstand van de buitenmuur, zoals gedefinieerd in het bouwbesluit\n",
    "Rse = Heat_Transfer_Object ( \"Rse\" )\n",
    "Rse.R_Waarde = 0.04\n",
    "\n",
    "HR_Glas = Heat_Transfer_Object ( \"HR glas\" ) \n",
    "HR_Glas.U_Waarde = 2.8\n",
    "\n",
    "HRxx_Glas = Heat_Transfer_Object ( \"HR++ glas\" ) \n",
    "HRxx_Glas.U_Waarde = 1.1\n",
    "\n",
    "HRxxx_Glas = Heat_Transfer_Object ( \"HR+++ glas\" ) \n",
    "HRxxx_Glas.U_Waarde = 0.5\n",
    "\n",
    "#print ( HR_Glas, HRxx_Glas, HRxxx_Glas )"
   ]
  },
  {
   "cell_type": "markdown",
   "metadata": {},
   "source": [
    "## HR Glas\n",
    "Dit is het klassiek Thermopane glas van 30 jaar geleden."
   ]
  },
  {
   "cell_type": "code",
   "execution_count": 3,
   "metadata": {},
   "outputs": [
    {
     "name": "stdout",
     "output_type": "stream",
     "text": [
      "Name        = HR glas\n",
      "Lengte      = 6.125 [m]\n",
      "Hoogte      = 2 [m]\n",
      "Oppervlakte = 12.2 [m2]\n",
      "R-Waarde    = 0.36 [m2.K/W]\n",
      "U-Waarde    = 2.80 [W/m2.K]\n",
      "T-Inside    = 20.0 [Celsius]\n",
      "T-Outside   = 0.0 [Celsius]\n",
      "Heat Loss   = 686 [W]\n",
      "Heat Loss 1m2   = 56 [W]\n",
      "Energy Cost 1m2 = 10.75 [Euro]\n",
      "Gasprijs        = 0.80 [Euro]\n",
      "\n"
     ]
    }
   ],
   "source": [
    "HR_Glas.Lengte   = Opp / 2\n",
    "HR_Glas.Hoogte   = 2\n",
    "\n",
    "HR_Glas.Temperature_Inside   = Temperatuur_Binnen\n",
    "HR_Glas.Temperature_Outside  = Temperatuur_Buiten\n",
    "\n",
    "print ( HR_Glas )"
   ]
  },
  {
   "cell_type": "markdown",
   "metadata": {},
   "source": [
    "## HR++ Glas"
   ]
  },
  {
   "cell_type": "code",
   "execution_count": 4,
   "metadata": {},
   "outputs": [
    {
     "name": "stdout",
     "output_type": "stream",
     "text": [
      "Name        = HR++ glas\n",
      "Lengte      = 6.125 [m]\n",
      "Hoogte      = 2 [m]\n",
      "Oppervlakte = 12.2 [m2]\n",
      "R-Waarde    = 0.91 [m2.K/W]\n",
      "U-Waarde    = 1.10 [W/m2.K]\n",
      "T-Inside    = 20.0 [Celsius]\n",
      "T-Outside   = 0.0 [Celsius]\n",
      "Heat Loss   = 269 [W]\n",
      "Heat Loss 1m2   = 22 [W]\n",
      "Energy Cost 1m2 = 4.22 [Euro]\n",
      "Gasprijs        = 0.80 [Euro]\n",
      "\n"
     ]
    }
   ],
   "source": [
    "HRxx_Glas.Lengte   = Opp / 2\n",
    "HRxx_Glas.Hoogte   = 2\n",
    "\n",
    "HRxx_Glas.Temperature_Inside   = Temperatuur_Binnen\n",
    "HRxx_Glas.Temperature_Outside  = Temperatuur_Buiten\n",
    "\n",
    "print ( HRxx_Glas )"
   ]
  },
  {
   "cell_type": "markdown",
   "metadata": {},
   "source": [
    "## HR+++ Glas"
   ]
  },
  {
   "cell_type": "code",
   "execution_count": 5,
   "metadata": {},
   "outputs": [
    {
     "name": "stdout",
     "output_type": "stream",
     "text": [
      "Name        = HR+++ glas\n",
      "Lengte      = 6.125 [m]\n",
      "Hoogte      = 2 [m]\n",
      "Oppervlakte = 12.2 [m2]\n",
      "R-Waarde    = 2.00 [m2.K/W]\n",
      "U-Waarde    = 0.50 [W/m2.K]\n",
      "T-Inside    = 20.0 [Celsius]\n",
      "T-Outside   = 0.0 [Celsius]\n",
      "Heat Loss   = 122 [W]\n",
      "Heat Loss 1m2   = 10 [W]\n",
      "Energy Cost 1m2 = 1.92 [Euro]\n",
      "Gasprijs        = 0.80 [Euro]\n",
      "\n"
     ]
    }
   ],
   "source": [
    "HRxxx_Glas.Lengte   = Opp / 2\n",
    "HRxxx_Glas.Hoogte   = 2\n",
    "\n",
    "HRxxx_Glas.Temperature_Inside   = Temperatuur_Binnen\n",
    "HRxxx_Glas.Temperature_Outside  = Temperatuur_Buiten\n",
    "\n",
    "print ( HRxxx_Glas )"
   ]
  },
  {
   "cell_type": "markdown",
   "metadata": {},
   "source": [
    "## Kozijnen\n",
    "Van een typisch kozijn (3 ramen aan de voorkant, waarvan 1 draaibaar) is het oppervlakte geschat t.o.v. de glas oppervlakte. Dit percentage is gebruikt voor de gehele beglazing. Het draaibare deel komt slechts 2 keer voor en wortd hier verwaarloosd. De tuindeuren tellen niet mee omdat die worden verdikt en apart worden geteld.\n",
    "<br><br> Vaak (en zeker door leveranciers van kunststof kozijnen) wordt voor hout de forfaitaire waarde van U = 2.4 [W/m2K] aangehouden. Waar deze waarde vandaan komt weet ik niet maar ik kan geen houtsoort vinden die zo'n slechte isolatie-waarde heeft.\n",
    "<br>In deze link staan van een groot aantal gangbare houtsoorten de isolatie weerstand: \n",
    "https://ph-bouwadvies.nl/u-waarden-van-kozijnen-en-de-energieprestatie/\n",
    "\n",
    "Een online berekentool voor kozijnen is hier te vinden: http://www.warmteweerstand.nl/U-waarde_kozijn.aspx\n",
    "<br>Deze tool geeft een veel realistischers waarde voor de isolatie van houten kozijnen, maar ook hier heb ik twijfels over het gebruikte reken-algoritme. Het verschil tussen Grenen (1.36) en Merbau (1.44) is namelijk veel kleiner dan op grond van de lambda mag worden verwacht."
   ]
  },
  {
   "cell_type": "code",
   "execution_count": 6,
   "metadata": {},
   "outputs": [],
   "source": [
    "Lambda_Merbau           = 0.18  # geldt ook voo Afzalia, Bintanger, Robinia, Eiken, Supupira\n",
    "Lambda_Dark_Red_Meranti = 0.16  # geldt ook voor Iroko, Sapeli, Sipo,Teak\n",
    "Lambda_Grenen           = 0.13  # geldt ook Led-Red-Meranti, Lariks, Oregon-Pine, Accoya\n",
    "Lambda_Vuren            = 0.11  # geldt ook voor Western-Red-Cedar"
   ]
  },
  {
   "cell_type": "code",
   "execution_count": 7,
   "metadata": {},
   "outputs": [
    {
     "name": "stdout",
     "output_type": "stream",
     "text": [
      "Voorraam_Opp     = 2.06 [m2]\n",
      "Kozijn_Opp1      = 0.47 [m2]\n",
      "Draai_Opp        = 0.28 [m2]\n",
      "Kozijn_Opp1_Perc = 23 %\n"
     ]
    }
   ],
   "source": [
    "Voorraam_Opp = 2.1 * 0.98\n",
    "Glas_Opp     = 3 * 0.61 * 0.87\n",
    "Draai_Opp    = 2 * 2 * 0.05 * ( 0.60 + 0.80 )\n",
    "\n",
    "Kozijn_Opp1      = Voorraam_Opp - Glas_Opp\n",
    "Kozijn_Opp1_Perc = 100* Kozijn_Opp1 / Voorraam_Opp\n",
    "\n",
    "print ( \"Voorraam_Opp     = %.2f [m2]\" % Voorraam_Opp )\n",
    "print ( \"Kozijn_Opp1      = %.2f [m2]\" % Kozijn_Opp1 )\n",
    "print ( \"Draai_Opp        = %.2f [m2]\" % Draai_Opp )\n",
    "print ( \"Kozijn_Opp1_Perc = %.0f %%\"   % Kozijn_Opp1_Perc )"
   ]
  },
  {
   "cell_type": "code",
   "execution_count": 8,
   "metadata": {},
   "outputs": [
    {
     "name": "stdout",
     "output_type": "stream",
     "text": [
      "Name        = Kozijn Merbau\n",
      "Layers    = [ Rsi, Kozijn Merbau, Rse,  ]\n",
      "R-Waarden = 0.84 [ 0.13, 0.67, 0.04,  ] [m2.K/W]\n",
      "\n",
      "Name        = Kozijn Dark Red Meranti\n",
      "Layers    = [ Rsi, Kozijn Dark Red Merantie, Rse,  ]\n",
      "R-Waarden = 0.92 [ 0.13, 0.75, 0.04,  ] [m2.K/W]\n",
      "\n",
      "Name        = Kozijn Grenen\n",
      "Layers    = [ Rsi, Kozijn Grenen, Rse,  ]\n",
      "R-Waarden = 1.09 [ 0.13, 0.92, 0.04,  ] [m2.K/W]\n",
      "\n",
      "Name        = Kozijn Vuren\n",
      "Layers    = [ Rsi, Kozijn Vuren, Rse,  ]\n",
      "R-Waarden = 1.26 [ 0.13, 1.09, 0.04,  ] [m2.K/W]\n",
      "\n"
     ]
    }
   ],
   "source": [
    "Kozijn_Dikte = 0.12\n",
    "Draai_Dikte  = 0.05\n",
    "\n",
    "Kozijn_Opp = Kozijn_Opp1_Perc * Opp / 100\n",
    "\n",
    "Kozijn_Merbau        = Heat_Transfer_Object ( \"Kozijn Merbau\" )  \n",
    "Kozijn_Merbau.Lambda = Lambda_Merbau\n",
    "Kozijn_Merbau.Dikte  = Kozijn_Dikte\n",
    "\n",
    "Kozijn_Dark_Red_Meranti        = Heat_Transfer_Object ( \"Kozijn Dark Red Merantie\" )  \n",
    "Kozijn_Dark_Red_Meranti.Lambda = Lambda_Dark_Red_Meranti\n",
    "Kozijn_Dark_Red_Meranti.Dikte  = Kozijn_Dikte\n",
    "\n",
    "Kozijn_Grenen        = Heat_Transfer_Object ( \"Kozijn Grenen\" )  \n",
    "Kozijn_Grenen.Lambda = Lambda_Grenen\n",
    "Kozijn_Grenen.Dikte  = Kozijn_Dikte\n",
    "\n",
    "Kozijn_Vuren        = Heat_Transfer_Object ( \"Kozijn Vuren\" )  \n",
    "Kozijn_Vuren.Lambda = Lambda_Vuren\n",
    "Kozijn_Vuren.Dikte  = Kozijn_Dikte\n",
    "\n",
    "Kozijn_HH1 = Sandwich ( \"Kozijn Merbau\" )\n",
    "Kozijn_HH1.Lengte              = 2\n",
    "Kozijn_HH1.Breedte             = Kozijn_Opp / Kozijn_HH1.Lengte\n",
    "Kozijn_HH1.Temperature_Inside  = Temperatuur_Binnen\n",
    "Kozijn_HH1.Temperature_Outside = Temperatuur_Buiten\n",
    "Kozijn_HH1.Add ( Rsi )\n",
    "Kozijn_HH1.Add ( Kozijn_Merbau )\n",
    "Kozijn_HH1.Add ( Rse )\n",
    "\n",
    "Kozijn_HH2 = Sandwich ( \"Kozijn Dark Red Meranti\" )\n",
    "Kozijn_HH2.Lengte              = 2\n",
    "Kozijn_HH2.Breedte             = Kozijn_Opp / Kozijn_HH2.Lengte\n",
    "Kozijn_HH2.Temperature_Inside  = Temperatuur_Binnen\n",
    "Kozijn_HH2.Temperature_Outside = Temperatuur_Buiten\n",
    "Kozijn_HH2.Add ( Rsi )\n",
    "Kozijn_HH2.Add ( Kozijn_Dark_Red_Meranti )\n",
    "Kozijn_HH2.Add ( Rse )\n",
    "\n",
    "Kozijn_HH3 = Sandwich ( \"Kozijn Grenen\" )\n",
    "Kozijn_HH3.Lengte              = 2\n",
    "Kozijn_HH3.Breedte             = Kozijn_Opp / Kozijn_HH3.Lengte\n",
    "Kozijn_HH3.Temperature_Inside  = Temperatuur_Binnen\n",
    "Kozijn_HH3.Temperature_Outside = Temperatuur_Buiten\n",
    "Kozijn_HH3.Add ( Rsi )\n",
    "Kozijn_HH3.Add ( Kozijn_Grenen )\n",
    "Kozijn_HH3.Add ( Rse )\n",
    "\n",
    "Kozijn_HH4 = Sandwich ( \"Kozijn Vuren\" )\n",
    "Kozijn_HH4.Lengte              = 2\n",
    "Kozijn_HH4.Breedte             = Kozijn_Opp / Kozijn_HH4.Lengte\n",
    "Kozijn_HH4.Temperature_Inside  = Temperatuur_Binnen\n",
    "Kozijn_HH4.Temperature_Outside = Temperatuur_Buiten\n",
    "Kozijn_HH4.Add ( Rsi )\n",
    "Kozijn_HH4.Add ( Kozijn_Vuren )\n",
    "Kozijn_HH4.Add ( Rse )\n",
    "\n",
    "Base_Heat.PrintLevel = 1\n",
    "\n",
    "print ( Kozijn_HH1 )\n",
    "print ( Kozijn_HH2 )\n",
    "print ( Kozijn_HH3 )\n",
    "print ( Kozijn_HH4 )"
   ]
  },
  {
   "cell_type": "markdown",
   "metadata": {},
   "source": [
    "## Vergelijk van de verschillende Glassoorten\n",
    "Deze tabel functie is gemaakt om het warmteverlies van een gehele ruimte of woning in detail weer te geven. In de huidige situatie waar een aantal verschillende glasssoorten met elkaar worden vergeleken, is de onderste regel \"Totaal\", evenals enkele kolommen, volkomen zinloos. \n",
    "<br>Het rechter deel van de tabel (kolommen met de getallen erboven) geeft de kolomnaam de buitentemperatuur aan en de waarden in die kolom staan, is het warmteverlies in Watt dat door de muur weglekt bij die buitentemperatuur. \n",
    "<br>kolom Kosten    = de geschatte totale jaarlijke Energiekosten in Euros (bij gebruik van Gas)\n",
    "<br>kolom Kosten-m2 = de geschatte jaarlijke Energiekosten per m2 in Euros (bij gebruik van Gas)"
   ]
  },
  {
   "cell_type": "code",
   "execution_count": 9,
   "metadata": {
    "ExecuteTime": {
     "end_time": "2017-05-05T20:52:09.590751Z",
     "start_time": "2017-05-05T20:52:09.536607Z"
    },
    "run_control": {
     "frozen": false,
     "read_only": false
    }
   },
   "outputs": [
    {
     "data": {
      "text/html": [
       "<div>\n",
       "<style scoped>\n",
       "    .dataframe tbody tr th:only-of-type {\n",
       "        vertical-align: middle;\n",
       "    }\n",
       "\n",
       "    .dataframe tbody tr th {\n",
       "        vertical-align: top;\n",
       "    }\n",
       "\n",
       "    .dataframe thead th {\n",
       "        text-align: right;\n",
       "    }\n",
       "</style>\n",
       "<table border=\"1\" class=\"dataframe\">\n",
       "  <thead>\n",
       "    <tr style=\"text-align: right;\">\n",
       "      <th></th>\n",
       "      <th>R-waarde</th>\n",
       "      <th>U-waarde</th>\n",
       "      <th>Oppervlak</th>\n",
       "      <th>T-Binnen</th>\n",
       "      <th>T-Buiten</th>\n",
       "      <th>Kosten-m2</th>\n",
       "      <th>Kosten</th>\n",
       "      <th>Jaar-m3</th>\n",
       "      <th>-8</th>\n",
       "      <th>-6</th>\n",
       "      <th>-4</th>\n",
       "      <th>-2</th>\n",
       "      <th>0</th>\n",
       "      <th>2</th>\n",
       "      <th>4</th>\n",
       "      <th>6</th>\n",
       "      <th>8</th>\n",
       "      <th>10</th>\n",
       "    </tr>\n",
       "  </thead>\n",
       "  <tbody>\n",
       "    <tr>\n",
       "      <th>HR glas</th>\n",
       "      <td>0.35</td>\n",
       "      <td>2.8</td>\n",
       "      <td>12.25</td>\n",
       "      <td>20</td>\n",
       "      <td>0</td>\n",
       "      <td>14.91</td>\n",
       "      <td>182</td>\n",
       "      <td>228</td>\n",
       "      <td>960</td>\n",
       "      <td>891</td>\n",
       "      <td>823</td>\n",
       "      <td>754</td>\n",
       "      <td>686</td>\n",
       "      <td>617</td>\n",
       "      <td>548</td>\n",
       "      <td>480</td>\n",
       "      <td>411</td>\n",
       "      <td>343</td>\n",
       "    </tr>\n",
       "    <tr>\n",
       "      <th>HR++ glas</th>\n",
       "      <td>0.9</td>\n",
       "      <td>1.1</td>\n",
       "      <td>12.25</td>\n",
       "      <td>20</td>\n",
       "      <td>0</td>\n",
       "      <td>5.85</td>\n",
       "      <td>71</td>\n",
       "      <td>89</td>\n",
       "      <td>377</td>\n",
       "      <td>350</td>\n",
       "      <td>323</td>\n",
       "      <td>296</td>\n",
       "      <td>269</td>\n",
       "      <td>242</td>\n",
       "      <td>215</td>\n",
       "      <td>188</td>\n",
       "      <td>161</td>\n",
       "      <td>134</td>\n",
       "    </tr>\n",
       "    <tr>\n",
       "      <th>HR+++ glas</th>\n",
       "      <td>2</td>\n",
       "      <td>0.5</td>\n",
       "      <td>12.25</td>\n",
       "      <td>20</td>\n",
       "      <td>0</td>\n",
       "      <td>2.66</td>\n",
       "      <td>32</td>\n",
       "      <td>40</td>\n",
       "      <td>171</td>\n",
       "      <td>159</td>\n",
       "      <td>147</td>\n",
       "      <td>134</td>\n",
       "      <td>122</td>\n",
       "      <td>110</td>\n",
       "      <td>98</td>\n",
       "      <td>85</td>\n",
       "      <td>73</td>\n",
       "      <td>61</td>\n",
       "    </tr>\n",
       "    <tr>\n",
       "      <th>Kozijn Merbau</th>\n",
       "      <td>0.83</td>\n",
       "      <td>1.19</td>\n",
       "      <td>2.77</td>\n",
       "      <td>20</td>\n",
       "      <td>0</td>\n",
       "      <td>6.36</td>\n",
       "      <td>17</td>\n",
       "      <td>22</td>\n",
       "      <td>92</td>\n",
       "      <td>86</td>\n",
       "      <td>79</td>\n",
       "      <td>72</td>\n",
       "      <td>66</td>\n",
       "      <td>59</td>\n",
       "      <td>53</td>\n",
       "      <td>46</td>\n",
       "      <td>39</td>\n",
       "      <td>33</td>\n",
       "    </tr>\n",
       "    <tr>\n",
       "      <th>Kozijn Dark Red Meranti</th>\n",
       "      <td>0.92</td>\n",
       "      <td>1.08</td>\n",
       "      <td>2.77</td>\n",
       "      <td>20</td>\n",
       "      <td>0</td>\n",
       "      <td>5.78</td>\n",
       "      <td>16</td>\n",
       "      <td>20</td>\n",
       "      <td>84</td>\n",
       "      <td>78</td>\n",
       "      <td>72</td>\n",
       "      <td>66</td>\n",
       "      <td>60</td>\n",
       "      <td>54</td>\n",
       "      <td>48</td>\n",
       "      <td>42</td>\n",
       "      <td>36</td>\n",
       "      <td>30</td>\n",
       "    </tr>\n",
       "    <tr>\n",
       "      <th>Kozijn Grenen</th>\n",
       "      <td>1.09</td>\n",
       "      <td>0.91</td>\n",
       "      <td>2.77</td>\n",
       "      <td>20</td>\n",
       "      <td>0</td>\n",
       "      <td>4.87</td>\n",
       "      <td>13</td>\n",
       "      <td>16</td>\n",
       "      <td>71</td>\n",
       "      <td>65</td>\n",
       "      <td>60</td>\n",
       "      <td>55</td>\n",
       "      <td>50</td>\n",
       "      <td>45</td>\n",
       "      <td>40</td>\n",
       "      <td>35</td>\n",
       "      <td>30</td>\n",
       "      <td>25</td>\n",
       "    </tr>\n",
       "    <tr>\n",
       "      <th>Kozijn Vuren</th>\n",
       "      <td>1.26</td>\n",
       "      <td>0.79</td>\n",
       "      <td>2.77</td>\n",
       "      <td>20</td>\n",
       "      <td>0</td>\n",
       "      <td>4.22</td>\n",
       "      <td>11</td>\n",
       "      <td>14</td>\n",
       "      <td>61</td>\n",
       "      <td>57</td>\n",
       "      <td>52</td>\n",
       "      <td>48</td>\n",
       "      <td>43</td>\n",
       "      <td>39</td>\n",
       "      <td>35</td>\n",
       "      <td>30</td>\n",
       "      <td>26</td>\n",
       "      <td>21</td>\n",
       "    </tr>\n",
       "    <tr>\n",
       "      <th>Totaal</th>\n",
       "      <td>R-waarde</td>\n",
       "      <td>U-waarde</td>\n",
       "      <td>Oppervlak</td>\n",
       "      <td>T-Binnen</td>\n",
       "      <td>T-Buiten</td>\n",
       "      <td>Kosten-m2</td>\n",
       "      <td>342</td>\n",
       "      <td>429</td>\n",
       "      <td>1816</td>\n",
       "      <td>1686</td>\n",
       "      <td>1556</td>\n",
       "      <td>1425</td>\n",
       "      <td>1296</td>\n",
       "      <td>1166</td>\n",
       "      <td>1037</td>\n",
       "      <td>906</td>\n",
       "      <td>776</td>\n",
       "      <td>647</td>\n",
       "    </tr>\n",
       "  </tbody>\n",
       "</table>\n",
       "</div>"
      ],
      "text/plain": [
       "                         R-waarde  U-waarde  Oppervlak  T-Binnen  T-Buiten  \\\n",
       "HR glas                      0.35       2.8      12.25        20         0   \n",
       "HR++ glas                     0.9       1.1      12.25        20         0   \n",
       "HR+++ glas                      2       0.5      12.25        20         0   \n",
       "Kozijn Merbau                0.83      1.19       2.77        20         0   \n",
       "Kozijn Dark Red Meranti      0.92      1.08       2.77        20         0   \n",
       "Kozijn Grenen                1.09      0.91       2.77        20         0   \n",
       "Kozijn Vuren                 1.26      0.79       2.77        20         0   \n",
       "Totaal                   R-waarde  U-waarde  Oppervlak  T-Binnen  T-Buiten   \n",
       "\n",
       "                         Kosten-m2 Kosten Jaar-m3    -8    -6    -4    -2  \\\n",
       "HR glas                      14.91    182     228   960   891   823   754   \n",
       "HR++ glas                     5.85     71      89   377   350   323   296   \n",
       "HR+++ glas                    2.66     32      40   171   159   147   134   \n",
       "Kozijn Merbau                 6.36     17      22    92    86    79    72   \n",
       "Kozijn Dark Red Meranti       5.78     16      20    84    78    72    66   \n",
       "Kozijn Grenen                 4.87     13      16    71    65    60    55   \n",
       "Kozijn Vuren                  4.22     11      14    61    57    52    48   \n",
       "Totaal                   Kosten-m2    342     429  1816  1686  1556  1425   \n",
       "\n",
       "                            0     2     4    6    8   10  \n",
       "HR glas                   686   617   548  480  411  343  \n",
       "HR++ glas                 269   242   215  188  161  134  \n",
       "HR+++ glas                122   110    98   85   73   61  \n",
       "Kozijn Merbau              66    59    53   46   39   33  \n",
       "Kozijn Dark Red Meranti    60    54    48   42   36   30  \n",
       "Kozijn Grenen              50    45    40   35   30   25  \n",
       "Kozijn Vuren               43    39    35   30   26   21  \n",
       "Totaal                   1296  1166  1037  906  776  647  "
      ]
     },
     "execution_count": 9,
     "metadata": {},
     "output_type": "execute_result"
    }
   ],
   "source": [
    "Ts  = range ( -8, 12, 2 )\n",
    "Elements = [ HR_Glas, HRxx_Glas, HRxxx_Glas, Kozijn_HH1, Kozijn_HH2, Kozijn_HH3, Kozijn_HH4 ]\n",
    "Heat_Transfer_Table ( Elements, Ts )"
   ]
  },
  {
   "cell_type": "markdown",
   "metadata": {},
   "source": [
    "## Conclusie\n",
    "\n",
    "HR++ glas is ongeveer 3 keer beter dan HR glas.\n",
    "<br>HR++= glas is ongeveer 6 keer beter dan HR glas.\n",
    "\n",
    "\n",
    "Vanuit: https://www.verbouwkosten.com/dubbel-glas/kosten/#Per-m2\n",
    "<br>Van thermopane (het oude gewone dubbel glas) naar HR++ glas bespaart 10m3 gas / m2, hetgeen overeenkomt met 8 Euro / m2.\n",
    "<br>Installatie kost (exclusief afvoer en schilderen) 135 Euro / m2, wat neer komt op een terugverdientijd van 17 jaar !!\n",
    "<br>De kosten bestaan ruwweg voor de helft uit materiaalkosten en voor de helft uit arbeidskosten. Als we nu inschatten dat het schilderwerk ook nog eens dezelfde arbeidskosten vereist, komen we in totaal op een terugverdientijd van ongeveer 25 jaar.\n",
    "\n",
    "Op basis van mijn eigen berekeningen kom ik nog iets ongunstiger uit, namelijk een besparing van 6.5 Eur / m2,\n",
    "oftewel een terugverdientijd van 20 jaar zonder schilderwerk en 30 jaar met schilderwerk!!!\n",
    "\n",
    "Bij zelfdoen kom je dus uit op ongeveer de helft van de kosten en dus ook op ongeveer de helft van de terugverdientijd.\n",
    "\n",
    "Dus gooi het over de boeg van comfort !!!!\n",
    "<br><img src=\"Glas_Temperaturen.png\" width=\"50%\" height=\"5%\">\n",
    "\n",
    "Daarnaast is het waarschijnlijk interessant om (als het kozijn dat toelaat), meteen over te gaan naar HR+++ glas)\n",
    "\n",
    "Kozijnen maken toch een substantieel deel uit van het totale buitenoppervlak, in het algemeen 15 .. 20 % en in mijn geval zelfs 23% van het glas oppervlak. Op websites van leveranciers van kozijnen wordt vaak gerekend met een forfaitaire waarde van de isolatie-waarde van hout, waardoor een te slechte voorstelling van zaken wordt gegeven. Zoals de table hierboven laat zien, hebben alle houtsoorten een vergelijkbaarwarmteverlies als HR++ glas. Alleen in het geval dat HR+++ glas wordt genomen dienen andere kozijnen gebruikt te worden. De economische besparing van betere kozijnen bedraagt in mijn geval ongeveer 10 Euro per jaar."
   ]
  },
  {
   "cell_type": "code",
   "execution_count": null,
   "metadata": {},
   "outputs": [],
   "source": []
  }
 ],
 "metadata": {
  "anaconda-cloud": {},
  "extensions": {
   "jupyter_dashboards": {
    "activeView": "grid_default",
    "version": 1,
    "views": {
     "grid_default": {
      "cellMargin": 10,
      "defaultCellHeight": 20,
      "maxColumns": 12,
      "name": "grid",
      "type": "grid"
     },
     "report_default": {
      "name": "report",
      "type": "report"
     }
    }
   }
  },
  "gist": {
   "data": {
    "description": "Stef-Robbie-Notebook/Warmteverbruik_huiskamer.ipynb",
    "public": false
   },
   "id": ""
  },
  "hide_input": false,
  "kernelspec": {
   "display_name": "Python 3",
   "language": "python",
   "name": "python3"
  },
  "language_info": {
   "codemirror_mode": {
    "name": "ipython",
    "version": 3
   },
   "file_extension": ".py",
   "mimetype": "text/x-python",
   "name": "python",
   "nbconvert_exporter": "python",
   "pygments_lexer": "ipython3",
   "version": "3.6.6"
  },
  "latex_envs": {
   "bibliofile": "biblio.bib",
   "cite_by": "apalike",
   "current_citInitial": 1,
   "eqLabelWithNumbers": true,
   "eqNumInitial": 0
  },
  "nav_menu": {},
  "toc": {
   "navigate_menu": true,
   "number_sections": true,
   "sideBar": true,
   "threshold": 6,
   "toc_cell": true,
   "toc_section_display": "block",
   "toc_window_display": true
  },
  "toc_position": {
   "height": "824px",
   "left": "0px",
   "right": "20px",
   "top": "130px",
   "width": "193px"
  }
 },
 "nbformat": 4,
 "nbformat_minor": 2
}
