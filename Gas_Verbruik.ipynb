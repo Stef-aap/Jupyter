{
 "cells": [
  {
   "cell_type": "markdown",
   "metadata": {},
   "source": [
    "# Gas Verbruik"
   ]
  },
  {
   "cell_type": "markdown",
   "metadata": {},
   "source": [
    "## Imports"
   ]
  },
  {
   "cell_type": "code",
   "execution_count": 1,
   "metadata": {},
   "outputs": [],
   "source": [
    "%matplotlib widget\n",
    "#%matplotlib inline\n",
    "\n",
    "import sys\n",
    "sys.path.append ( \"D:/Data_Python_25/MQTT\" )\n",
    "from   mqttlog import *\n",
    "from   MQTT_Data_support import *\n",
    "\n",
    "from pylab import *\n",
    "import pylab\n",
    "plt.rcParams['figure.figsize'] = 15, 7"
   ]
  },
  {
   "cell_type": "markdown",
   "metadata": {},
   "source": [
    "## Get data over selected Periode"
   ]
  },
  {
   "cell_type": "code",
   "execution_count": 2,
   "metadata": {},
   "outputs": [
    {
     "name": "stdout",
     "output_type": "stream",
     "text": [
      "//Birgit-PC/mqttlog/huis/verdieping0/meterkast/SlimmeEnergieMeter\\2019-01-01.mqttlog.gz\n",
      "//Birgit-PC/mqttlog/huis/verdieping0/meterkast/SlimmeEnergieMeter\\2019-01-02.mqttlog.gz\n",
      "//Birgit-PC/mqttlog/huis/verdieping0/meterkast/SlimmeEnergieMeter\\2019-01-03.mqttlog.gz\n",
      "//Birgit-PC/mqttlog/huis/verdieping0/meterkast/SlimmeEnergieMeter\\2019-01-04.mqttlog.gz\n",
      "//Birgit-PC/mqttlog/huis/verdieping0/meterkast/SlimmeEnergieMeter\\2019-01-05.mqttlog.gz\n",
      "//Birgit-PC/mqttlog/huis/verdieping0/meterkast/SlimmeEnergieMeter\\2019-01-06.mqttlog.gz\n",
      "//Birgit-PC/mqttlog/huis/verdieping0/meterkast/SlimmeEnergieMeter\\2019-01-07.mqttlog.gz\n",
      "//Birgit-PC/mqttlog/huis/verdieping0/meterkast/SlimmeEnergieMeter\\2019-01-08.mqttlog.gz\n",
      "//Birgit-PC/mqttlog/huis/verdieping0/meterkast/SlimmeEnergieMeter\\2019-01-09.mqttlog.gz\n",
      "//Birgit-PC/mqttlog/huis/verdieping0/meterkast/SlimmeEnergieMeter\\2019-01-10.mqttlog.gz\n",
      "//Birgit-PC/mqttlog/huis/verdieping0/meterkast/SlimmeEnergieMeter\\2019-01-11.mqttlog.gz\n",
      "//Birgit-PC/mqttlog/huis/verdieping0/meterkast/SlimmeEnergieMeter\\2019-01-12.mqttlog.gz\n",
      "//Birgit-PC/mqttlog/huis/verdieping0/meterkast/SlimmeEnergieMeter\\2019-01-13.mqttlog.gz\n",
      "//Birgit-PC/mqttlog/huis/verdieping0/meterkast/SlimmeEnergieMeter\\2019-01-14.mqttlog.gz\n",
      "//Birgit-PC/mqttlog/huis/verdieping0/meterkast/SlimmeEnergieMeter\\2019-01-15.mqttlog.gz\n",
      "//Birgit-PC/mqttlog/huis/verdieping0/meterkast/SlimmeEnergieMeter\\2019-01-16.mqttlog.gz\n",
      "//Birgit-PC/mqttlog/huis/verdieping0/meterkast/SlimmeEnergieMeter\\2019-01-17.mqttlog.gz\n",
      "//Birgit-PC/mqttlog/huis/verdieping0/meterkast/SlimmeEnergieMeter\\2019-01-18.mqttlog.gz\n",
      "//Birgit-PC/mqttlog/huis/verdieping0/meterkast/SlimmeEnergieMeter\\2019-01-19.mqttlog.gz\n",
      "//Birgit-PC/mqttlog/huis/verdieping0/meterkast/SlimmeEnergieMeter\\2019-01-20.mqttlog.gz\n",
      "//Birgit-PC/mqttlog/huis/verdieping0/meterkast/SlimmeEnergieMeter\\2019-01-21.mqttlog.gz\n",
      "//Birgit-PC/mqttlog/huis/verdieping0/meterkast/SlimmeEnergieMeter\\2019-01-22.mqttlog.gz\n",
      "//Birgit-PC/mqttlog/huis/verdieping0/meterkast/SlimmeEnergieMeter\\2019-01-23.mqttlog.gz\n",
      "//Birgit-PC/mqttlog/huis/verdieping0/meterkast/SlimmeEnergieMeter\\2019-01-24.mqttlog.gz\n",
      "//Birgit-PC/mqttlog/huis/verdieping0/meterkast/SlimmeEnergieMeter\\2019-01-25.mqttlog.gz\n",
      "//Birgit-PC/mqttlog/huis/verdieping0/meterkast/SlimmeEnergieMeter\\2019-01-26.mqttlog.gz\n",
      "//Birgit-PC/mqttlog/huis/verdieping0/meterkast/SlimmeEnergieMeter\\2019-01-27.mqttlog.gz\n",
      "//Birgit-PC/mqttlog/huis/verdieping0/meterkast/SlimmeEnergieMeter\\2019-01-28.mqttlog.gz\n",
      "//Birgit-PC/mqttlog/huis/verdieping0/meterkast/SlimmeEnergieMeter\\2019-01-29.mqttlog.gz\n",
      "//Birgit-PC/mqttlog/huis/verdieping0/meterkast/SlimmeEnergieMeter\\2019-01-30.mqttlog.gz\n",
      "//Birgit-PC/mqttlog/huis/verdieping0/meterkast/SlimmeEnergieMeter\\2019-01-31.mqttlog.gz\n",
      "//Birgit-PC/mqttlog/huis/verdieping0/meterkast/SlimmeEnergieMeter\\2019-02-01.mqttlog.gz\n",
      "//Birgit-PC/mqttlog/huis/verdieping0/meterkast/SlimmeEnergieMeter\\2019-02-02.mqttlog.gz\n",
      "//Birgit-PC/mqttlog/huis/verdieping0/meterkast/SlimmeEnergieMeter\\2019-02-03.mqttlog.gz\n",
      "//Birgit-PC/mqttlog/huis/verdieping0/meterkast/SlimmeEnergieMeter\\2019-02-04.mqttlog.gz\n",
      "//Birgit-PC/mqttlog/huis/verdieping0/meterkast/SlimmeEnergieMeter\\2019-02-05.mqttlog.gz\n",
      "//Birgit-PC/mqttlog/huis/verdieping0/meterkast/SlimmeEnergieMeter\\2019-02-06.mqttlog.gz\n",
      "//Birgit-PC/mqttlog/huis/verdieping0/meterkast/SlimmeEnergieMeter\\2019-02-07.mqttlog.gz\n",
      "//Birgit-PC/mqttlog/huis/verdieping0/meterkast/SlimmeEnergieMeter\\2019-02-08.mqttlog.gz\n",
      "//Birgit-PC/mqttlog/huis/verdieping0/meterkast/SlimmeEnergieMeter\\2019-02-09.mqttlog.gz\n",
      "//Birgit-PC/mqttlog/huis/verdieping0/meterkast/SlimmeEnergieMeter\\2019-02-10.mqttlog.gz\n",
      "//Birgit-PC/mqttlog/huis/verdieping0/meterkast/SlimmeEnergieMeter\\2019-02-11.mqttlog.gz\n",
      "//Birgit-PC/mqttlog/huis/verdieping0/meterkast/SlimmeEnergieMeter\\2019-02-12.mqttlog.gz\n"
     ]
    }
   ],
   "source": [
    "Start = \"2019-01-01\"\n",
    "End   = \"2019-02-12\"\n",
    "Dir   = \"//Birgit-PC/mqttlog/huis/verdieping0/meterkast/SlimmeEnergieMeter/\"\n",
    "Data  = ReadMQTTDir ( Dir, ReadMQTT_NumberDict, Start, End ) "
   ]
  },
  {
   "cell_type": "code",
   "execution_count": 3,
   "metadata": {},
   "outputs": [
    {
     "name": "stdout",
     "output_type": "stream",
     "text": [
      "//Birgit-PC/mqttlog/huis/verdieping0/huiskamer/Brain_Thermostaat_\\2019-01-12.mqttlog.gz\n",
      "//Birgit-PC/mqttlog/huis/verdieping0/huiskamer/Brain_Thermostaat_\\2019-01-13.mqttlog.gz\n",
      "//Birgit-PC/mqttlog/huis/verdieping0/huiskamer/Brain_Thermostaat_\\2019-01-14.mqttlog.gz\n",
      "//Birgit-PC/mqttlog/huis/verdieping0/huiskamer/Brain_Thermostaat_\\2019-01-15.mqttlog.gz\n",
      "//Birgit-PC/mqttlog/huis/verdieping0/huiskamer/Brain_Thermostaat_\\2019-01-16.mqttlog.gz\n",
      "//Birgit-PC/mqttlog/huis/verdieping0/huiskamer/Brain_Thermostaat_\\2019-01-17.mqttlog.gz\n",
      "//Birgit-PC/mqttlog/huis/verdieping0/huiskamer/Brain_Thermostaat_\\2019-01-18.mqttlog.gz\n",
      "//Birgit-PC/mqttlog/huis/verdieping0/huiskamer/Brain_Thermostaat_\\2019-01-19.mqttlog.gz\n",
      "//Birgit-PC/mqttlog/huis/verdieping0/huiskamer/Brain_Thermostaat_\\2019-01-20.mqttlog.gz\n",
      "//Birgit-PC/mqttlog/huis/verdieping0/huiskamer/Brain_Thermostaat_\\2019-01-21.mqttlog.gz\n",
      "//Birgit-PC/mqttlog/huis/verdieping0/huiskamer/Brain_Thermostaat_\\2019-01-22.mqttlog.gz\n",
      "//Birgit-PC/mqttlog/huis/verdieping0/huiskamer/Brain_Thermostaat_\\2019-01-23.mqttlog.gz\n",
      "//Birgit-PC/mqttlog/huis/verdieping0/huiskamer/Brain_Thermostaat_\\2019-01-24.mqttlog.gz\n",
      "//Birgit-PC/mqttlog/huis/verdieping0/huiskamer/Brain_Thermostaat_\\2019-01-25.mqttlog.gz\n",
      "//Birgit-PC/mqttlog/huis/verdieping0/huiskamer/Brain_Thermostaat_\\2019-01-26.mqttlog.gz\n",
      "//Birgit-PC/mqttlog/huis/verdieping0/huiskamer/Brain_Thermostaat_\\2019-01-27.mqttlog.gz\n",
      "//Birgit-PC/mqttlog/huis/verdieping0/huiskamer/Brain_Thermostaat_\\2019-01-28.mqttlog.gz\n",
      "//Birgit-PC/mqttlog/huis/verdieping0/huiskamer/Brain_Thermostaat_\\2019-01-29.mqttlog.gz\n",
      "//Birgit-PC/mqttlog/huis/verdieping0/huiskamer/Brain_Thermostaat_\\2019-01-30.mqttlog.gz\n",
      "//Birgit-PC/mqttlog/huis/verdieping0/huiskamer/Brain_Thermostaat_\\2019-01-31.mqttlog.gz\n",
      "//Birgit-PC/mqttlog/huis/verdieping0/huiskamer/Brain_Thermostaat_\\2019-02-01.mqttlog.gz\n",
      "//Birgit-PC/mqttlog/huis/verdieping0/huiskamer/Brain_Thermostaat_\\2019-02-02.mqttlog.gz\n",
      "//Birgit-PC/mqttlog/huis/verdieping0/huiskamer/Brain_Thermostaat_\\2019-02-03.mqttlog.gz\n",
      "//Birgit-PC/mqttlog/huis/verdieping0/huiskamer/Brain_Thermostaat_\\2019-02-04.mqttlog.gz\n",
      "//Birgit-PC/mqttlog/huis/verdieping0/huiskamer/Brain_Thermostaat_\\2019-02-05.mqttlog.gz\n",
      "//Birgit-PC/mqttlog/huis/verdieping0/huiskamer/Brain_Thermostaat_\\2019-02-06.mqttlog.gz\n",
      "//Birgit-PC/mqttlog/huis/verdieping0/huiskamer/Brain_Thermostaat_\\2019-02-07.mqttlog.gz\n",
      "//Birgit-PC/mqttlog/huis/verdieping0/huiskamer/Brain_Thermostaat_\\2019-02-09.mqttlog.gz\n",
      "//Birgit-PC/mqttlog/huis/verdieping0/huiskamer/Brain_Thermostaat_\\2019-02-10.mqttlog.gz\n",
      "//Birgit-PC/mqttlog/huis/verdieping0/huiskamer/Brain_Thermostaat_\\2019-02-11.mqttlog.gz\n",
      "//Birgit-PC/mqttlog/huis/verdieping0/huiskamer/Brain_Thermostaat_\\2019-02-12.mqttlog.gz\n"
     ]
    }
   ],
   "source": [
    "    # Brain Ketel Thermostaat\n",
    "    # {\"T_Boiler\": 62, \"T_Ruimte\": 19.0, \"T_Ingesteld\": 21.0, \"Pomp_perc\": 25, \"T_Retour\": 37, \n",
    "    #  \"Vermogen_kW\": 0.0, \"Vermogen_perc\": 0, \"V_Ventilator\": 0, \"T_Aanvoer\": 38} \n",
    "    # — huis/verdieping0/huiskamer/Brain_Thermostaat_\n",
    "Dir   = \"//Birgit-PC/mqttlog/huis/verdieping0/huiskamer/Brain_Thermostaat_/\"\n",
    "Data2  = ReadMQTTDir ( Dir, ReadMQTT_NumberDict, Start, End ) "
   ]
  },
  {
   "cell_type": "markdown",
   "metadata": {},
   "source": [
    "## Create Plots"
   ]
  },
  {
   "cell_type": "code",
   "execution_count": 4,
   "metadata": {},
   "outputs": [
    {
     "data": {
      "application/vnd.jupyter.widget-view+json": {
       "model_id": "f95d503f3d7a49ee9fa90959ad8f8d62",
       "version_major": 2,
       "version_minor": 0
      },
      "text/plain": [
       "FigureCanvasNbAgg()"
      ]
     },
     "metadata": {},
     "output_type": "display_data"
    }
   ],
   "source": [
    "  plt.rcParams['figure.figsize'] = 11, 7\n",
    "\n",
    "  ax2 = Data.plot ( y = [ \"Gas\" ] )\n",
    "  #ax3 = Data.plot ( y = [ \"W_Dag\" ], secondary_y=True, ax=ax2 )\n",
    "    \n",
    "  ax22 = Data2.plot ( y = [ \"T_Boiler\" ], secondary_y=True, ax=ax2  )\n",
    "    \n",
    "  Draw_Grids ( ax2 )\n",
    "    "
   ]
  },
  {
   "cell_type": "code",
   "execution_count": 5,
   "metadata": {},
   "outputs": [
    {
     "data": {
      "text/plain": [
       "Index(['E_Dag', 'E_Hoog_Tarief', 'E_Hoog_Tarief_Terug', 'E_Laag_Tarief',\n",
       "       'E_Laag_Tarief_Terug', 'E_Week', 'E_Year', 'E_Yes', 'G_Dag', 'G_Week',\n",
       "       'G_Year', 'G_Yes', 'Gas', 'Gas_Total', 'P1', 'P2', 'P3', 'P_All',\n",
       "       'Time', 'W_Dag', 'W_Week', 'W_Year', 'W_Yes', 'Water'],\n",
       "      dtype='object')"
      ]
     },
     "execution_count": 5,
     "metadata": {},
     "output_type": "execute_result"
    }
   ],
   "source": [
    "Data.columns"
   ]
  },
  {
   "cell_type": "code",
   "execution_count": 6,
   "metadata": {},
   "outputs": [
    {
     "data": {
      "application/vnd.jupyter.widget-view+json": {
       "model_id": "a46965d115694c51998bd7e2a1159bbc",
       "version_major": 2,
       "version_minor": 0
      },
      "text/plain": [
       "FigureCanvasNbAgg()"
      ]
     },
     "metadata": {},
     "output_type": "display_data"
    }
   ],
   "source": [
    "  ax10 = Data.plot ( y = [ \"W_Dag\" ] )\n",
    "  ax11 = Data.plot ( y = [\"Water\"], secondary_y= True, ax=ax10 )\n",
    "  Draw_Grids ( ax10 )"
   ]
  },
  {
   "cell_type": "code",
   "execution_count": 7,
   "metadata": {},
   "outputs": [
    {
     "data": {
      "application/vnd.jupyter.widget-view+json": {
       "model_id": "2c4072fa41a74043962063b2e0aa051a",
       "version_major": 2,
       "version_minor": 0
      },
      "text/plain": [
       "FigureCanvasNbAgg()"
      ]
     },
     "metadata": {},
     "output_type": "display_data"
    }
   ],
   "source": [
    "  ax30 = Data2.plot ( y = [ \"Vermogen_kW\" ] )\n",
    "  ax31 = Data2.plot ( y = [ \"T_Boiler\" ], secondary_y=True, ax=ax30  )\n",
    "  ax32 = Data2.plot ( y = [ \"T_Aanvoer\" ], secondary_y=True, ax=ax30  )\n",
    "  ax33 = Data2.plot ( y = [ \"T_Retour\" ], secondary_y=True, ax=ax30  )\n",
    "  Draw_Grids ( ax30 )"
   ]
  },
  {
   "cell_type": "code",
   "execution_count": 8,
   "metadata": {},
   "outputs": [
    {
     "data": {
      "text/plain": [
       "Index(['E_Dag', 'E_Hoog_Tarief', 'E_Hoog_Tarief_Terug', 'E_Laag_Tarief',\n",
       "       'E_Laag_Tarief_Terug', 'E_Week', 'E_Year', 'E_Yes', 'G_Dag', 'G_Week',\n",
       "       'G_Year', 'G_Yes', 'Gas', 'Gas_Total', 'P1', 'P2', 'P3', 'P_All',\n",
       "       'Time', 'W_Dag', 'W_Week', 'W_Year', 'W_Yes', 'Water'],\n",
       "      dtype='object')"
      ]
     },
     "execution_count": 8,
     "metadata": {},
     "output_type": "execute_result"
    }
   ],
   "source": [
    "Data.columns"
   ]
  },
  {
   "cell_type": "code",
   "execution_count": 9,
   "metadata": {},
   "outputs": [
    {
     "data": {
      "text/plain": [
       "Index(['Pomp_perc', 'T_Aanvoer', 'T_Boiler', 'T_Ingesteld', 'T_Retour',\n",
       "       'T_Ruimte', 'V_Ventilator', 'Vermogen_kW', 'Vermogen_perc'],\n",
       "      dtype='object')"
      ]
     },
     "execution_count": 9,
     "metadata": {},
     "output_type": "execute_result"
    }
   ],
   "source": [
    "Data2.columns"
   ]
  },
  {
   "cell_type": "code",
   "execution_count": null,
   "metadata": {},
   "outputs": [],
   "source": []
  }
 ],
 "metadata": {
  "kernelspec": {
   "display_name": "Python 3",
   "language": "python",
   "name": "python3"
  },
  "language_info": {
   "codemirror_mode": {
    "name": "ipython",
    "version": 3
   },
   "file_extension": ".py",
   "mimetype": "text/x-python",
   "name": "python",
   "nbconvert_exporter": "python",
   "pygments_lexer": "ipython3",
   "version": "3.6.6"
  }
 },
 "nbformat": 4,
 "nbformat_minor": 2
}
