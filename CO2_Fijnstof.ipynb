{
 "cells": [
  {
   "cell_type": "markdown",
   "metadata": {},
   "source": [
    "# CO2 en Fijnstof"
   ]
  },
  {
   "cell_type": "markdown",
   "metadata": {},
   "source": [
    "## Imports"
   ]
  },
  {
   "cell_type": "code",
   "execution_count": 1,
   "metadata": {},
   "outputs": [],
   "source": [
    "%matplotlib widget\n",
    "#%matplotlib inline\n",
    "\n",
    "import sys\n",
    "sys.path.append ( \"D:/Data_Python_25/MQTT\" )\n",
    "from   mqttlog import *\n",
    "from   MQTT_Data_support import *\n",
    "\n",
    "from pylab import *\n",
    "import pylab\n",
    "plt.rcParams['figure.figsize'] = 15, 7"
   ]
  },
  {
   "cell_type": "markdown",
   "metadata": {},
   "source": [
    "## Get data over selected Periode"
   ]
  },
  {
   "cell_type": "code",
   "execution_count": 2,
   "metadata": {},
   "outputs": [
    {
     "name": "stdout",
     "output_type": "stream",
     "text": [
      "//Birgit-PC/mqttlog/huis/verdieping0/ergens/Temperatuur_Kalibratie_02_\\2019-02-20.mqttlog.gz   Error_Count = 1\n",
      "//Birgit-PC/mqttlog/huis/verdieping0/ergens/Temperatuur_Kalibratie_02_\\2019-02-21.mqttlog.gz\n",
      "//Birgit-PC/mqttlog/huis/verdieping0/ergens/Temperatuur_Kalibratie_02_\\2019-02-22.mqttlog.gz\n",
      "//Birgit-PC/mqttlog/huis/verdieping0/ergens/Temperatuur_Kalibratie_02_\\2019-02-23.mqttlog.gz   Error_Count = 1\n",
      "//Birgit-PC/mqttlog/huis/verdieping0/ergens/Temperatuur_Kalibratie_02_\\2019-02-24.mqttlog.gz\n",
      "//Birgit-PC/mqttlog/huis/verdieping0/ergens/Temperatuur_Kalibratie_02_\\2019-02-25.mqttlog.gz\n",
      "//Birgit-PC/mqttlog/huis/verdieping0/ergens/Temperatuur_Kalibratie_02_\\2019-02-26.mqttlog.gz\n",
      "//Birgit-PC/mqttlog/huis/verdieping0/ergens/Temperatuur_Kalibratie_02_\\2019-02-27.mqttlog\n",
      "//Birgit-PC/mqttlog/huis/verdieping0/ergens/Temperatuur_Kalibratie_02b_\\2019-02-20.mqttlog.gz\n",
      "//Birgit-PC/mqttlog/huis/verdieping0/ergens/Temperatuur_Kalibratie_02b_\\2019-02-21.mqttlog.gz\n",
      "//Birgit-PC/mqttlog/huis/verdieping0/ergens/Temperatuur_Kalibratie_02b_\\2019-02-22.mqttlog.gz\n",
      "//Birgit-PC/mqttlog/huis/verdieping0/ergens/Temperatuur_Kalibratie_02b_\\2019-02-23.mqttlog.gz\n",
      "//Birgit-PC/mqttlog/huis/verdieping0/ergens/Temperatuur_Kalibratie_02b_\\2019-02-24.mqttlog.gz\n",
      "//Birgit-PC/mqttlog/huis/verdieping0/ergens/Temperatuur_Kalibratie_02b_\\2019-02-25.mqttlog.gz\n",
      "//Birgit-PC/mqttlog/huis/verdieping0/ergens/Temperatuur_Kalibratie_02b_\\2019-02-26.mqttlog.gz\n",
      "//Birgit-PC/mqttlog/huis/verdieping0/ergens/Temperatuur_Kalibratie_02b_\\2019-02-27.mqttlog\n",
      "//Birgit-PC/mqttlog/huis/verdieping0/ergens/Temperatuur_Kalibratie_02c_\\2019-02-20.mqttlog.gz\n",
      "//Birgit-PC/mqttlog/huis/verdieping0/ergens/Temperatuur_Kalibratie_02c_\\2019-02-21.mqttlog.gz\n",
      "//Birgit-PC/mqttlog/huis/verdieping0/ergens/Temperatuur_Kalibratie_02c_\\2019-02-22.mqttlog.gz\n",
      "//Birgit-PC/mqttlog/huis/verdieping0/ergens/Temperatuur_Kalibratie_02c_\\2019-02-23.mqttlog.gz\n",
      "//Birgit-PC/mqttlog/huis/verdieping0/ergens/Temperatuur_Kalibratie_02c_\\2019-02-24.mqttlog.gz\n",
      "//Birgit-PC/mqttlog/huis/verdieping0/ergens/Temperatuur_Kalibratie_02c_\\2019-02-25.mqttlog.gz\n",
      "//Birgit-PC/mqttlog/huis/verdieping0/ergens/Temperatuur_Kalibratie_02c_\\2019-02-26.mqttlog.gz\n",
      "//Birgit-PC/mqttlog/huis/verdieping0/ergens/Temperatuur_Kalibratie_02c_\\2019-02-27.mqttlog\n"
     ]
    },
    {
     "data": {
      "text/plain": [
       "'\\nDir   = \"//Birgit-PC/mqttlog/huis/verdieping0/voortuin/FijnStof_2_/\"\\nData_f  = ReadMQTTDir ( Dir, ReadMQTT_NumberDict, Start, End ) \\nData_f.drop ( [\"sensordatavalues_0_value_type\",\"sensordatavalues_1_value_type\",\\n               \"sensordatavalues_2_value_type\",\"sensordatavalues_3_value_type\",\\n               \"sensordatavalues_2_value\",\"sensordatavalues_3_value\",\\n               \"software_version\", \"SSID\"], axis=\"columns\", inplace=True )\\nData_f.rename ( columns = { \"sensordatavalues_0_value\":\"PM10\", \"sensordatavalues_1_value\":\"PM2_5\" }, inplace = True )\\nData_f.clip ( upper=50, inplace=True )\\n\\n#    { \"MHZ14_CO2_ppm\":1474, \"Time_ms\":2270000, \"BME280_Temperature\":27.59, \"BME280_Pressure\":1021, \"BME280_Humidity\":41, \"DT28cc885500000050\":25.00, \"DT285d4e91010000f4\":25.50 }\\n  # {\"software_version\": \"NRZ-2017-100\", \\n  #  \"sensordatavalues\":[{\"value_type\":\"SDS_P1\",\"value\":\"12.16\"},\\n  #                      {\"value_type\":\"SDS_P2\",\"value\":\"8.38\"},\\n  #                      {\"value_type\":\"samples\",\"value\":\"198111550\"},\\n  #                      {\"value_type\":\"signal\",\"value\":\"-74\"}],\\n  #  \"SSID\":\"MiRa_Home_Router\"} \\n  # — huis/verdieping0/voortuin/FijnStof_2_\\n  # ********************************************************\\n'"
      ]
     },
     "execution_count": 2,
     "metadata": {},
     "output_type": "execute_result"
    }
   ],
   "source": [
    "  Start = \"2019-02-20\"\n",
    "  End   = \"2019-03-01\"\n",
    "\n",
    "  Dir   = \"//Birgit-PC/mqttlog/huis/verdieping0/ergens/Temperatuur_Kalibratie_02_/\"\n",
    "  Data_a  = ReadMQTTDir ( Dir, ReadMQTT_NumberDict, Start, End ) \n",
    "  Data_a.drop ( [ \"Time_ms\" ], axis=\"columns\", inplace=True )\n",
    "  Data_a.rename ( columns = { \"BME280_Humidity\":\"RH\", \"BME280_Pressure\":\"LuchtDruk\", \n",
    "                              \"BME280_Temperature\":\"T\", \"MHZ14_CO2_ppm\":\"CO2_a\" }, inplace=True )\n",
    "\n",
    "  Dir   = \"//Birgit-PC/mqttlog/huis/verdieping0/ergens/Temperatuur_Kalibratie_02b_/\"\n",
    "  Data_b  = ReadMQTTDir ( Dir, ReadMQTT_NumberDict, Start, End ) \n",
    "  Data_b.drop ( [ \"BME280_Humidity\", \"BME280_Pressure\", \"BME280_Temperature\", \"Time_ms\" ], axis=\"columns\", inplace=True )\n",
    "  Data_b.rename ( columns = { \"MHZ14_CO2_ppm\":\"CO2_b\" }, inplace=True )\n",
    "\n",
    "  Dir   = \"//Birgit-PC/mqttlog/huis/verdieping0/ergens/Temperatuur_Kalibratie_02c_/\"\n",
    "  Data_c  = ReadMQTTDir ( Dir, ReadMQTT_NumberDict, Start, End ) \n",
    "  Data_c.drop ( [ \"BME280_Humidity\", \"BME280_Pressure\", \"BME280_Temperature\", \"Time_ms\" ], axis=\"columns\", inplace=True )\n",
    "  Data_c.rename ( columns = { \"MHZ14_CO2_ppm\":\"CO2_c\" }, inplace=True )\n",
    "\n",
    "  \"\"\"\n",
    "  Dir   = \"//Birgit-PC/mqttlog/huis/verdieping0/voortuin/FijnStof_2_/\"\n",
    "  Data_f  = ReadMQTTDir ( Dir, ReadMQTT_NumberDict, Start, End ) \n",
    "  Data_f.drop ( [\"sensordatavalues_0_value_type\",\"sensordatavalues_1_value_type\",\n",
    "                 \"sensordatavalues_2_value_type\",\"sensordatavalues_3_value_type\",\n",
    "                 \"sensordatavalues_2_value\",\"sensordatavalues_3_value\",\n",
    "                 \"software_version\", \"SSID\"], axis=\"columns\", inplace=True )\n",
    "  Data_f.rename ( columns = { \"sensordatavalues_0_value\":\"PM10\", \"sensordatavalues_1_value\":\"PM2_5\" }, inplace = True )\n",
    "  Data_f.clip ( upper=50, inplace=True )\n",
    "\n",
    "  #    { \"MHZ14_CO2_ppm\":1474, \"Time_ms\":2270000, \"BME280_Temperature\":27.59, \"BME280_Pressure\":1021, \"BME280_Humidity\":41, \"DT28cc885500000050\":25.00, \"DT285d4e91010000f4\":25.50 }\n",
    "    # {\"software_version\": \"NRZ-2017-100\", \n",
    "    #  \"sensordatavalues\":[{\"value_type\":\"SDS_P1\",\"value\":\"12.16\"},\n",
    "    #                      {\"value_type\":\"SDS_P2\",\"value\":\"8.38\"},\n",
    "    #                      {\"value_type\":\"samples\",\"value\":\"198111550\"},\n",
    "    #                      {\"value_type\":\"signal\",\"value\":\"-74\"}],\n",
    "    #  \"SSID\":\"MiRa_Home_Router\"} \n",
    "    # — huis/verdieping0/voortuin/FijnStof_2_\n",
    "    # ********************************************************\n",
    "\"\"\""
   ]
  },
  {
   "cell_type": "code",
   "execution_count": 3,
   "metadata": {},
   "outputs": [
    {
     "name": "stdout",
     "output_type": "stream",
     "text": [
      "Index(['RH', 'LuchtDruk', 'T', 'DT28cc885500000050', 'CO2_a'], dtype='object')\n",
      "Index(['CO2_b'], dtype='object')\n",
      "Index(['CO2_c'], dtype='object')\n"
     ]
    }
   ],
   "source": [
    "print ( Data_a.columns )\n",
    "print ( Data_b.columns )\n",
    "print ( Data_c.columns )\n",
    "#print ( Data_f.columns )"
   ]
  },
  {
   "cell_type": "markdown",
   "metadata": {},
   "source": [
    "## Create Plots"
   ]
  },
  {
   "cell_type": "code",
   "execution_count": 4,
   "metadata": {},
   "outputs": [
    {
     "data": {
      "application/vnd.jupyter.widget-view+json": {
       "model_id": "ad348b3b0a4142bbb45c31f522a3aaa4",
       "version_major": 2,
       "version_minor": 0
      },
      "text/plain": [
       "FigureCanvasNbAgg()"
      ]
     },
     "metadata": {},
     "output_type": "display_data"
    }
   ],
   "source": [
    "  plt.rcParams['figure.figsize'] = 11, 7\n",
    "\n",
    "  ax1 = Data_a.plot ( y = [ \"T\", \"RH\" ] )\n",
    "  ax2 = Data_a.plot ( y = [ \"CO2_a\" ], secondary_y=True, ax=ax1 )\n",
    "  #ax6 = Data_f.plot ( y = [ \"PM10\", \"PM2_5\" ], ax=ax1 )\n",
    "  Draw_Grids ( ax1 )    "
   ]
  },
  {
   "cell_type": "code",
   "execution_count": null,
   "metadata": {},
   "outputs": [],
   "source": []
  },
  {
   "cell_type": "code",
   "execution_count": null,
   "metadata": {},
   "outputs": [],
   "source": []
  },
  {
   "cell_type": "code",
   "execution_count": 5,
   "metadata": {},
   "outputs": [
    {
     "data": {
      "application/vnd.jupyter.widget-view+json": {
       "model_id": "573a288e787e499c9384eefc0be5359d",
       "version_major": 2,
       "version_minor": 0
      },
      "text/plain": [
       "FigureCanvasNbAgg()"
      ]
     },
     "metadata": {},
     "output_type": "display_data"
    }
   ],
   "source": [
    "  ax10 = Data_a.plot ( y = [ \"CO2_a\" ] )\n",
    "  ax11 = Data_b.plot ( y = [ \"CO2_b\" ], ax=ax10 )\n",
    "  ax12 = Data_c.plot ( y = [ \"CO2_c\" ], ax=ax10 )\n",
    "  Draw_Grids ( ax10 )    "
   ]
  },
  {
   "cell_type": "code",
   "execution_count": 6,
   "metadata": {},
   "outputs": [
    {
     "data": {
      "application/vnd.jupyter.widget-view+json": {
       "model_id": "9a6bbae401c7485fb54b76e32b877426",
       "version_major": 2,
       "version_minor": 0
      },
      "text/plain": [
       "FigureCanvasNbAgg()"
      ]
     },
     "metadata": {},
     "output_type": "display_data"
    }
   ],
   "source": [
    "  ax20 = Data_a.plot ( y = [ \"T\"] )\n",
    "  Draw_Grids ( ax20 )    "
   ]
  },
  {
   "cell_type": "code",
   "execution_count": null,
   "metadata": {},
   "outputs": [],
   "source": [
    "\n"
   ]
  },
  {
   "cell_type": "code",
   "execution_count": null,
   "metadata": {},
   "outputs": [],
   "source": []
  },
  {
   "cell_type": "code",
   "execution_count": null,
   "metadata": {},
   "outputs": [],
   "source": []
  }
 ],
 "metadata": {
  "kernelspec": {
   "display_name": "Python 3",
   "language": "python",
   "name": "python3"
  },
  "language_info": {
   "codemirror_mode": {
    "name": "ipython",
    "version": 3
   },
   "file_extension": ".py",
   "mimetype": "text/x-python",
   "name": "python",
   "nbconvert_exporter": "python",
   "pygments_lexer": "ipython3",
   "version": "3.6.6"
  }
 },
 "nbformat": 4,
 "nbformat_minor": 2
}
