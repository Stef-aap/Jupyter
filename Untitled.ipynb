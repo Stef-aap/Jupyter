{
 "cells": [
  {
   "cell_type": "code",
   "execution_count": 1,
   "metadata": {},
   "outputs": [],
   "source": [
    "test=3"
   ]
  },
  {
   "cell_type": "code",
   "execution_count": null,
   "metadata": {},
   "outputs": [],
   "source": [
    "  Data_a[\"X2\"] = Data_a.applymap ( Comfort, Data_a[\"BME280_Temperature\"], Data_a[\"BME280_Humidity\"])\n",
    "  Data_a[\"Comfort2\"] = 5*Data_a[\"X2\"]\n",
    "  ax5 = Data_a.plot ( y = [ \"Comfort2\" ], ax=ax1 )\n",
    "\n"
   ]
  },
  {
   "cell_type": "markdown",
   "metadata": {
    "extensions": {
     "jupyter_dashboards": {
      "version": 1,
      "views": {
       "grid_default": {
        "col": 4,
        "height": 4,
        "hidden": false,
        "row": 35,
        "width": 4
       },
       "report_default": {}
      }
     }
    }
   },
   "source": [
    "## Vloer"
   ]
  },
  {
   "cell_type": "markdown",
   "metadata": {
    "extensions": {
     "jupyter_dashboards": {
      "version": 1,
      "views": {
       "grid_default": {
        "col": 0,
        "height": 4,
        "hidden": false,
        "row": 39,
        "width": 12
       },
       "report_default": {}
      }
     }
    }
   },
   "source": [
    "Het vierkant van de kamer meet 7.00 * 7.00 meter. \n",
    "<br>De extra hoek van de keuken wordt gecompenseerd door de hoek die wegvalt van hal + wc.\n",
    "<br>De vloer is samengesteld uit beton met daaronder piepschuim. De dikte van beide lagen moet nog worden opgemeten.\n",
    "<br>Bij een buitentemperatuur net onder het vriesput is de temperatuur van de kruipruimte behoorlijk constant en bedraagt ongeveer 7 Celcius.\n",
    "<img src=\"aap.jpg\">\n",
    "<img src=\"overgangsweerstanden1.gif\">"
   ]
  },
  {
   "cell_type": "code",
   "execution_count": 3,
   "metadata": {
    "ExecuteTime": {
     "end_time": "2017-05-05T20:52:07.446636Z",
     "start_time": "2017-05-05T20:52:07.425579Z"
    },
    "extensions": {
     "jupyter_dashboards": {
      "version": 1,
      "views": {
       "grid_default": {
        "col": 0,
        "height": 10,
        "hidden": false,
        "row": 43,
        "width": 4
       },
       "report_default": {}
      }
     }
    },
    "run_control": {
     "frozen": false,
     "read_only": false
    }
   },
   "outputs": [
    {
     "name": "stdout",
     "output_type": "stream",
     "text": [
      "Name        = Woonkamer.Vloer\n",
      "Lengte      = 7.0 [m]\n",
      "Breedte     = 7.0 [m]\n",
      "Oppervlakte = 49.0 [m2]\n",
      "R-Waarde    = 5.83 [m2.K/W]\n",
      "U-Waarde    = 0.17 [W/m2.K]\n",
      "T-Inside    = 19.0 [Celcius]\n",
      "T-Outside   = 7.0 [Celcius]\n",
      "Heat Loss   = 100 [W]\n",
      "===========  Kosten per m2, 24 uur per dag, 100 dagen =========\n",
      "Heat Loss 1m2   = 2 [W]\n",
      "Energy Cost 1m2 = 0.40 [Euro]\n",
      "Gasprijs        = 0.80 [Euro]\n",
      "Layer[s]    = [ Woonkamer Vloer Beton, Woonkamer Vloer Piepschuim,  ]\n",
      "Dikte[s]    = [ 0.200, 0.200,  ] [m]\n",
      "R-Waarde[s] = [ 0.12, 5.71,  ] [m2.K/W]\n",
      "U-Waarde[s] = [ 8.50, 0.17,  ] [W/m2.K]\n",
      "T-Inside    = 19.0 [Celcius]\n",
      "T-Outside   = 7.0 [Celcius]\n",
      "Heat Loss   = 100 [W]\n",
      "\n"
     ]
    }
   ],
   "source": [
    "Woonkamer_Vloer = Heat_Transfer_Object ( \"Woonkamer Vloer Beton\" )  \n",
    "Woonkamer_Vloer.Lambda = Beton_Zwaar_Lambda\n",
    "Woonkamer_Vloer.Dikte = 0.20\n",
    "#print ( Woonkamer_Vloer )\n",
    "\n",
    "Woonkamer_Piepschuim = Heat_Transfer_Object ( \"Woonkamer Vloer Piepschuim\" )  \n",
    "Woonkamer_Piepschuim.Lambda = Piepschuim_Lambda\n",
    "Woonkamer_Piepschuim.Dikte = 0.20\n",
    "#print ( Woonkamer_Piepschuim )\n",
    "\n",
    "Vloer = Sandwich ( \"Woonkamer.Vloer\" )\n",
    "Vloer.Inpandig            = True\n",
    "Vloer.Lengte              = Lengte\n",
    "Vloer.Breedte             = Breedte\n",
    "Vloer.Temperature_Inside  = Temperatuur_Binnen\n",
    "Vloer.Temperature_Outside = 7\n",
    "Vloer.Add ( Woonkamer_Vloer )\n",
    "Vloer.Add ( Woonkamer_Piepschuim )\n",
    "\"\"\"\n",
    "\n",
    "T = Vloer.Temperature_Outside - 2\n",
    "print ( \"Vloer Heat Transfer at Temperature Outside %.1f = %d\" % ( T, Vloer.Heat_Transfer ( T ) ) )\n",
    "T = Vloer.Temperature_Outside\n",
    "print ( \"Vloer Heat Transfer at Temperature Outside %.1f = %d\" % ( T, Vloer.Heat_Transfer () ) )\n",
    "T = Vloer.Temperature_Outside + 2\n",
    "print ( \"Vloer Heat Transfer at Temperature Outside %.1f = %d\" % ( T, Vloer.Heat_Transfer ( T ) ) )\n",
    "print ( \"\\n\" )\n",
    "\"\"\"\n",
    "\n",
    "print ( Vloer )\n"
   ]
  }
 ],
 "metadata": {
  "kernelspec": {
   "display_name": "Python 3",
   "language": "python",
   "name": "python3"
  },
  "language_info": {
   "codemirror_mode": {
    "name": "ipython",
    "version": 3
   },
   "file_extension": ".py",
   "mimetype": "text/x-python",
   "name": "python",
   "nbconvert_exporter": "python",
   "pygments_lexer": "ipython3",
   "version": "3.6.6"
  }
 },
 "nbformat": 4,
 "nbformat_minor": 2
}
