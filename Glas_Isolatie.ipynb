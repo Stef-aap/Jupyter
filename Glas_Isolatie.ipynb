{
 "cells": [
  {
   "cell_type": "markdown",
   "metadata": {},
   "source": [
    "# Glas Isolatie\n",
    "We willen hier een aantal onduidelijkheden over glas opklaren.\n",
    "Alhoewel het niet goed mogelijk is om de exacte isolatie te berekenen, immers onbekend blijft hoe bijvoorbeeld de lucht in de spouw beweegt en wat het exacte effect is van bepaalde coatings, willen we toch een paar basale berekeningen maken om helder te krijgen wat de opgegeven U of R-waarde nu betekenen.\n",
    "Een tweede reden om deze berekeningen te maken is om te bepalen of we uit slechts 2 temperatuurmetingen, bijvoorbeeld de binnen temperatuur van de lucht in de ruimte en de oppervlakte temperatuur van het glas aan de binnenzijde, kunnen bepalen hoeveel warmte er door het glas verloren gaat."
   ]
  },
  {
   "cell_type": "markdown",
   "metadata": {},
   "source": [
    "# Basic Imports"
   ]
  },
  {
   "cell_type": "code",
   "execution_count": 3,
   "metadata": {},
   "outputs": [
    {
     "data": {
      "text/plain": [
       "['Heat_Transfer_Object',\n",
       " 'Heat_Transfer_Table',\n",
       " 'Sandwich',\n",
       " '_Heat_TO',\n",
       " '__builtins__',\n",
       " '__cached__',\n",
       " '__doc__',\n",
       " '__file__',\n",
       " '__loader__',\n",
       " '__name__',\n",
       " '__package__',\n",
       " '__spec__']"
      ]
     },
     "execution_count": 3,
     "metadata": {},
     "output_type": "execute_result"
    }
   ],
   "source": [
    "from Base_Heat import *\n",
    "import Base_Heat\n",
    "dir (Base_Heat)"
   ]
  },
  {
   "cell_type": "markdown",
   "metadata": {},
   "source": [
    "# Some Basic constants\n",
    "\n",
    "http://www.ekbouwadvies.nl/bouwbesluit/energiezuinigheid/vervangenkozijnen.asp\n",
    "\n",
    "Spouwbreedte in mm\tRm\n",
    "4\t0,09\n",
    "8\t0,14\n",
    "12\t0,15\n",
    "50\t0,17\n",
    "Tabel: warmteweerstand luchtspouw in glas\n",
    "\n",
    "\n"
   ]
  },
  {
   "cell_type": "code",
   "execution_count": 6,
   "metadata": {},
   "outputs": [],
   "source": [
    "R_luchtspouw_12mm  = 0.15   # bij echt stilstaande lucht was dit 0.48 geweest\n",
    "Glas_Lambda        = 0.8 \n",
    "Rsi_vertikaal_raam = 0.13\n",
    "Rso_vertikaal_raam = 0.04"
   ]
  },
  {
   "cell_type": "code",
   "execution_count": 10,
   "metadata": {},
   "outputs": [
    {
     "name": "stdout",
     "output_type": "stream",
     "text": [
      "0.005 0.0062499999999999995\n"
     ]
    }
   ],
   "source": [
    "#Dubbelglas 4-12-4:\n",
    "R_Glas_4mm = 0.004 / Glas_Lambda    \n",
    "R_Glas_5mm = 0.005 / Glas_Lambda\n",
    "print ( R_Glas_4mm, R_Glas_5mm )"
   ]
  },
  {
   "cell_type": "code",
   "execution_count": 12,
   "metadata": {},
   "outputs": [
    {
     "data": {
      "text/plain": [
       "0.16"
      ]
     },
     "execution_count": 12,
     "metadata": {},
     "output_type": "execute_result"
    }
   ],
   "source": [
    "R_Dubbelglas_4_12_4 = R_Glas_4mm + R_luchtspouw_12mm + R_Glas_4mm\n",
    "R_Dubbelglas_4_12_4"
   ]
  },
  {
   "cell_type": "code",
   "execution_count": 13,
   "metadata": {},
   "outputs": [
    {
     "data": {
      "text/plain": [
       "0.16125"
      ]
     },
     "execution_count": 13,
     "metadata": {},
     "output_type": "execute_result"
    }
   ],
   "source": [
    "R_Dubbelglas_4_12_5 = R_Glas_4mm + R_luchtspouw_12mm + R_Glas_5mm\n",
    "R_Dubbelglas_4_12_5"
   ]
  },
  {
   "cell_type": "markdown",
   "metadata": {},
   "source": [
    "Rbinnen = 0.13  m2.K/W\n",
    "<br>Rglas   = 0.16  m2.K/W\n",
    "<br>Rbuiten = 0.04  m2.K/W"
   ]
  },
  {
   "cell_type": "code",
   "execution_count": 15,
   "metadata": {},
   "outputs": [],
   "source": [
    "#Meting aan het grote raam aan de zijkant:\n",
    "T_Binnen = 19\n",
    "T_Glas_Binnen = 14.5\n",
    "T_Glas_Buiten = 9.5\n",
    "T_Buiten = 5"
   ]
  },
  {
   "cell_type": "code",
   "execution_count": 36,
   "metadata": {},
   "outputs": [
    {
     "name": "stdout",
     "output_type": "stream",
     "text": [
      "15.5 14.666666666666668 13.0 9.333333333333332\n",
      "15.5 15.285714285714286 13.0 10.714285714285714\n"
     ]
    }
   ],
   "source": [
    "#Stel de volgend R-waarden kloppen:\n",
    "R_Binnen = 0.13  #m2.K/W\n",
    "R_Glas   = 0.16  #m2.K/W\n",
    "R_Buiten = 0.13 #0.04  #m2.K/W\n",
    "\n",
    "# en voor binnen / buiten temperatuur geldt\n",
    "T_Binnen = 19\n",
    "T_Buiten = 5\n",
    "# wat is dan T_Glas_Binnen / T_Glas_Buiten ?\n",
    "# Voor de stroom geldt\n",
    "I = ( T_Binnen - T_Buiten ) / ( R_Binnen + R_Glas + R_Buiten )\n",
    "Calc_T_Glas_Binnen = T_Binnen - I * R_Binnen\n",
    "Calc_T_Glas_Buiten = T_Buiten + I * R_Buiten\n",
    "print ( T_Glas_Binnen, Calc_T_Glas_Binnen, T_Glas_Buiten, Calc_T_Glas_Buiten )\n",
    "\n",
    "T_Buiten = 7\n",
    "# wat is dan T_Glas_Binnen / T_Glas_Buiten ?\n",
    "# Voor de stroom geldt\n",
    "I = ( T_Binnen - T_Buiten ) / ( R_Binnen + R_Glas + R_Buiten )\n",
    "Calc_T_Glas_Binnen = T_Binnen - I * R_Binnen\n",
    "Calc_T_Glas_Buiten = T_Buiten + I * R_Buiten\n",
    "print ( T_Glas_Binnen, Calc_T_Glas_Binnen, T_Glas_Buiten, Calc_T_Glas_Buiten )"
   ]
  },
  {
   "cell_type": "markdown",
   "metadata": {},
   "source": [
    "Dit klopt niet helemaal.\n",
    "Er zijn twee factoren die een beredeneerbare rol spelen\n",
    "1. De buitentemperatuur is mogelijk verkeerd ingeschat (gemeten door wat objecten buiten te meten, ik weet niet of dat betekend dat deze temperatuur te hoog of te laag is ingeschat)\n",
    "2. Het was extreem windstil weer (de gehele nacht), daardoor is de R_Buiten hoger geweest.\n",
    "<br><br>De temperatuurval over het glas ( 14.5-9.5=5.0) moet zo'n 20% hoger zijn dan de temperatuurval aan de binnenkant (19-14.5=4.5 ). Dit klopt dus aardig, zeker als we de meetonnauwkeurigheden in ogenschouw nemen.\n",
    "\n",
    "De Temperatuur val aan de buitenkant bedroeg 9.5-5=4.5, gelijk aan de temperatuurval aan de binnenkant, hetgeen dus verklaarbaar zou zijn als voor de buitenweerstand ook 0.13 zou gelden vanwege het windstille weer.\n",
    "\n",
    "<br>Een andere verklaring zou zijn dat de buitenluchttemperatuur een stuk hoger lag.\n",
    "<br>En mogelijk is het en combinatie van deze 2 factoren."
   ]
  },
  {
   "cell_type": "code",
   "execution_count": 31,
   "metadata": {},
   "outputs": [
    {
     "name": "stdout",
     "output_type": "stream",
     "text": [
      "I/I2/Besparing =  34 26 22\n"
     ]
    }
   ],
   "source": [
    "# Laten we eens kijken naar de tuindeuren, waar een rolluik voor zit\n",
    "# Stel de volgend R-waarden kloppen:\n",
    "R_Binnen = 0.13  #m2.K/W\n",
    "R_Glas   = 0.16  #m2.K/W\n",
    "# Omdat er rolluik voorzit, veronderstellen we \n",
    "# dat de luchtsnelheid gelijk is aan de luchtsnelheid binnen\n",
    "# en dus de R_Buiten ook gelijk aan de R_Binnen\n",
    "R_Buiten = R_Binnen  #m2.K/W\n",
    "\n",
    "# en voor binnen / buiten temperatuur geldt\n",
    "T_Binnen = 19\n",
    "T_Glas_Binnen = 15.5\n",
    "T_Glas_Buiten = 13.0\n",
    "T_Buiten = 7.0   # temperatuur van het rolluik\n",
    "\n",
    "#Allereerst zien we dat de warmtestroom lager is en een forse besparing geeft\n",
    "I = ( T_Binnen - 14.5 ) / R_Binnen\n",
    "I2 = ( T_Binnen - T_Glas_Binnen ) / R_Binnen\n",
    "Besparing = 100 * ( I-I2) / I\n",
    "print ( \"I/I2/Besparing = \", int(I), int(I2), int(Besparing) )\n",
    "\n",
    "#NEE\n",
    "# we zien dat de temperatuurval aan de binnenkant en de buitenkant nagenoeg gelijk is,\n",
    "# hetgeen verklaarbaar is door de bijna stilstaande lucht tussen raam en rolluik\n",
    "\n",
    "# De temperatuurval over het glas hadden we een stuk hoger verwacht, \n",
    "# dan de temperatuurval binnen en buiten ???"
   ]
  },
  {
   "cell_type": "code",
   "execution_count": 61,
   "metadata": {},
   "outputs": [],
   "source": [
    "R_Binnen = 0.13  #m2.K/W\n",
    "R_Glas   = 0.16  #m2.K/W\n",
    "R_Buiten = 0.04  #m2.K/W\n",
    "def T_BB ( T_Glas_Binnen, T_Glas_Buiten ) :\n",
    "  I = (T_Glas_Binnen-T_Glas_Buiten)/R_Glas\n",
    "  T_Binnen = T_Glas_Binnen + I * R_Binnen\n",
    "  T_Buiten = T_Glas_Buiten - I * R_Buiten\n",
    "  print ( T_Binnen, T_Buiten, I )"
   ]
  },
  {
   "cell_type": "code",
   "execution_count": 63,
   "metadata": {},
   "outputs": [
    {
     "name": "stdout",
     "output_type": "stream",
     "text": [
      "18.0625 7.75 31.25\n",
      "17.53125 12.375 15.625\n",
      "18.5625 8.25 31.25\n"
     ]
    }
   ],
   "source": [
    "# Met de IR termometer zijn het meest nauwkeurig te bepalen: T_Glas_Binnen, T_Glas_Buiten\n",
    "# als we met die 2 waarden van het keukenraam, de tuindeur en het zijraam  \n",
    "# proberen de binnen- en buiten-temperatuur te schatten\n",
    "\n",
    "R_Binnen = 0.13  #m2.K/W\n",
    "R_Glas   = 0.16  #m2.K/W\n",
    "R_Buiten = 0.04  #m2.K/W\n",
    "def T_BB ( T_Glas_Binnen, T_Glas_Buiten ) :\n",
    "  I = (T_Glas_Binnen-T_Glas_Buiten)/R_Glas\n",
    "  T_Binnen = T_Glas_Binnen + I * R_Binnen\n",
    "  T_Buiten = T_Glas_Buiten - I * R_Buiten\n",
    "  print ( T_Binnen, T_Buiten, I )\n",
    "    \n",
    "#Keuken:\n",
    "T_Glas_Binnen = 14\n",
    "T_Glas_Buiten = 9\n",
    "T_BB ( T_Glas_Binnen, T_Glas_Buiten )\n",
    "\n",
    "#Tuindeur:\n",
    "T_Glas_Binnen = 15.5\n",
    "T_Glas_Buiten = 13\n",
    "T_BB ( T_Glas_Binnen, T_Glas_Buiten )\n",
    "\n",
    "#Keuken:\n",
    "T_Glas_Binnen = 14.5\n",
    "T_Glas_Buiten = 9.5\n",
    "T_BB ( T_Glas_Binnen, T_Glas_Buiten )"
   ]
  },
  {
   "cell_type": "code",
   "execution_count": null,
   "metadata": {},
   "outputs": [],
   "source": []
  }
 ],
 "metadata": {
  "kernelspec": {
   "display_name": "Python 3",
   "language": "python",
   "name": "python3"
  },
  "language_info": {
   "codemirror_mode": {
    "name": "ipython",
    "version": 3
   },
   "file_extension": ".py",
   "mimetype": "text/x-python",
   "name": "python",
   "nbconvert_exporter": "python",
   "pygments_lexer": "ipython3",
   "version": "3.6.6"
  }
 },
 "nbformat": 4,
 "nbformat_minor": 2
}
