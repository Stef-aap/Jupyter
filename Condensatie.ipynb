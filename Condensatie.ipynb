{
 "cells": [
  {
   "cell_type": "markdown",
   "metadata": {},
   "source": [
    "# Condensatie"
   ]
  },
  {
   "cell_type": "markdown",
   "metadata": {},
   "source": [
    "## Imports"
   ]
  },
  {
   "cell_type": "code",
   "execution_count": 1,
   "metadata": {},
   "outputs": [],
   "source": [
    "%matplotlib widget\n",
    "#%matplotlib inline\n",
    "\n",
    "import sys\n",
    "sys.path.append ( \"D:/Data_Python_25/MQTT\" )\n",
    "from   mqttlog import *\n",
    "from   MQTT_Data_support import *\n",
    "\n",
    "from pylab import *\n",
    "import pylab\n",
    "plt.rcParams['figure.figsize'] = 15, 7"
   ]
  },
  {
   "cell_type": "markdown",
   "metadata": {},
   "source": [
    "## Read Data"
   ]
  },
  {
   "cell_type": "code",
   "execution_count": 2,
   "metadata": {},
   "outputs": [
    {
     "name": "stdout",
     "output_type": "stream",
     "text": [
      "//Birgit-PC/mqttlog/huis/verdieping0/ergens/Temperatuur_Kalibratie_02_\\2019-01-01.mqttlog.gz\n",
      "//Birgit-PC/mqttlog/huis/verdieping0/ergens/Temperatuur_Kalibratie_02_\\2019-01-02.mqttlog.gz\n",
      "//Birgit-PC/mqttlog/huis/verdieping0/ergens/Temperatuur_Kalibratie_02_\\2019-01-03.mqttlog.gz   Error_Count = 2\n",
      "//Birgit-PC/mqttlog/huis/verdieping0/ergens/Temperatuur_Kalibratie_02_\\2019-01-04.mqttlog.gz\n",
      "//Birgit-PC/mqttlog/huis/verdieping0/ergens/Temperatuur_Kalibratie_02_\\2019-01-05.mqttlog.gz\n",
      "//Birgit-PC/mqttlog/huis/verdieping0/ergens/Temperatuur_Kalibratie_02_\\2019-01-06.mqttlog.gz   Error_Count = 1\n",
      "//Birgit-PC/mqttlog/huis/verdieping0/ergens/Temperatuur_Kalibratie_02_\\2019-01-07.mqttlog.gz\n",
      "//Birgit-PC/mqttlog/huis/verdieping0/ergens/Temperatuur_Kalibratie_02_\\2019-01-08.mqttlog.gz\n",
      "//Birgit-PC/mqttlog/huis/verdieping0/ergens/Temperatuur_Kalibratie_02_\\2019-01-09.mqttlog.gz\n",
      "//Birgit-PC/mqttlog/huis/verdieping0/ergens/Temperatuur_Kalibratie_02_\\2019-01-10.mqttlog.gz\n",
      "//Birgit-PC/mqttlog/huis/verdieping0/ergens/Temperatuur_Kalibratie_02_\\2019-01-11.mqttlog.gz\n",
      "//Birgit-PC/mqttlog/huis/verdieping0/ergens/Temperatuur_Kalibratie_02_\\2019-01-12.mqttlog.gz\n",
      "//Birgit-PC/mqttlog/huis/verdieping0/ergens/Temperatuur_Kalibratie_02_\\2019-01-13.mqttlog.gz\n",
      "//Birgit-PC/mqttlog/huis/verdieping0/ergens/Temperatuur_Kalibratie_02_\\2019-01-14.mqttlog.gz\n",
      "//Birgit-PC/mqttlog/huis/verdieping0/ergens/Temperatuur_Kalibratie_02_\\2019-01-15.mqttlog.gz   Error_Count = 1\n",
      "//Birgit-PC/mqttlog/huis/verdieping0/ergens/Temperatuur_Kalibratie_02_\\2019-01-16.mqttlog.gz\n",
      "//Birgit-PC/mqttlog/huis/verdieping0/ergens/Temperatuur_Kalibratie_02_\\2019-01-17.mqttlog.gz\n",
      "//Birgit-PC/mqttlog/huis/verdieping0/ergens/Temperatuur_Kalibratie_02_\\2019-01-18.mqttlog.gz\n",
      "//Birgit-PC/mqttlog/huis/verdieping0/ergens/Temperatuur_Kalibratie_02_\\2019-01-19.mqttlog.gz\n",
      "//Birgit-PC/mqttlog/huis/verdieping0/ergens/Temperatuur_Kalibratie_02_\\2019-01-20.mqttlog.gz   Error_Count = 4\n",
      "//Birgit-PC/mqttlog/huis/verdieping0/ergens/Temperatuur_Kalibratie_02_\\2019-01-21.mqttlog.gz\n",
      "//Birgit-PC/mqttlog/huis/verdieping0/ergens/Temperatuur_Kalibratie_02_\\2019-01-22.mqttlog.gz   Error_Count = 6\n",
      "//Birgit-PC/mqttlog/huis/verdieping0/ergens/Temperatuur_Kalibratie_02_\\2019-01-23.mqttlog.gz   Error_Count = 2\n",
      "//Birgit-PC/mqttlog/huis/verdieping0/ergens/Temperatuur_Kalibratie_02_\\2019-01-24.mqttlog.gz   Error_Count = 4\n",
      "//Birgit-PC/mqttlog/huis/verdieping0/ergens/Temperatuur_Kalibratie_02_\\2019-01-25.mqttlog.gz\n",
      "//Birgit-PC/mqttlog/huis/verdieping0/ergens/Temperatuur_Kalibratie_02_\\2019-01-26.mqttlog.gz   Error_Count = 1\n",
      "//Birgit-PC/mqttlog/huis/verdieping0/ergens/Temperatuur_Kalibratie_02_\\2019-01-27.mqttlog.gz\n",
      "//Birgit-PC/mqttlog/huis/verdieping0/ergens/Temperatuur_Kalibratie_02_\\2019-01-28.mqttlog.gz   Error_Count = 1\n",
      "//Birgit-PC/mqttlog/huis/verdieping0/ergens/Temperatuur_Kalibratie_02_\\2019-01-29.mqttlog.gz   Error_Count = 1\n",
      "//Birgit-PC/mqttlog/huis/verdieping0/ergens/Temperatuur_Kalibratie_02_\\2019-01-30.mqttlog.gz   Error_Count = 3\n",
      "//Birgit-PC/mqttlog/huis/verdieping0/ergens/Temperatuur_Kalibratie_02_\\2019-01-31.mqttlog.gz   Error_Count = 1\n",
      "//Birgit-PC/mqttlog/huis/verdieping0/ergens/Temperatuur_Kalibratie_02_\\2019-02-01.mqttlog.gz   Error_Count = 3\n",
      "//Birgit-PC/mqttlog/huis/verdieping0/ergens/Temperatuur_Kalibratie_02_\\2019-02-02.mqttlog.gz\n",
      "//Birgit-PC/mqttlog/huis/verdieping0/ergens/Temperatuur_Kalibratie_02_\\2019-02-03.mqttlog.gz   Error_Count = 1\n",
      "//Birgit-PC/mqttlog/huis/verdieping0/ergens/Temperatuur_Kalibratie_02_\\2019-02-04.mqttlog.gz\n",
      "//Birgit-PC/mqttlog/huis/verdieping0/ergens/Temperatuur_Kalibratie_02_\\2019-02-05.mqttlog.gz\n"
     ]
    }
   ],
   "source": [
    "  Start = \"2019-01-01\"\n",
    "  End   = \"2019-02-05\"\n",
    "\n",
    "  Dir    = \"//Birgit-PC/mqttlog/huis/verdieping0/ergens/Temperatuur_Kalibratie_02_/\"\n",
    "  Data_a = ReadMQTTDir(Dir, ReadMQTT_NumberDict, Start, End ) "
   ]
  },
  {
   "cell_type": "markdown",
   "metadata": {},
   "source": [
    "## Calculate Signals"
   ]
  },
  {
   "cell_type": "code",
   "execution_count": 3,
   "metadata": {},
   "outputs": [],
   "source": [
    "  #  { \"MHZ14_CO2_ppm\":1474, \"Time_ms\":2270000, \n",
    "  # \"BME280_Temperature\":27.59, \"BME280_Pressure\":1021, \"BME280_Humidity\":41, \n",
    "  # \"DT28cc885500000050\":25.00, \"DT285d4e91010000f4\":25.50 }\n",
    "\n",
    "  # Temperatuur Correction (I'm not sure if RH must also be corrected)\n",
    "  Data_a [ \"BME280_Temperature\" ] = 0.92 * Data_a [ \"BME280_Temperature\" ] - 4\n",
    "\n",
    "  a = 17.271\n",
    "  b = 237.7 # degC\n",
    "  T  = Data_a [ \"BME280_Temperature\" ]\n",
    "  RH = Data_a [ \"BME280_Humidity\"    ]\n",
    "  Data_a [ \"Dauwpunt\" ] = ( (b * ((a * T / (b + T)) + log(RH/100.0))) / \n",
    "                            (a - ((a * T / (b + T)) + log(RH/100.0))) )\n",
    "\n",
    "  Data_a [ \"XX\" ]      = list(map ( Comfort, Data_a[\"BME280_Temperature\"], Data_a[\"BME280_Humidity\"]))\n",
    "  Data_a [ \"Comfort\" ] = 5 * Data_a [ \"XX\" ]"
   ]
  },
  {
   "cell_type": "markdown",
   "metadata": {},
   "source": [
    "## Create Plots"
   ]
  },
  {
   "cell_type": "code",
   "execution_count": 4,
   "metadata": {},
   "outputs": [
    {
     "data": {
      "application/vnd.jupyter.widget-view+json": {
       "model_id": "6e49d6d67f3a44e9a48006bb5938e9d1",
       "version_major": 2,
       "version_minor": 0
      },
      "text/plain": [
       "FigureCanvasNbAgg()"
      ]
     },
     "metadata": {},
     "output_type": "display_data"
    }
   ],
   "source": [
    "  plt.rcParams['figure.figsize'] = 12, 7\n",
    "  ax1 = Data_a.plot ( y = [ \"BME280_Humidity\", \"BME280_Temperature\", \"Dauwpunt\", \"Comfort\" ] )\n",
    "  Draw_Grids ( ax1 )"
   ]
  },
  {
   "cell_type": "code",
   "execution_count": null,
   "metadata": {},
   "outputs": [],
   "source": []
  }
 ],
 "metadata": {
  "kernelspec": {
   "display_name": "Python 3",
   "language": "python",
   "name": "python3"
  },
  "language_info": {
   "codemirror_mode": {
    "name": "ipython",
    "version": 3
   },
   "file_extension": ".py",
   "mimetype": "text/x-python",
   "name": "python",
   "nbconvert_exporter": "python",
   "pygments_lexer": "ipython3",
   "version": "3.6.6"
  }
 },
 "nbformat": 4,
 "nbformat_minor": 2
}
