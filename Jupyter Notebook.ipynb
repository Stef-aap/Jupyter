{
 "cells": [
  {
   "cell_type": "markdown",
   "metadata": {},
   "source": [
    "# Jupyter Notebook\n",
    "August 2016, Stef Mientki\n",
    "\n",
    "One of my holliday projects was to investigate if Jupyter or any other notebook could be used as a replacement for PuntHoofd (PuntHoofd is an interactive Notebook, build 15 years ago in Delphi, simply because at that moment there wasn't anything available). After a short research on the web, it's obvious: although Jupyter can't replace all functionality of PuntHoofd (yet), it's good enough and there's nothing else that can compete with Jupyter.\n",
    "\n",
    "So below are shown some of my experiences with Jupyter and is shown why Jupyter at this moment is simply the best.\n",
    "\n",
    "The Jupyter Notebook is a web application that allows you to create and share documents that contain live code, equations, visualizations and explanatory text. Uses include: data cleaning and transformation, numerical simulation, statistical modeling, machine learning and much more.\n",
    "Interactive means you can really execute code directly from within the document (in several languages) and the result is embedded back into the document. This makes Jupyter Notebooks a great tool for academical and educational purposes.\n",
    "\n",
    "At this moment JupyterLab = Jupyter + fullblown IDE (Integrated Development Environment) is being created.\n",
    "\n",
    "To demonstrate what embedded execution means, here an example in Python code:\n",
    "<br>If you have a real interactive version, you now can change the code and see the effects."
   ]
  },
  {
   "cell_type": "code",
   "execution_count": 3,
   "metadata": {
    "collapsed": false
   },
   "outputs": [
    {
     "data": {
      "image/png": "[encoded data removed]",
      "text/plain": [
       "<matplotlib.figure.Figure at 0x7acbef0>"
      ]
     },
     "metadata": {},
     "output_type": "display_data"
    }
   ],
   "source": [
    "%matplotlib inline\n",
    "import numpy as np\n",
    "import matplotlib.pyplot as plt\n",
    "\n",
    "xx = np.linspace(-0.75, 1., 100)\n",
    "\n",
    "fig, ax = plt.subplots()\n",
    "ax.plot(xx, xx**2, xx, xx**3)\n",
    "\n",
    "ax.text(0.15, 0.2, r\"$y=x^2$\", fontsize=20, color=\"blue\")\n",
    "ax.text(0.65, 0.1, r\"$y=x^3$\", fontsize=20, color=\"green\");"
   ]
  },
  {
   "cell_type": "markdown",
   "metadata": {},
   "source": [
    "# Content\n",
    "- ### ToDo\n",
    "- ### Specifications\n",
    "- ### JupyterLab\n",
    "- ### Supported Languages\n",
    "- ### What Notebooks others use ?\n",
    "- ### Latex Embedding\n",
    "- ### Html Embedding\n",
    "- ### Interactive Examples\n",
    "- ### Academical Articles\n",
    "- ### Medical Examples\n",
    "- ### Education Examples\n",
    "- ### (Free) Deployment\n",
    "\n",
    "- ### Parallel Processing"
   ]
  },
  {
   "cell_type": "markdown",
   "metadata": {},
   "source": [
    "# Specification\n",
    "\n",
    "- very simpel and intuitive formatting (using Markdown)\n",
    "- formatting can be extended by embedding full html-5\n",
    "- formatting can be extended by embedding full LATEX\n",
    "- formatting and interactivity can be extended by Javascript\n",
    "- execution of statements in the selected language\n",
    "- results are embedded in the document\n",
    "- execution of commands in the environment (DOS/CMD/..)\n",
    "- runs on a webserver in any environment\n",
    "- can be deployed as static or interactive webpage\n",
    "- cells can easily be moved around\n",
    "- code can be extracted as a library file\n",
    "<br>"
   ]
  },
  {
   "cell_type": "markdown",
   "metadata": {},
   "source": [
    "# JupyterLab\n",
    "\n",
    "This is will extend Jupyter to a Notebook + full blown IDE (Integrated Development Environment).\n",
    "There's already an early alfa-version available.\n",
    "\n",
    "see the animated gif on this page\n",
    "<br><http://jupyter.org/jupyterlab/>\n",
    "\n",
    "or the presentation on the Scipy 2016 congerence\n",
    "<br><https://www.youtube.com/watch?v=Ejh0ftSjk6g>\n",
    "<br>"
   ]
  },
  {
   "cell_type": "markdown",
   "metadata": {},
   "source": [
    "# Supported Languages\n",
    "\n",
    "At this moment over 40 languages are supported:\n",
    "<br><https://github.com/ipython/ipython/wiki/IPython-kernels-for-other-languages>\n",
    "\n",
    "- Aldor\n",
    "- Babel\n",
    "- Bash\n",
    "- Brainfuck\n",
    "- **C++**\n",
    "- Calysto\n",
    "- Clojure\n",
    "- Coffeescript\n",
    "- Cryotol\n",
    "- **CSharp**\n",
    "- Cython\n",
    "- Elixer\n",
    "- Erlang\n",
    "- Forth\n",
    "- FSharp\n",
    "- Go\n",
    "- Haskell\n",
    "- Hy\n",
    "- IDL\n",
    "- Javascript\n",
    "- Jove\n",
    "- Julia\n",
    "- Lisp\n",
    "- LUA\n",
    "- Mathics\n",
    "- **Matlab**\n",
    "- Maxima\n",
    "- Mochi\n",
    "- Multiple\n",
    "- OCaml\n",
    "- Octave\n",
    "- Perl\n",
    "- PHP\n",
    "- Powershell\n",
    "- Prolog\n",
    "- **Python**\n",
    "- Q\n",
    "- **R**\n",
    "- Redis\n",
    "- Ruby\n",
    "- Sagemath\n",
    "- **SAS**\n",
    "- Scala\n",
    "- Scilab\n",
    "- Torch\n",
    "- VPython\n",
    "- Xonsh"
   ]
  },
  {
   "cell_type": "markdown",
   "metadata": {},
   "source": [
    "# What Notebooks others use ?\n",
    "\n",
    "There's a large European project called **OpenDreamKit** (Open Digital Research Environment Toolkit for the Advancement of Mathematics)\n",
    "<br><http://opendreamkit.org/>\n",
    "<br>that has chozen Jupyter as the standaard (and only supported) interactive Notebook, despite that Sage was the defacto standard until now. This group will add a few features to Jupyter that Sage does have and Jupyter not yet has. Furtermore they will create a full autiomatic translation from Sage to Jupyter.\n",
    "\n",
    "**SageMath** now delivers (besides their own Notebook)standaard Jupyter Notebook.\n",
    "\n",
    "**SageMath** has said they are willing to help to merge SageMath Notebook and Jupyter Notebook and are even willing to follow the wishes of Jupyter (in my opinion that means they are giving up thier own notebook).\n",
    "\n",
    "**Anaconda Cloud**, \n",
    "<br><https://docs.continuum.io/anaconda-cloud/>\n",
    "<br>one of the fastest growing package management service and free hosting of open software has chozen Jupyter as the standard interactive notebook.\n",
    "\n",
    "**Some user-experience**: Experiences with the free version of SageMath Notebook are not good: it still IMO suffers from more than the occasional issue of buffering, dropped connections, or interrupted calculations -- it happens often enough with my students that I need to have a reliable option for them working offline.\n",
    "\n",
    "**Microsoft AZUR** cloudservice,\n",
    "<br><https://azure.microsoft.com/en-us/documentation/articles/virtual-machines-linux-jupyter-notebook/>\n",
    "<br>has chosen for the Jupyter notebook (Azure Notebook Service).\n",
    "\n",
    "**IBM Emerging Technology** is embracing Jupyter Notebook in two ways. First, we are using notebooks to help customers analyze their data in the health care, telecommunications, banking, and transportation industries as well as the public sector. Second, we are actively supporting and extending both the Jupyter technology and community by:...., see <http://blog.ibmjstart.net/2015/08/06/jupyter-notebooks-in-ibm-emerging-technology/>\n"
   ]
  },
  {
   "cell_type": "markdown",
   "metadata": {},
   "source": [
    "# LATEX embedding\n",
    "\n",
    "To insert LATEX, surround the LATEX code with dollar signs:\n",
    "<br><br>\n",
    "$z=\\dfrac{2x}{3y}$\n",
    "\n",
    "or if you want to align it to the right, use double dollar signs:\n",
    "$$z=\\dfrac{2x}{3y}$$\n",
    "\n",
    "Another example: \n",
    "<br>\n",
    "$\\boxed{F(k) = \\int_{-\\infty}^{\\infty} f(x) e^{2\\pi i k} dx}$\n",
    "<br>\n",
    "\n",
    "For a comprehensive guide to the mathematical symbols and notations supported by Jupyter Notebooks' Markdown cells, check out Martin Keefe's helpful reference materials on the subject.\n",
    "<http://http://www.martinkeefe.com/math/mathjax1>"
   ]
  },
  {
   "cell_type": "markdown",
   "metadata": {},
   "source": [
    "# HTLM embedding\n",
    "### WEB Links\n",
    "\n",
    "Simpel : just put <> brackets around the link\n",
    "\n",
    "<http://mientki.ruhosting.nl/data_www/raspberry/doc/spectrum_analyzer.html>\n",
    "\n",
    "If you want to specify a good readible name: insert the complete html statement :\n",
    "<br>\n",
    "<a href=\"http://mientki.ruhosting.nl/data_www/raspberry/doc/spectrum_analyzer.html\">SI4432 Spectrum Analyzer</a>\n",
    "<br>"
   ]
  },
  {
   "cell_type": "markdown",
   "metadata": {},
   "source": [
    "# Interactive examples\n",
    "\n",
    "\n",
    "Th following is using Binder and if it works, it looks great\n",
    "<br><http://130.211.139.70/user/0a0e57d07d6029a966cb1221a87ba416/notebooks/index.ipynb>\n",
    "<br><http://130.211.139.70/user/0a0e57d07d6029a966cb1221a87ba416/notebooks/2/4.ipynb>\n",
    "<br>The static version of this book can be found:\n",
    "<br><http://readiab.org/book/latest/>\n",
    "\n",
    "The Laser Interferometer Gravitational-Wave Observatory (LIGO) has a large interactive site, which can run either on Binder(?) or on AZUR (MS).\n",
    "<br><https://losc.ligo.org/tutorials/>\n",
    "\n",
    "Digital Signal Processing\n",
    "<br><http://130.211.139.70/user/b837bc68df496aafd522a461c6737ac0/notebooks/index.ipynb>\n",
    "<br><http://130.211.139.70/user/b837bc68df496aafd522a461c6737ac0/notebooks/spectral_analysis_deterministic_signals/leakage_effect.ipynb>\n",
    "\n",
    "Here a nice demo for researchers\n",
    "<br><http://www.nature.com/news/ipython-interactive-demo-7.21492?article=1.16261>\n",
    "<br>"
   ]
  },
  {
   "cell_type": "markdown",
   "metadata": {},
   "source": [
    "# Academical Articles\n",
    "\n",
    "<http://nbviewer.jupyter.org/github/cossatot/lanf_earthquake_likelihood/blob/master/notebooks/lanf_manuscript_notebook.ipynb>\n",
    "<br>\n"
   ]
  },
  {
   "cell_type": "markdown",
   "metadata": {},
   "source": [
    "# Medical examples\n",
    "\n",
    "NiLearn, Processing of 3D-MRI images\n",
    "<br><http://nbviewer.jupyter.org/github/GaelVaroquaux/nilearn_course/blob/master/rendered_notebooks/1_Introduction.ipynb>\n",
    "\n",
    "Human Activity Recognition Dataset (HAR)\n",
    "<br><http://nbviewer.jupyter.org/github/markdregan/K-Nearest-Neighbors-with-Dynamic-Time-Warping/blob/master/K_Nearest_Neighbor_Dynamic_Time_Warping.ipynb>\n",
    "\n",
    "Mathematical models for brain cell activity to visual stimuli\n",
    "<br><http://nbviewer.jupyter.org/github/jonasnick/ReceptiveFields/blob/master/receptiveFields.ipynb>\n",
    "<br>"
   ]
  },
  {
   "cell_type": "markdown",
   "metadata": {},
   "source": [
    "# Education Examples\n",
    "\n",
    "<http://nbviewer.jupyter.org/github/jrjohansson/qutip-lectures/blob/master/Lecture-2A-Cavity-Qubit-Gates.ipynb>\n",
    "<http://nbviewer.jupyter.org/github/jrjohansson/qutip-lectures/tree/master/>\n",
    "\n",
    "<http://nbviewer.jupyter.org/github/masinoa/machine_learning/blob/master/04_Neural_Networks.ipynb>\n",
    "<http://nbviewer.jupyter.org/github/masinoa/machine_learning/tree/master/>\n",
    "\n",
    "\n"
   ]
  },
  {
   "cell_type": "markdown",
   "metadata": {},
   "source": [
    "# Free deployment\n",
    "\n",
    "If your Jupyter Notebook is open source, there are a number of sites where you can deploy for free static versions of Jupyter notebooks but only a very few where you can host interactive pages. Probably this is the very early stage, where deployment is just starting.\n",
    "\n",
    "### Free Interactive Deployment\n",
    "- Microsoft Azure Cloud, this notebook <https://notebooks.azure.com/library/1HZE5epHAf0>\n",
    "\n",
    "\n",
    "### Free Static Deployment\n",
    "The clouds in Italic should support interactive deploymenmt, but I couldn't get ihis working.\n",
    "- Github\n",
    "- *Anaconda*\n",
    "- IBM Datascientist\n",
    "- *Sage MathCloud*\n",
    "- *GIST-ID*\n",
    "- *Wakari*\n",
    "- Authorea\n"
   ]
  },
  {
   "cell_type": "markdown",
   "metadata": {},
   "source": [
    "# Parallel Processing\n",
    "\n",
    "Numba\n",
    "<br><http://nbviewer.jupyter.org/gist/Juanlu001/3914904>\n",
    "<br>\n",
    "\n"
   ]
  }
 ],
 "metadata": {
  "kernelspec": {
   "display_name": "Python 3",
   "language": "python",
   "name": "python3"
  },
  "language_info": {
   "codemirror_mode": {
    "name": "ipython",
    "version": 3
   },
   "file_extension": ".py",
   "mimetype": "text/x-python",
   "name": "python",
   "nbconvert_exporter": "python",
   "pygments_lexer": "ipython3",
   "version": "3.4.4"
  }
 },
 "nbformat": 4,
 "nbformat_minor": 0
}
