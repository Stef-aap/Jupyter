{
 "cells": [
  {
   "cell_type": "markdown",
   "metadata": {},
   "source": [
    "# Fijnstof Omgeving"
   ]
  },
  {
   "cell_type": "markdown",
   "metadata": {},
   "source": [
    "## Imports"
   ]
  },
  {
   "cell_type": "code",
   "execution_count": 1,
   "metadata": {},
   "outputs": [],
   "source": [
    "%matplotlib widget\n",
    "#%matplotlib inline\n",
    "\n",
    "import sys\n",
    "sys.path.append ( \"D:/Data_Python_25/MQTT\" )\n",
    "from   mqttlog import *\n",
    "from   MQTT_Data_support import *\n",
    "\n",
    "from pylab import *\n",
    "import pylab\n",
    "plt.rcParams['figure.figsize'] = 15, 7"
   ]
  },
  {
   "cell_type": "markdown",
   "metadata": {},
   "source": [
    "## Get data over selected Periode"
   ]
  },
  {
   "cell_type": "code",
   "execution_count": 2,
   "metadata": {},
   "outputs": [
    {
     "name": "stdout",
     "output_type": "stream",
     "text": [
      "//Birgit-PC/mqttlog/huis/verdieping0/tuin/Fijnstof_Omgeving\\2019-02-24.mqttlog.gz\n",
      "//Birgit-PC/mqttlog/huis/verdieping0/tuin/Fijnstof_Omgeving\\2019-02-25.mqttlog.gz\n",
      "//Birgit-PC/mqttlog/huis/verdieping0/tuin/Fijnstof_Omgeving\\2019-02-26.mqttlog.gz\n",
      "//Birgit-PC/mqttlog/huis/verdieping0/tuin/Fijnstof_Omgeving\\2019-02-27.mqttlog\n"
     ]
    }
   ],
   "source": [
    "  Start = \"2019-02-20\"\n",
    "  End   = \"2019-03-01\"\n",
    "\n",
    "  Dir   = \"//Birgit-PC/mqttlog/huis/verdieping0/tuin/Fijnstof_Omgeving/\"\n",
    "  Data  = ReadMQTTDir ( Dir, ReadMQTT_NumberDict, Start, End ) \n",
    "\n",
    "  Data.rename ( columns = { \n",
    "    \"LD_5975_PM2_5\"    : \"Gennep_PM2_5\",\n",
    "    \"LD_6519_PM2_5\"    : \"Gennep2_PM2_5\",\n",
    "    \"LD_14362_PM2_5\"   : \"Heumen_PM2_5\", \n",
    "    \"LD_17622_PM2_5\"   : \"Lent1_PM2_5\",\n",
    "    \"LD_16817_PM2_5\"   : \"Lent2_PM2_5\",\n",
    "    \"LD_16772_PM2_5\"   : \"Lent3_PM2_5\",\n",
    "    \"LD_17008_PM2_5\"   : \"Lent4_PM2_5\",\n",
    "    \"LD_17011_PM2_5\"   : \"Lent5_PM2_5\",\n",
    "    \"LD_17069_PM2_5\"   : \"Lent6_PM2_5\",\n",
    "    \"LD_11917_PM2_5\"   : \"Molenhoek_PM2_5\", \n",
    "    \"LD_15671_PM2_5\"   : \"Molenhoek2_PM2_5\",\n",
    "    \"LD_7959_PM2_5\"    : \"Mook_PM2_5\", \n",
    "    \"LD_20992_PM2_5\"   : \"Nijm_KK_Plein_PM2_5\",\n",
    "    \"LD_21305_PM2_5\"   : \"Nijm_Molenweg_PM2_5\",\n",
    "    \"LD_12660_PM2_5\"   : \"Wijchen_PM2_5\",\n",
    "    \"Weer_Temperatuur\" : \"T\",\n",
    "    \"Weer_Wind_R\"      : \"Windrichting\",\n",
    "    \"Weer_Wind_S\"      : \"Windsnelheid\",\n",
    "    \"Weer_RH\"          : \"RH\",\n",
    "    \"Weer_Zicht\"       : \"Zicht\"}, inplace=True )\n",
    "\n"
   ]
  },
  {
   "cell_type": "code",
   "execution_count": 3,
   "metadata": {},
   "outputs": [
    {
     "name": "stdout",
     "output_type": "stream",
     "text": [
      "Index(['LD_11917_PM10', 'Molenhoek_PM2_5', 'LD_12660_PM10', 'Wijchen_PM2_5',\n",
      "       'LD_14362_PM10', 'Heumen_PM2_5', 'LD_15671_PM10', 'Molenhoek2_PM2_5',\n",
      "       'LD_16399_PM10', 'LD_16399_PM2_5', 'LD_16772_PM10', 'Lent3_PM2_5',\n",
      "       'LD_16817_PM10', 'Lent2_PM2_5', 'LD_17008_PM10', 'Lent4_PM2_5',\n",
      "       'LD_17011_PM10', 'Lent5_PM2_5', 'LD_17069_PM10', 'Lent6_PM2_5',\n",
      "       'LD_17622_PM10', 'Lent1_PM2_5', 'LD_20992_PM10', 'Nijm_KK_Plein_PM2_5',\n",
      "       'LD_21305_PM10', 'Nijm_Molenweg_PM2_5', 'LD_5975_PM10', 'Gennep_PM2_5',\n",
      "       'LD_6519_PM10', 'Gennep2_PM2_5', 'LD_7959_PM10', 'Mook_PM2_5', 'RH',\n",
      "       'T', 'Windrichting', 'Windsnelheid', 'Zicht'],\n",
      "      dtype='object')\n"
     ]
    }
   ],
   "source": [
    "print ( Data.columns )\n",
    "#Heumen    = \"LD_14362_\"\n",
    "#Molenhoek = \"LD_11917_\"\n",
    "#Mook      = \"LD_7959_\""
   ]
  },
  {
   "cell_type": "markdown",
   "metadata": {},
   "source": [
    "## Create Plots"
   ]
  },
  {
   "cell_type": "code",
   "execution_count": 4,
   "metadata": {},
   "outputs": [
    {
     "data": {
      "application/vnd.jupyter.widget-view+json": {
       "model_id": "0b8598e501b8469ebae6bff7837951a5",
       "version_major": 2,
       "version_minor": 0
      },
      "text/plain": [
       "FigureCanvasNbAgg()"
      ]
     },
     "metadata": {},
     "output_type": "display_data"
    }
   ],
   "source": [
    "  plt.rcParams['figure.figsize'] = 11, 7\n",
    "\n",
    "  ax1 = Data.plot ( y = [ \"Heumen_PM2_5\", \"Molenhoek_PM2_5\", \"Mook_PM2_5\", \"Windsnelheid\" ] )\n",
    "  ax2 = Data.plot ( y = [ \"Windrichting\", \"RH\" ], secondary_y=True, ax=ax1 )\n",
    "  Draw_Grids ( ax1 )    "
   ]
  },
  {
   "cell_type": "code",
   "execution_count": 5,
   "metadata": {},
   "outputs": [
    {
     "data": {
      "application/vnd.jupyter.widget-view+json": {
       "model_id": "6507f04dc5de40178fb5c462c1e0ace6",
       "version_major": 2,
       "version_minor": 0
      },
      "text/plain": [
       "FigureCanvasNbAgg()"
      ]
     },
     "metadata": {},
     "output_type": "display_data"
    },
    {
     "data": {
      "text/plain": [
       "['LD_11917_PM10',\n",
       " 'Molenhoek_PM2_5',\n",
       " 'LD_12660_PM10',\n",
       " 'Wijchen_PM2_5',\n",
       " 'LD_14362_PM10',\n",
       " 'Heumen_PM2_5',\n",
       " 'LD_15671_PM10',\n",
       " 'Molenhoek2_PM2_5',\n",
       " 'LD_16399_PM10',\n",
       " 'LD_16399_PM2_5',\n",
       " 'LD_16772_PM10',\n",
       " 'Lent3_PM2_5',\n",
       " 'LD_16817_PM10',\n",
       " 'Lent2_PM2_5',\n",
       " 'LD_17008_PM10',\n",
       " 'Lent4_PM2_5',\n",
       " 'LD_17011_PM10',\n",
       " 'Lent5_PM2_5',\n",
       " 'LD_17069_PM10',\n",
       " 'Lent6_PM2_5',\n",
       " 'LD_17622_PM10',\n",
       " 'Lent1_PM2_5',\n",
       " 'LD_20992_PM10',\n",
       " 'Nijm_KK_Plein_PM2_5',\n",
       " 'LD_21305_PM10',\n",
       " 'Nijm_Molenweg_PM2_5',\n",
       " 'LD_5975_PM10',\n",
       " 'Gennep_PM2_5',\n",
       " 'LD_6519_PM10',\n",
       " 'Gennep2_PM2_5',\n",
       " 'LD_7959_PM10',\n",
       " 'Mook_PM2_5',\n",
       " 'RH',\n",
       " 'T',\n",
       " 'Windrichting',\n",
       " 'Windsnelheid',\n",
       " 'Zicht']"
      ]
     },
     "execution_count": 5,
     "metadata": {},
     "output_type": "execute_result"
    }
   ],
   "source": [
    "  # \"Wijchen_PM2_5\" bijn a geheel vlak\n",
    "  ax10 = Data.plot ( y = [ \"Heumen_PM2_5\", \"Molenhoek_PM2_5\", \"Molenhoek2_PM2_5\", \"Mook_PM2_5\",\n",
    "                           \"Lent1_PM2_5\", \"Nijm_KK_Plein_PM2_5\", \"Gennep_PM2_5\" ] )\n",
    "  Draw_Grids ( ax10 )    \n",
    "\n",
    "  list(Data.columns)"
   ]
  },
  {
   "cell_type": "code",
   "execution_count": null,
   "metadata": {},
   "outputs": [],
   "source": []
  }
 ],
 "metadata": {
  "kernelspec": {
   "display_name": "Python 3",
   "language": "python",
   "name": "python3"
  },
  "language_info": {
   "codemirror_mode": {
    "name": "ipython",
    "version": 3
   },
   "file_extension": ".py",
   "mimetype": "text/x-python",
   "name": "python",
   "nbconvert_exporter": "python",
   "pygments_lexer": "ipython3",
   "version": "3.6.6"
  }
 },
 "nbformat": 4,
 "nbformat_minor": 2
}
