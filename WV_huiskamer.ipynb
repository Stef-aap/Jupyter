{
 "cells": [
  {
   "cell_type": "markdown",
   "metadata": {
    "toc": "true"
   },
   "source": [
    "# Table of Contents\n",
    " <p><div class=\"lev1 toc-item\"><a href=\"#Warmteverbruik\" data-toc-modified-id=\"Warmteverbruik-1\"><span class=\"toc-item-num\">1&nbsp;&nbsp;</span>Warmteverbruik</a></div><div class=\"lev1 toc-item\"><a href=\"#Base-Library\" data-toc-modified-id=\"Base-Library-2\"><span class=\"toc-item-num\">2&nbsp;&nbsp;</span>Base Library</a></div><div class=\"lev2 toc-item\"><a href=\"#Material-Constants\" data-toc-modified-id=\"Material-Constants-2.1\"><span class=\"toc-item-num\">2.1&nbsp;&nbsp;</span>Material Constants</a></div><div class=\"lev1 toc-item\"><a href=\"#Warmteverbruik-Huiskamer\" data-toc-modified-id=\"Warmteverbruik-Huiskamer-3\"><span class=\"toc-item-num\">3&nbsp;&nbsp;</span>Warmteverbruik Huiskamer</a></div><div class=\"lev2 toc-item\"><a href=\"#De-huidige-meetgegevens\" data-toc-modified-id=\"De-huidige-meetgegevens-3.1\"><span class=\"toc-item-num\">3.1&nbsp;&nbsp;</span>De huidige meetgegevens</a></div><div class=\"lev2 toc-item\"><a href=\"#Vloer\" data-toc-modified-id=\"Vloer-3.2\"><span class=\"toc-item-num\">3.2&nbsp;&nbsp;</span>Vloer</a></div><div class=\"lev2 toc-item\"><a href=\"#Buitenmuur\" data-toc-modified-id=\"Buitenmuur-3.3\"><span class=\"toc-item-num\">3.3&nbsp;&nbsp;</span>Buitenmuur</a></div><div class=\"lev2 toc-item\"><a href=\"#Ramen\" data-toc-modified-id=\"Ramen-3.4\"><span class=\"toc-item-num\">3.4&nbsp;&nbsp;</span>Ramen</a></div><div class=\"lev2 toc-item\"><a href=\"#Binnenmuur\" data-toc-modified-id=\"Binnenmuur-3.5\"><span class=\"toc-item-num\">3.5&nbsp;&nbsp;</span>Binnenmuur</a></div><div class=\"lev2 toc-item\"><a href=\"#Plafond\" data-toc-modified-id=\"Plafond-3.6\"><span class=\"toc-item-num\">3.6&nbsp;&nbsp;</span>Plafond</a></div><div class=\"lev1 toc-item\"><a href=\"#References\" data-toc-modified-id=\"References-4\"><span class=\"toc-item-num\">4&nbsp;&nbsp;</span>References</a></div>"
   ]
  },
  {
   "cell_type": "markdown",
   "metadata": {},
   "source": [
    "# Warmteverbruik"
   ]
  },
  {
   "cell_type": "markdown",
   "metadata": {
    "extensions": {
     "jupyter_dashboards": {
      "version": 1,
      "views": {
       "grid_default": {
        "col": 0,
        "height": 4,
        "hidden": false,
        "row": 10,
        "width": 4
       },
       "report_default": {}
      }
     }
    },
    "hide_input": false
   },
   "source": [
    "Doel warmte verbruik van de huiskamer te berekenen, zodat de capaciteit van een warmtepomp bepaald kan worden. \n",
    "In tweede instantie het berekenen van de warmtecapaciteit."
   ]
  },
  {
   "cell_type": "markdown",
   "metadata": {
    "extensions": {
     "jupyter_dashboards": {
      "version": 1,
      "views": {
       "grid_default": {
        "col": 4,
        "height": 4,
        "hidden": false,
        "row": 10,
        "width": 4
       },
       "report_default": {}
      }
     }
    }
   },
   "source": [
    "# Base Library"
   ]
  },
  {
   "cell_type": "markdown",
   "metadata": {
    "extensions": {
     "jupyter_dashboards": {
      "version": 1,
      "views": {
       "grid_default": {
        "col": 8,
        "height": 4,
        "hidden": false,
        "row": 10,
        "width": 4
       },
       "report_default": {}
      }
     }
    }
   },
   "source": [
    "## Material Constants\n",
    "<img src=\"overgangsweerstanden1.gif\">\n",
    "<br>Overgangsweerstanden Rsi en Rse, bron: http://www.ekbouwadvies.nl/bouwbesluit/energiezuinigheid/rcwaarde.asp\n",
    "<br><br>Lambda waarden: http://www.joostdevree.nl/bouwkunde2/warmtegeleidingscoefficient.htm"
   ]
  },
  {
   "cell_type": "code",
   "execution_count": 1,
   "metadata": {
    "ExecuteTime": {
     "end_time": "2017-05-05T20:52:07.013670Z",
     "start_time": "2017-05-05T20:52:06.992599Z"
    },
    "collapsed": true,
    "extensions": {
     "jupyter_dashboards": {
      "version": 1,
      "views": {
       "grid_default": {
        "hidden": true
       },
       "report_default": {}
      }
     }
    },
    "run_control": {
     "frozen": false,
     "read_only": false
    }
   },
   "outputs": [],
   "source": [
    "from   Base_Heat import *\n",
    "import Base_Heat\n",
    "\n",
    "Base_Heat.GraadDagen = 2774\n",
    "Base_Heat.PrintLevel = 1\n",
    "\n",
    "\n",
    "Piepschuim_Lambda       = 0.035\n",
    "Kurk_Lambda             = 0.039\n",
    "Beton_Licht_Lambda      = 1.3\n",
    "Beton_Zwaar_Lambda      = 1.7\n",
    "Hardboard_Lambda        = 0.15\n",
    "Hout_Lambda             = 0.14\n",
    "Hardhout_Lambda         = 0.17\n",
    "Lucht_Lambda            = 0.025\n",
    "\n",
    "# overgangsweerstand van de binnenmuur, zoals gedefinieerd in het bouwbesluit\n",
    "Rsi = Heat_Transfer_Object ( \"Rsi\" )\n",
    "Rsi.R_Waarde = 0.13\n",
    "\n",
    "# overgangsweerstand van de buitenmuur, zoals gedefinieerd in het bouwbesluit\n",
    "Rse = Heat_Transfer_Object ( \"Rse\" )\n",
    "Rse.R_Waarde = 0.04\n",
    "\n",
    "# Voor de vloer gelden afwijkende waarden\n",
    "Rsi_Vloer = Heat_Transfer_Object ( \"Rsi Vloer\" )\n",
    "Rsi_Vloer.R_Waarde = 0.17\n",
    "Rse_Vloer = Heat_Transfer_Object ( \"Rse Vloer\" )\n",
    "Rse_Vloer.R_Waarde = 0.17\n",
    "\n",
    "Rsi_Plafond = Heat_Transfer_Object ( \"Rsi Plafond\" )\n",
    "Rsi_Plafond.R_Waarde = 0.1"
   ]
  },
  {
   "cell_type": "markdown",
   "metadata": {
    "extensions": {
     "jupyter_dashboards": {
      "version": 1,
      "views": {
       "grid_default": {
        "col": 8,
        "height": 4,
        "hidden": false,
        "row": 22,
        "width": 4
       },
       "report_default": {}
      }
     }
    },
    "run_control": {
     "frozen": false,
     "read_only": false
    }
   },
   "source": [
    "# Warmteverbruik Huiskamer"
   ]
  },
  {
   "cell_type": "markdown",
   "metadata": {
    "extensions": {
     "jupyter_dashboards": {
      "version": 1,
      "views": {
       "grid_default": {
        "col": 4,
        "height": 4,
        "hidden": false,
        "row": 31,
        "width": 4
       },
       "report_default": {}
      }
     }
    }
   },
   "source": [
    "## De huidige meetgegevens\n",
    "\n",
    "\n"
   ]
  },
  {
   "cell_type": "code",
   "execution_count": 2,
   "metadata": {
    "ExecuteTime": {
     "end_time": "2017-05-05T20:52:07.228970Z",
     "start_time": "2017-05-05T20:52:07.222952Z"
    },
    "collapsed": true,
    "extensions": {
     "jupyter_dashboards": {
      "version": 1,
      "views": {
       "grid_default": {
        "col": 8,
        "height": 4,
        "hidden": false,
        "row": 31,
        "width": 4
       },
       "report_default": {}
      }
     }
    },
    "run_control": {
     "frozen": false,
     "read_only": false
    }
   },
   "outputs": [],
   "source": [
    "# Voor Vloer en plafond\n",
    "Lengte  = 7.00\n",
    "Breedte = 7.00\n",
    "Hoogte  = 2.50\n",
    "\n",
    "Buitenmuur_Lengte = 9.40\n",
    "Binnenmuur_Lengte = 1\n",
    "\n",
    "Temperatuur_Binnen      = 20.0\n",
    "Temperatuur_Buiten      = 0.0\n",
    "Temperatuur_Kruipruimte = 8.0\n",
    "\n",
    "# Voor de berekening van de kostenbesparing gaan we uit van \n",
    "# Temperatuurverschil zoals hierboven gedefinieerd\n",
    "# Dit temperatuurverschil is (gemiddeld) gedurende 100 dagen en 24 uur per dag aanwezig.  DIT MOET MOGELIJK BIJGESTELD WORDEN\n",
    "# De gasprijs in [Euro] per m3:\n",
    "Price_Gas = 0.80\n"
   ]
  },
  {
   "cell_type": "markdown",
   "metadata": {
    "extensions": {
     "jupyter_dashboards": {
      "version": 1,
      "views": {
       "grid_default": {
        "col": 4,
        "height": 4,
        "hidden": false,
        "row": 35,
        "width": 4
       },
       "report_default": {}
      }
     }
    }
   },
   "source": [
    "## Vloer"
   ]
  },
  {
   "cell_type": "markdown",
   "metadata": {
    "extensions": {
     "jupyter_dashboards": {
      "version": 1,
      "views": {
       "grid_default": {
        "col": 0,
        "height": 4,
        "hidden": false,
        "row": 39,
        "width": 12
       },
       "report_default": {}
      }
     }
    }
   },
   "source": [
    "Het vierkant van de kamer meet 7.00 * 7.00 meter. \n",
    "<br>De extra hoek van de keuken wordt gecompenseerd door de hoek die wegvalt van hal + wc.\n",
    "<br>De vloer is samengesteld uit beton met daaronder piepschuim. De dikte van beide lagen moet nog worden opgemeten.\n",
    "<br>Bij een buitentemperatuur net onder het vriesput is de temperatuur van de kruipruimte behoorlijk constant en bedraagt ongeveer 7 Celcius."
   ]
  },
  {
   "cell_type": "code",
   "execution_count": 3,
   "metadata": {
    "ExecuteTime": {
     "end_time": "2017-05-05T20:52:07.446636Z",
     "start_time": "2017-05-05T20:52:07.425579Z"
    },
    "extensions": {
     "jupyter_dashboards": {
      "version": 1,
      "views": {
       "grid_default": {
        "col": 0,
        "height": 10,
        "hidden": false,
        "row": 43,
        "width": 4
       },
       "report_default": {}
      }
     }
    },
    "run_control": {
     "frozen": false,
     "read_only": false
    }
   },
   "outputs": [
    {
     "name": "stdout",
     "output_type": "stream",
     "text": [
      "Name        = Woonkamer.Vloer\n",
      "Layers    = [ Rsi Vloer, Woonkamer KurkVloer, Woonkamer Vloer Beton, Woonkamer Vloer Piepschuim, Rse Vloer,  ]\n",
      "R-Waarden = 3.39 [ 0.17, 0.08, 0.12, 2.86, 0.17,  ] [m2.K/W]\n",
      "\n"
     ]
    }
   ],
   "source": [
    "Woonkamer_Vloer = Heat_Transfer_Object ( \"Woonkamer Vloer Beton\" )  \n",
    "Woonkamer_Vloer.Lambda = Beton_Zwaar_Lambda\n",
    "Woonkamer_Vloer.Dikte = 0.20\n",
    "\n",
    "Woonkamer_Piepschuim = Heat_Transfer_Object ( \"Woonkamer Vloer Piepschuim\" )  \n",
    "Woonkamer_Piepschuim.Lambda = Piepschuim_Lambda\n",
    "Woonkamer_Piepschuim.Dikte = 0.10\n",
    "\n",
    "Kurk_Vloer = Heat_Transfer_Object ( \"Woonkamer KurkVloer\" )  \n",
    "Kurk_Vloer.Lambda = Kurk_Lambda\n",
    "Kurk_Vloer.Dikte = 0.003\n",
    "\n",
    "Vloer = Sandwich ( \"Woonkamer.Vloer\" )\n",
    "Vloer.Lengte              = Lengte\n",
    "Vloer.Breedte             = Breedte\n",
    "Vloer.Temperature_Inside  = Temperatuur_Binnen\n",
    "Vloer.Temperature_Outside = Temperatuur_Kruipruimte\n",
    "Vloer.Add ( Rsi_Vloer )\n",
    "Vloer.Add ( Kurk_Vloer )\n",
    "Vloer.Add ( Woonkamer_Vloer )\n",
    "Vloer.Add ( Woonkamer_Piepschuim )\n",
    "Vloer.Add ( Rse_Vloer )\n",
    "print ( Vloer )"
   ]
  },
  {
   "cell_type": "markdown",
   "metadata": {
    "extensions": {
     "jupyter_dashboards": {
      "version": 1,
      "views": {
       "grid_default": {
        "col": 8,
        "height": 4,
        "hidden": false,
        "row": 35,
        "width": 4
       },
       "report_default": {}
      }
     }
    }
   },
   "source": [
    "## Buitenmuur"
   ]
  },
  {
   "cell_type": "markdown",
   "metadata": {
    "extensions": {
     "jupyter_dashboards": {
      "version": 1,
      "views": {
       "grid_default": {
        "col": 0,
        "height": 13,
        "hidden": false,
        "row": 53,
        "width": 12
       },
       "report_default": {}
      }
     }
    }
   },
   "source": [
    "De totale lengte van de buitenmuur bedraagt 9.40.\n",
    "<br>Voor de berekening is gebruik gemaakt van https://www.google.nl/url?sa=t&rct=j&q=&esrc=s&source=web&cd=2&ved=0ahUKEwjo2u2OqdbRAhVlGsAKHXbfCYUQFgg8MAE&url=http%3A%2F%2Fwww.wienerberger.be%2Frekenblad-u-waarde-van-een-spouwmuur.html&usg=AFQjCNEmMozqL3cdMs6CztAMZOI9FY523g&cad=rja\n",
    "\n",
    "De muur is opgemeten, waarbij het volgende is geconstateerd:\n",
    "- buitensteen is waalformaat (20 x 10 x 5 cm)\n",
    "- lucht spauw van 5 cm\n",
    "- isolatie (Rockwoll ?) van 5 cm\n",
    "- Vrij grote en lichte binnensteen 30 x 20 x 10 cm,  Poriso ??\n",
    "\n",
    "Gevelsteen: R = 0.084  m2.K/W\n",
    "\n",
    "Isolatie van 5 cm geeft volgens Rockwool een R = 1.4, volgens Rockwool 1.3 https://www.isolatiediscounter.nl/rockwool-steenwol-bouwplaat-120-x-60-x-5-cm-rd-1-30\n",
    "\n",
    "Binnenmuur: R = 0.378 m2.K/W\n",
    "\n",
    "Totaal geeft dit een U-Waarde van 0.52 W /m2.K"
   ]
  },
  {
   "cell_type": "code",
   "execution_count": 4,
   "metadata": {},
   "outputs": [],
   "source": [
    "Spouw_Zwak_Geventileerd = Heat_Transfer_Object ( \"Spouw Zwak Geventileerd\" )\n",
    "Spouw_Zwak_Geventileerd.R_Waarde = 0.17   # http://www.ekbouwadvies.nl/bouwbesluit/energiezuinigheid/spouwventilatie.asp\n",
    "\n",
    "Kalkzandsteen = Heat_Transfer_Object ( \"Kalkzandsteen\" )\n",
    "Kalkzandsteen.R_Waarde = 0.1\n",
    "\n",
    "Baksteen = Heat_Transfer_Object ( \"Baksteen\" )\n",
    "Baksteen.R_Waarde = 0.08\n",
    "\n",
    "Glaswol_5cm = Heat_Transfer_Object ( \"Glaswol 5cm\" )\n",
    "Glaswol_5cm.Lambda = 0.035\n",
    "Glaswol_5cm.Dikte  = 0.05\n",
    "\n",
    "Iso_Parels_5cm = Heat_Transfer_Object ( \"Iso-Parels 5cm\" )\n",
    "Iso_Parels_5cm.Lambda = 0.034\n",
    "Iso_Parels_5cm.Dikte  = 0.05\n",
    "\n",
    "PIR_alu_10cm = Heat_Transfer_Object ( \"PIR_alu_10cm\" )\n",
    "PIR_alu_10cm.R_Waarde = 4.54\n",
    "PIR_alu_5cm = Heat_Transfer_Object ( \"PIR_alu_5cm\" )\n",
    "PIR_alu_5cm.R_Waarde = 2.27\n",
    "PIR_alu_2cm = Heat_Transfer_Object ( \"PIR_alu_2cm\" )\n",
    "PIR_alu_2cm.R_Waarde = 0.91\n",
    "\n",
    "Leem_Deklaag = Heat_Transfer_Object ( \"Leem_Deklaag\" )\n",
    "Leem_Deklaag.Lambda = 1.2\n",
    "Leem_Deklaag.Dikte  = 0.01\n",
    "\n",
    "Gipsplaat = Heat_Transfer_Object ( \"Gipsplaat\" )\n",
    "Gipsplaat.R_Waarde = 0.04"
   ]
  },
  {
   "cell_type": "code",
   "execution_count": 5,
   "metadata": {},
   "outputs": [
    {
     "name": "stdout",
     "output_type": "stream",
     "text": [
      "Name        = Buitenmuur_Nu\n",
      "Layers    = [ Rsi, Kalkzandsteen, Glaswol 5cm, Spouw Zwak Geventileerd, Baksteen, Rse,  ]\n",
      "R-Waarden = 1.95 [ 0.13, 0.10, 1.43, 0.17, 0.08, 0.04,  ] [m2.K/W]\n",
      "\n",
      "Name        = Buitenmuur Parels\n",
      "Layers    = [ Rsi, Kalkzandsteen, Glaswol 5cm, Iso-Parels 5cm, Baksteen, Rse,  ]\n",
      "R-Waarden = 3.25 [ 0.13, 0.10, 1.43, 1.47, 0.08, 0.04,  ] [m2.K/W]\n",
      "\n",
      "Name        = Buitenmuur_Super\n",
      "Layers    = [ Rsi, Gipsplaat, PIR_alu_5cm, Kalkzandsteen, Glaswol 5cm, Iso-Parels 5cm, Baksteen, Rse,  ]\n",
      "R-Waarden = 5.56 [ 0.13, 0.04, 2.27, 0.10, 1.43, 1.47, 0.08, 0.04,  ] [m2.K/W]\n",
      "\n"
     ]
    }
   ],
   "source": [
    "Buitenmuur_Nu = Sandwich ( \"Buitenmuur_Nu\" )\n",
    "Buitenmuur_Nu.Lengte              = Buitenmuur_Lengte\n",
    "Buitenmuur_Nu.Hoogte              = Hoogte\n",
    "Buitenmuur_Nu.Temperature_Inside  = Temperatuur_Binnen\n",
    "Buitenmuur_Nu.Temperature_Outside = Temperatuur_Buiten\n",
    "Buitenmuur_Nu.Add ( Rsi )\n",
    "Buitenmuur_Nu.Add ( Kalkzandsteen )\n",
    "Buitenmuur_Nu.Add ( Glaswol_5cm )\n",
    "Buitenmuur_Nu.Add ( Spouw_Zwak_Geventileerd )\n",
    "Buitenmuur_Nu.Add ( Baksteen )\n",
    "Buitenmuur_Nu.Add ( Rse )\n",
    "\n",
    "Buitenmuur_Na = Sandwich ( \"Buitenmuur Parels\" )\n",
    "Buitenmuur_Na.Lengte              = Buitenmuur_Lengte\n",
    "Buitenmuur_Na.Hoogte              = Hoogte\n",
    "Buitenmuur_Na.Temperature_Inside  = Temperatuur_Binnen\n",
    "Buitenmuur_Na.Temperature_Outside = Temperatuur_Buiten\n",
    "Buitenmuur_Na.Add ( Rsi )\n",
    "Buitenmuur_Na.Add ( Kalkzandsteen )\n",
    "Buitenmuur_Na.Add ( Glaswol_5cm )\n",
    "Buitenmuur_Na.Add ( Iso_Parels_5cm )\n",
    "Buitenmuur_Na.Add ( Baksteen )\n",
    "Buitenmuur_Na.Add ( Rse )\n",
    "\n",
    "Buitenmuur_Super = Sandwich ( \"Buitenmuur_Super\" )\n",
    "Buitenmuur_Super.Lengte              = Buitenmuur_Lengte\n",
    "Buitenmuur_Super.Hoogte              = Hoogte\n",
    "Buitenmuur_Super.Temperature_Inside  = Temperatuur_Binnen\n",
    "Buitenmuur_Super.Temperature_Outside = Temperatuur_Buiten\n",
    "Buitenmuur_Super.Add ( Rsi )\n",
    "Buitenmuur_Super.Add ( Gipsplaat )\n",
    "Buitenmuur_Super.Add ( PIR_alu_5cm )\n",
    "Buitenmuur_Super.Add ( Kalkzandsteen )\n",
    "Buitenmuur_Super.Add ( Glaswol_5cm )\n",
    "Buitenmuur_Super.Add ( Iso_Parels_5cm )\n",
    "Buitenmuur_Super.Add ( Baksteen )\n",
    "Buitenmuur_Super.Add ( Rse )\n",
    "\n",
    "print ( Buitenmuur_Nu )\n",
    "print ( Buitenmuur_Na )\n",
    "print ( Buitenmuur_Super )"
   ]
  },
  {
   "cell_type": "markdown",
   "metadata": {},
   "source": [
    "## Ramen"
   ]
  },
  {
   "cell_type": "code",
   "execution_count": 6,
   "metadata": {
    "ExecuteTime": {
     "end_time": "2017-05-05T20:52:07.806108Z",
     "start_time": "2017-05-05T20:52:07.792570Z"
    },
    "run_control": {
     "frozen": false,
     "read_only": false
    }
   },
   "outputs": [
    {
     "name": "stdout",
     "output_type": "stream",
     "text": [
      "Name        = Ramen Nu\n",
      "Layers    = [ HR glas,  ]\n",
      "R-Waarden = 0.36 [ 0.36,  ] [m2.K/W]\n",
      "\n",
      "Name        = Ramen HR++\n",
      "Layers    = [ HR++ glas,  ]\n",
      "R-Waarden = 0.91 [ 0.91,  ] [m2.K/W]\n",
      "\n",
      "Name        = Ramen HR+++\n",
      "Layers    = [ HR+++ glas,  ]\n",
      "R-Waarden = 2.00 [ 2.00,  ] [m2.K/W]\n",
      "\n"
     ]
    }
   ],
   "source": [
    "Opp = 2.1*1 + 1.3*2.5 + 2.4*1.3 + 1.8*2.1\n",
    "\n",
    "HR_Glas = Heat_Transfer_Object ( \"HR glas\" ) \n",
    "HR_Glas.U_Waarde = 2.8\n",
    "\n",
    "HRxx_Glas = Heat_Transfer_Object ( \"HR++ glas\" ) \n",
    "HRxx_Glas.U_Waarde = 1.1\n",
    "\n",
    "HRxxx_Glas = Heat_Transfer_Object ( \"HR+++ glas\" ) \n",
    "HRxxx_Glas.U_Waarde = 0.5\n",
    "\n",
    "Ramen_Nu = Sandwich ( \"Ramen Nu\" )\n",
    "Ramen_Nu.Lengte              = Opp / 2\n",
    "Ramen_Nu.Hoogte              = 2\n",
    "Ramen_Nu.Temperature_Inside  = Temperatuur_Binnen\n",
    "Ramen_Nu.Temperature_Outside = Temperatuur_Buiten\n",
    "Ramen_Nu.Add ( HR_Glas )\n",
    "\n",
    "Ramen_HRxx = Sandwich ( \"Ramen HR++\" )\n",
    "Ramen_HRxx.Lengte              = Opp / 2\n",
    "Ramen_HRxx.Hoogte              = 2\n",
    "Ramen_HRxx.Temperature_Inside  = Temperatuur_Binnen\n",
    "Ramen_HRxx.Temperature_Outside = Temperatuur_Buiten\n",
    "Ramen_HRxx.Add ( HRxx_Glas )\n",
    "\n",
    "Ramen_HRxxx = Sandwich ( \"Ramen HR+++\" )\n",
    "Ramen_HRxxx.Lengte              = Opp / 2\n",
    "Ramen_HRxxx.Hoogte              = 2\n",
    "Ramen_HRxxx.Temperature_Inside  = Temperatuur_Binnen\n",
    "Ramen_HRxxx.Temperature_Outside = Temperatuur_Buiten\n",
    "Ramen_HRxxx.Add ( HRxxx_Glas )\n",
    "\n",
    "print ( Ramen_Nu )\n",
    "print ( Ramen_HRxx )\n",
    "print ( Ramen_HRxxx )"
   ]
  },
  {
   "cell_type": "markdown",
   "metadata": {},
   "source": [
    "## Kozijnen\n",
    "Gegevens afkomstig van WV_Glas.ipynb"
   ]
  },
  {
   "cell_type": "code",
   "execution_count": 7,
   "metadata": {},
   "outputs": [],
   "source": [
    "Voorraam_Opp = 2.1 * 0.98\n",
    "Glas_Opp     = 3 * 0.61 * 0.87\n",
    "Draai_Opp    = 2 * 2 * 0.05 * ( 0.60 + 0.80 )\n",
    "\n",
    "Kozijn_Opp1      = Voorraam_Opp - Glas_Opp\n",
    "Kozijn_Opp1_Perc = 100* Kozijn_Opp1 / Voorraam_Opp\n",
    "\n",
    "Kozijn_Opp = Kozijn_Opp1_Perc * Opp / 100\n",
    "Kozijn_Dikte = 0.12\n",
    "\n",
    "Lambda_Dark_Red_Meranti = 0.16  # geldt ook voor Iroko, Sapeli, Sipo,Teak\n",
    "Kozijn_Dark_Red_Meranti        = Heat_Transfer_Object ( \"Kozijn Dark Red Merantie\" )  \n",
    "Kozijn_Dark_Red_Meranti.Lambda = Lambda_Dark_Red_Meranti\n",
    "Kozijn_Dark_Red_Meranti.Dikte  = Kozijn_Dikte\n",
    "\n",
    "Kozijnen = Sandwich ( \"Kozijn Dark Red Meranti\" )\n",
    "Kozijnen.Lengte              = 2\n",
    "Kozijnen.Breedte             = Kozijn_Opp / Kozijnen.Lengte\n",
    "Kozijnen.Temperature_Inside  = Temperatuur_Binnen\n",
    "Kozijnen.Temperature_Outside = Temperatuur_Buiten\n",
    "Kozijnen.Add ( Rsi )\n",
    "Kozijnen.Add ( Kozijn_Dark_Red_Meranti )\n",
    "Kozijnen.Add ( Rse )\n",
    "\n"
   ]
  },
  {
   "cell_type": "markdown",
   "metadata": {},
   "source": [
    "## Binnenmuur"
   ]
  },
  {
   "cell_type": "markdown",
   "metadata": {},
   "source": [
    "De binnenmuur is deels voorzien van een spouw en deels gewoon een enkelsteens muur\n",
    "<br> En voor de temperatuur aan de andere kant gebruiken we in eerste instantie de temperatuur van de kruipruimte."
   ]
  },
  {
   "cell_type": "code",
   "execution_count": 8,
   "metadata": {
    "ExecuteTime": {
     "end_time": "2017-05-05T20:52:08.005710Z",
     "start_time": "2017-05-05T20:52:07.998202Z"
    },
    "cell_style": "center",
    "collapsed": true,
    "run_control": {
     "frozen": false,
     "read_only": false
    }
   },
   "outputs": [
    {
     "name": "stdout",
     "output_type": "stream",
     "text": [
      "Name        = Binnenmuur Spouw Nu\n",
      "Layers    = [ Rsi, Kalkzandsteen, Glaswol 5cm, Spouw Zwak Geventileerd, Baksteen, Rsi,  ]\n",
      "R-Waarden = 2.04 [ 0.13, 0.10, 1.43, 0.17, 0.08, 0.13,  ] [m2.K/W]\n",
      "\n",
      "Name        = Binnenmuur Spouw Parels\n",
      "Layers    = [ Rsi, Kalkzandsteen, Glaswol 5cm, Iso-Parels 5cm, Baksteen, Rsi,  ]\n",
      "R-Waarden = 3.34 [ 0.13, 0.10, 1.43, 1.47, 0.08, 0.13,  ] [m2.K/W]\n",
      "\n",
      "Name        = Binnenmuur Enkel\n",
      "Layers    = [ Rsi, Kalkzandsteen, Rsi,  ]\n",
      "R-Waarden = 0.36 [ 0.13, 0.10, 0.13,  ] [m2.K/W]\n",
      "\n",
      "Name        = Binnenmuur Enkel 5cm PIR\n",
      "Layers    = [ Rsi, Kalkzandsteen, PIR_alu_5cm, Gipsplaat, Rsi,  ]\n",
      "R-Waarden = 2.67 [ 0.13, 0.10, 2.27, 0.04, 0.13,  ] [m2.K/W]\n",
      "\n"
     ]
    }
   ],
   "source": [
    "Binnenmuur_Spouw_Lengte = 10\n",
    "Binnenmuur_Enkel_Lengte = 4\n",
    "\n",
    "Binnenmuur_Spouw_Nu = Sandwich ( \"Binnenmuur Spouw Nu\" )\n",
    "Binnenmuur_Spouw_Nu.Lengte              = Binnenmuur_Spouw_Lengte\n",
    "Binnenmuur_Spouw_Nu.Hoogte              = Hoogte\n",
    "Binnenmuur_Spouw_Nu.Temperature_Inside  = Temperatuur_Binnen\n",
    "Binnenmuur_Spouw_Nu.Temperature_Outside = Temperatuur_Kruipruimte\n",
    "Binnenmuur_Spouw_Nu.Add ( Rsi )\n",
    "Binnenmuur_Spouw_Nu.Add ( Kalkzandsteen )\n",
    "Binnenmuur_Spouw_Nu.Add ( Glaswol_5cm )\n",
    "Binnenmuur_Spouw_Nu.Add ( Spouw_Zwak_Geventileerd )\n",
    "#Binnenmuur_Spouw_Nu.Add ( Iso_Parels_5cm )\n",
    "Binnenmuur_Spouw_Nu.Add ( Baksteen )\n",
    "Binnenmuur_Spouw_Nu.Add ( Rsi ) \n",
    "\n",
    "Binnenmuur_Spouw_Parels = Sandwich ( \"Binnenmuur Spouw Parels\" )\n",
    "Binnenmuur_Spouw_Parels.Lengte              = Binnenmuur_Spouw_Lengte\n",
    "Binnenmuur_Spouw_Parels.Hoogte              = Hoogte\n",
    "Binnenmuur_Spouw_Parels.Temperature_Inside  = Temperatuur_Binnen\n",
    "Binnenmuur_Spouw_Parels.Temperature_Outside = Temperatuur_Kruipruimte\n",
    "Binnenmuur_Spouw_Parels.Add ( Rsi )\n",
    "Binnenmuur_Spouw_Parels.Add ( Kalkzandsteen )\n",
    "Binnenmuur_Spouw_Parels.Add ( Glaswol_5cm )\n",
    "Binnenmuur_Spouw_Parels.Add ( Iso_Parels_5cm )\n",
    "Binnenmuur_Spouw_Parels.Add ( Baksteen )\n",
    "Binnenmuur_Spouw_Parels.Add ( Rsi ) \n",
    "\n",
    "Binnenmuur_Enkel_Nu = Sandwich ( \"Binnenmuur Enkel\" )\n",
    "Binnenmuur_Enkel_Nu.Lengte              = Binnenmuur_Enkel_Lengte\n",
    "Binnenmuur_Enkel_Nu.Hoogte              = Hoogte\n",
    "Binnenmuur_Enkel_Nu.Temperature_Inside  = Temperatuur_Binnen\n",
    "Binnenmuur_Enkel_Nu.Temperature_Outside = Temperatuur_Kruipruimte\n",
    "Binnenmuur_Enkel_Nu.Add ( Rsi )\n",
    "Binnenmuur_Enkel_Nu.Add ( Kalkzandsteen )\n",
    "Binnenmuur_Enkel_Nu.Add ( Rsi ) \n",
    "\n",
    "Binnenmuur_Enkel_PIR5 = Sandwich ( \"Binnenmuur Enkel 5cm PIR\" )\n",
    "Binnenmuur_Enkel_PIR5.Lengte              = Binnenmuur_Enkel_Lengte\n",
    "Binnenmuur_Enkel_PIR5.Hoogte              = Hoogte\n",
    "Binnenmuur_Enkel_PIR5.Temperature_Inside  = Temperatuur_Binnen\n",
    "Binnenmuur_Enkel_PIR5.Temperature_Outside = Temperatuur_Kruipruimte\n",
    "Binnenmuur_Enkel_PIR5.Add ( Rsi )\n",
    "Binnenmuur_Enkel_PIR5.Add ( Kalkzandsteen )\n",
    "Binnenmuur_Enkel_PIR5.Add ( PIR_alu_5cm )\n",
    "Binnenmuur_Enkel_PIR5.Add ( Gipsplaat )\n",
    "Binnenmuur_Enkel_PIR5.Add ( Rsi ) \n",
    "\n",
    "print ( Binnenmuur_Spouw_Nu )\n",
    "print ( Binnenmuur_Spouw_Parels )\n",
    "print ( Binnenmuur_Enkel_Nu )\n",
    "print ( Binnenmuur_Enkel_PIR5 )"
   ]
  },
  {
   "cell_type": "markdown",
   "metadata": {
    "extensions": {
     "jupyter_dashboards": {
      "version": 1,
      "views": {
       "grid_default": {
        "col": 8,
        "height": 4,
        "hidden": false,
        "row": 43,
        "width": 4
       },
       "report_default": {}
      }
     }
    }
   },
   "source": [
    "## Plafond"
   ]
  },
  {
   "cell_type": "markdown",
   "metadata": {
    "extensions": {
     "jupyter_dashboards": {
      "version": 1,
      "views": {
       "grid_default": {
        "col": 0,
        "height": 5,
        "hidden": false,
        "row": 66,
        "width": 12
       },
       "report_default": {}
      }
     }
    }
   },
   "source": [
    "Het oppervlakte is gelijk aan het oppervlakte van de bodem.\n",
    "<br>De tussenvloer bestaat uit 19 cm beton (deels hol) + 3 mm kurk.\n",
    "<br>De vloer betsaat uit zogenaamde \"kanaalplaten\" (vermoedelijk 15 cm,, want dat is een standaardmaat) met daarbovenop een deklaag waarin de leidingen zijn weggewerkt.\n",
    "<br>De totale dikte bedraagt 19 cm.\n",
    "<br>Van de betonplaten is geen warmtegeleiding te vinden. Tegenwoordig worden deze platen vooral geleverd met eps laag en dan bepaald de dikte van de eps laag nagenoeg volledig de warmtegeleiding.\n",
    "<br>Bovenruimten zijn niet verwarmd, er is dus een opwaartse warmtestroom, hetgeen betekent dat Rsi en Rse beide 0.1 moeten zijn.\n",
    "<br>\n",
    "1. ECHO-kanaalplaatvloer, 15 cm (R = 0,147)\n",
    "2. Dekvloer, 5 cm (λ  = 1,3)\n",
    "3. Kurk, 3 mm\n"
   ]
  },
  {
   "cell_type": "code",
   "execution_count": 9,
   "metadata": {
    "ExecuteTime": {
     "end_time": "2017-05-05T20:52:08.484027Z",
     "start_time": "2017-05-05T20:52:08.419851Z"
    },
    "extensions": {
     "jupyter_dashboards": {
      "version": 1,
      "views": {
       "grid_default": {
        "hidden": true
       },
       "report_default": {}
      }
     }
    },
    "run_control": {
     "frozen": false,
     "read_only": false
    },
    "solution": "hidden",
    "solution_first": true
   },
   "outputs": [
    {
     "name": "stdout",
     "output_type": "stream",
     "text": [
      "Name        = Plafond\n",
      "Layers    = [ Rsi Plafond, Plafond Kanaalplaat, Plafond DekVloer, Kurk, Rsi Plafond,  ]\n",
      "R-Waarden = 0.46 [ 0.10, 0.15, 0.04, 0.08, 0.10,  ] [m2.K/W]\n",
      "\n",
      "Name        = Plafond_New\n",
      "Layers    = [ Rsi, PIR_alu_5cm, Plafond Kanaalplaat, Plafond DekVloer, Kurk, Rsi,  ]\n",
      "R-Waarden = 2.79 [ 0.13, 2.27, 0.15, 0.04, 0.08, 0.13,  ] [m2.K/W]\n",
      "\n"
     ]
    }
   ],
   "source": [
    "\n",
    "Plafond_Kanaalplaat = Heat_Transfer_Object ( \"Plafond Kanaalplaat\" )\n",
    "Plafond_Kanaalplaat.R_Waarde = 0.147\n",
    "#print ( Plafond_Kanaalplaat )\n",
    "\n",
    "Plafond_DekVloer = Heat_Transfer_Object ( \"Plafond DekVloer\" )\n",
    "Plafond_DekVloer.Dikte  = 0.05\n",
    "Plafond_DekVloer.Lambda = 1.3\n",
    "#print ( Plafond_DekVloer )\n",
    "\n",
    "Kurk = Heat_Transfer_Object ( \"Kurk\" )  \n",
    "Kurk.Lambda = Kurk_Lambda\n",
    "Kurk.Dikte = 0.003\n",
    "#print ( Kurk )\n",
    "\n",
    "Plafond = Sandwich ( 'Plafond' )\n",
    "Plafond.Add ( Rsi_Plafond )\n",
    "Plafond.Add ( Plafond_Kanaalplaat )\n",
    "Plafond.Add ( Plafond_DekVloer )\n",
    "Plafond.Add ( Kurk )\n",
    "Plafond.Add ( Rsi_Plafond )\n",
    "Plafond.Lengte              = Lengte\n",
    "Plafond.Breedte             = Breedte\n",
    "Plafond.Temperature_Inside  = Temperatuur_Binnen\n",
    "Plafond.Temperature_Outside = Temperatuur_Kruipruimte\n",
    "\n",
    "Plafond_New = Sandwich ( 'Plafond_New' )\n",
    "Plafond_New.Add ( Rsi )\n",
    "Plafond_New.Add ( PIR_alu_5cm )\n",
    "Plafond_New.Add ( Plafond_Kanaalplaat )\n",
    "Plafond_New.Add ( Plafond_DekVloer )\n",
    "Plafond_New.Add ( Kurk )\n",
    "Plafond_New.Add ( Rsi )\n",
    "Plafond_New.Lengte              = Plafond.Lengte\n",
    "Plafond_New.Breedte             = Plafond.Breedte\n",
    "Plafond_New.Temperature_Inside  = Plafond.Temperature_Inside\n",
    "Plafond_New.Temperature_Outside = Plafond.Temperature_Outside\n",
    "\n",
    "print ( Plafond )\n",
    "print ( Plafond_New )"
   ]
  },
  {
   "cell_type": "markdown",
   "metadata": {},
   "source": [
    "## Haldeur"
   ]
  },
  {
   "cell_type": "code",
   "execution_count": 10,
   "metadata": {},
   "outputs": [
    {
     "name": "stdout",
     "output_type": "stream",
     "text": [
      "Name        = Haldeur\n",
      "Objects     = [ Haldeur Rand, Haldeur Glas, ]\n",
      "Oppervlakte = 1.7 [0.7, 1.1, ] [m2]\n",
      "R-Waarde    = 0.32 [ 0.5, 0.2, ] [m2.K/W]\n",
      "\n",
      "Name        = Haldeur 2\n",
      "Objects     = [ Haldeur Rand 2, Haldeur Glas 2, ]\n",
      "Oppervlakte = 1.7 [0.7, 1.1, ] [m2]\n",
      "R-Waarde    = 1.36 [ 1.1, 1.5, ] [m2.K/W]\n",
      "\n"
     ]
    }
   ],
   "source": [
    "Deur_Dikte   = 0.04\n",
    "Deur_Breedte = 0.85\n",
    "Deur_Hoogte  = 2.05\n",
    "\n",
    "Glas_Enkel = Heat_Transfer_Object ( \"Glas Enkel\" )  \n",
    "Glas_Enkel.U_Waarde = 5.7\n",
    "\n",
    "Hout = Heat_Transfer_Object ( \"Hout\" )  \n",
    "Hout.Lambda = Hout_Lambda\n",
    "Hout.Dikte  = Deur_Dikte\n",
    "\n",
    "Lucht_2cm = Heat_Transfer_Object ( \"Lucht 2 cm\" )  \n",
    "Lucht_2cm.Lambda = Lucht_Lambda\n",
    "Lucht_2cm.Dikte  = 0.02\n",
    "\n",
    "CarbonaatPlaat = Heat_Transfer_Object ( \"CarbonaatPlaat\" )  \n",
    "CarbonaatPlaat.R_Waarde = 1/ 1.8      #  16 mm U=2.3,  16 TOP-X U=1.8\n",
    "\n",
    "\n",
    "Haldeur_Glas = Sandwich ( 'Haldeur Glas')\n",
    "Haldeur_Glas.Add ( Glas_Enkel )\n",
    "Haldeur_Glas.Lengte              = 1.70\n",
    "Haldeur_Glas.Breedte             = 0.62\n",
    "Haldeur_Glas.Temperature_Inside  = Temperatuur_Binnen\n",
    "Haldeur_Glas.Temperature_Outside = Temperatuur_Kruipruimte\n",
    "\n",
    "Haldeur_Rand = Sandwich ( 'Haldeur Rand' )\n",
    "Haldeur_Rand.Add ( Rsi )\n",
    "Haldeur_Rand.Add ( Hout )\n",
    "Haldeur_Rand.Add ( Rsi )\n",
    "Haldeur_Rand.Lengte              = Haldeur_Glas.Lengte\n",
    "Haldeur_Rand.Breedte             = ( ( Deur_Breedte * Deur_Hoogte ) - Haldeur_Glas.Oppervlakte() ) / Haldeur_Rand.Lengte\n",
    "Haldeur_Rand.Temperature_Inside  = Temperatuur_Binnen\n",
    "Haldeur_Rand.Temperature_Outside = Temperatuur_Kruipruimte\n",
    "\n",
    "Haldeur = Heat_Parallel_Object ( \"Haldeur\")\n",
    "Haldeur.Add ( Haldeur_Rand )\n",
    "Haldeur.Add ( Haldeur_Glas )\n",
    "Haldeur.Temperature_Inside  = Temperatuur_Binnen\n",
    "Haldeur.Temperature_Outside = Temperatuur_Kruipruimte\n",
    "\n",
    "\n",
    "Haldeur_Glas2 = Sandwich ( 'Haldeur Glas 2')\n",
    "Haldeur_Glas2.Add ( Glas_Enkel )\n",
    "Haldeur_Glas2.Add ( Lucht_2cm )\n",
    "Haldeur_Glas2.Add ( CarbonaatPlaat )\n",
    "Haldeur_Glas2.Lengte              = 1.70\n",
    "Haldeur_Glas2.Breedte             = 0.62\n",
    "Haldeur_Glas2.Temperature_Inside  = Temperatuur_Binnen\n",
    "Haldeur_Glas2.Temperature_Outside = Temperatuur_Kruipruimte\n",
    "\n",
    "Haldeur_Rand2 = Sandwich ( 'Haldeur Rand 2' )\n",
    "Haldeur_Rand2.Add ( Rsi )\n",
    "Haldeur_Rand2.Add ( Hout )\n",
    "Haldeur_Rand2.Add ( CarbonaatPlaat )\n",
    "Haldeur_Rand2.Add ( Rsi )\n",
    "Haldeur_Rand2.Lengte              = Haldeur_Glas.Lengte\n",
    "Haldeur_Rand2.Breedte             = ( ( Deur_Breedte * Deur_Hoogte ) - Haldeur_Glas.Oppervlakte() ) / Haldeur_Rand.Lengte\n",
    "Haldeur_Rand2.Temperature_Inside  = Temperatuur_Binnen\n",
    "Haldeur_Rand2.Temperature_Outside = Temperatuur_Kruipruimte\n",
    "\n",
    "Haldeur2 = Heat_Parallel_Object ( \"Haldeur 2\")\n",
    "Haldeur2.Add ( Haldeur_Rand2 )\n",
    "Haldeur2.Add ( Haldeur_Glas2 )\n",
    "Haldeur2.Temperature_Inside  = Temperatuur_Binnen\n",
    "Haldeur2.Temperature_Outside = Temperatuur_Kruipruimte\n",
    "\n",
    "\n",
    "\n",
    "print ( Haldeur  )\n",
    "print ( Haldeur2 ) "
   ]
  },
  {
   "cell_type": "markdown",
   "metadata": {},
   "source": [
    "## Keukendeur"
   ]
  },
  {
   "cell_type": "code",
   "execution_count": 11,
   "metadata": {},
   "outputs": [
    {
     "name": "stdout",
     "output_type": "stream",
     "text": [
      "Name        = Keukendeur\n",
      "Objects     = [ Keukendeur_Rand, Keukendeur_Kern, ]\n",
      "Oppervlakte = 1.7 [0.4, 1.4, ] [m2]\n",
      "R-Waarde    = 1.64 [ 0.6, 1.9, ] [m2.K/W]\n",
      "\n"
     ]
    }
   ],
   "source": [
    "Lakboard = Heat_Transfer_Object ( \"Lakboard\" )  \n",
    "Lakboard.Lambda = Hardboard_Lambda\n",
    "Lakboard.Dikte = 0.004\n",
    "\n",
    "Lucht = Heat_Transfer_Object ( \"Lucht\" )  \n",
    "Lucht.Lambda = Lucht_Lambda\n",
    "Lucht.Dikte  = Hout.Dikte\n",
    "\n",
    "Keukendeur_Rand = Sandwich ( 'Keukendeur_Rand' )\n",
    "Keukendeur_Rand.Add ( Rsi )\n",
    "Keukendeur_Rand.Add ( Lakboard )\n",
    "Keukendeur_Rand.Add ( Hout )\n",
    "Keukendeur_Rand.Add ( Lakboard )\n",
    "Keukendeur_Rand.Add ( Rsi )\n",
    "Keukendeur_Rand.Lengte              = 6\n",
    "Keukendeur_Rand.Breedte             = 0.06\n",
    "Keukendeur_Rand.Temperature_Inside  = Temperatuur_Binnen\n",
    "Keukendeur_Rand.Temperature_Outside = Temperatuur_Kruipruimte\n",
    "\n",
    "Keukendeur_Kern = Sandwich ( 'Keukendeur_Kern' )\n",
    "Keukendeur_Kern.Add ( Rsi )\n",
    "Keukendeur_Kern.Add ( Lakboard )\n",
    "Keukendeur_Kern.Add ( Lucht )\n",
    "Keukendeur_Kern.Add ( Lakboard )\n",
    "Keukendeur_Kern.Add ( Rsi )\n",
    "Keukendeur_Kern.Lengte              = ( Deur_Breedte * Deur_Hoogte ) - Keukendeur_Rand.Oppervlakte()\n",
    "Keukendeur_Kern.Breedte             = 1\n",
    "Keukendeur_Kern.Temperature_Inside  = Temperatuur_Binnen\n",
    "Keukendeur_Kern.Temperature_Outside = Temperatuur_Kruipruimte\n",
    "\n",
    "Keukendeur = Heat_Parallel_Object ( \"Keukendeur\")\n",
    "Keukendeur.Add ( Keukendeur_Rand )\n",
    "Keukendeur.Add ( Keukendeur_Kern )\n",
    "Keukendeur.Temperature_Inside  = Temperatuur_Binnen\n",
    "Keukendeur.Temperature_Outside = Temperatuur_Kruipruimte\n",
    "\n",
    "print ( Keukendeur )"
   ]
  },
  {
   "cell_type": "markdown",
   "metadata": {},
   "source": [
    "## Tuindeuren"
   ]
  },
  {
   "cell_type": "code",
   "execution_count": 12,
   "metadata": {},
   "outputs": [
    {
     "name": "stdout",
     "output_type": "stream",
     "text": [
      "Name        = Tuindeuren\n",
      "Layers    = [ Rsi, Tuindeur_Hout, Rsi,  ]\n",
      "R-Waarden = 0.50 [ 0.13, 0.24, 0.13,  ] [m2.K/W]\n",
      "\n",
      "Name        = Tuindeuren 2\n",
      "Layers    = [ Rsi, Tuindeur_Hout, PIR_alu_2cm, Rsi,  ]\n",
      "R-Waarden = 1.41 [ 0.13, 0.24, 0.91, 0.13,  ] [m2.K/W]\n",
      "\n"
     ]
    }
   ],
   "source": [
    "Opp_Totaal = 1.70 * 2.10\n",
    "Opp_Ruiten = 2 * 0.6 * 1.6\n",
    "Opp_Hout   = Opp_Totaal - Opp_Ruiten\n",
    "\n",
    "Tuindeur_Hout = Heat_Transfer_Object ( \"Tuindeur_Hout\" )  \n",
    "Tuindeur_Hout.Lambda = Hardhout_Lambda\n",
    "Tuindeur_Hout.Dikte = 0.04\n",
    "\n",
    "Tuindeuren = Sandwich ( 'Tuindeuren' )\n",
    "Tuindeuren.Add ( Rsi )\n",
    "Tuindeuren.Add ( Tuindeur_Hout )\n",
    "Tuindeuren.Add ( Rsi )\n",
    "Tuindeuren.Lengte              = ( Deur_Breedte * Deur_Hoogte ) - Keukendeur_Rand.Oppervlakte()\n",
    "Tuindeuren.Breedte             = 1\n",
    "Tuindeuren.Temperature_Inside  = Temperatuur_Binnen\n",
    "Tuindeuren.Temperature_Outside = Temperatuur_Buiten\n",
    "\n",
    "Tuindeuren2 = Sandwich ( 'Tuindeuren 2' )\n",
    "Tuindeuren2.Add ( Rsi )\n",
    "Tuindeuren2.Add ( Tuindeur_Hout )\n",
    "Tuindeuren2.Add ( PIR_alu_2cm )\n",
    "Tuindeuren2.Add ( Rsi )\n",
    "Tuindeuren2.Lengte              = ( Deur_Breedte * Deur_Hoogte ) - Keukendeur_Rand.Oppervlakte()\n",
    "Tuindeuren2.Breedte             = 1\n",
    "Tuindeuren2.Temperature_Inside  = Temperatuur_Binnen\n",
    "Tuindeuren2.Temperature_Outside = Temperatuur_Buiten\n",
    "\n",
    "print ( Tuindeuren )\n",
    "print ( Tuindeuren2 )"
   ]
  },
  {
   "cell_type": "markdown",
   "metadata": {},
   "source": [
    "## Warmwater\n",
    "We hebben een schatting gemaakt van het warmwaterverbuik, zodat we het totaal berekende gasverbruik kunnen vergelijken met het echte gasverbruik.\n",
    "<br>Het is natuurlijk lastig om Boiler verbruik en het echte warmwater gebruik uit elkaar te houden.\n",
    "<br>Het waterverbruik van een douchebeurt ligt tussen de 20 en 40 liter."
   ]
  },
  {
   "cell_type": "code",
   "execution_count": 13,
   "metadata": {},
   "outputs": [
    {
     "name": "stdout",
     "output_type": "stream",
     "text": [
      "Douchebeurt = 0.23 [m3]\n",
      "Warm Water per jaar = 46 [m3]\n",
      "Boiler max :  per dag = 0.60 [m3] //  per jaar = 219 [m3]\n",
      "Boiler min :  per dag = 0.38 [m3] //  per jaar = 140 [m3]\n"
     ]
    }
   ],
   "source": [
    "Water_Warmte_Capaciteit = 1.16E-3 # kWh / ( Celsius * liter )\n",
    "Warm_Water_Liter        = 8000    # ( 2 personen, 2 keer per week, 40 liter )\n",
    "Warm_Water_deltaT       = 50\n",
    "Douche_m3               = 40 * Warm_Water_deltaT * Water_Warmte_Capaciteit / 10\n",
    "Warm_Water_Verbruik_kWh = Warm_Water_Liter * Warm_Water_deltaT * Water_Warmte_Capaciteit\n",
    "Warm_Water_Verbruik_m3  = Warm_Water_Verbruik_kWh / 10\n",
    "print ( \"Douchebeurt = %.2f [m3]\" % Douche_m3 )\n",
    "print ( \"Warm Water per jaar = %i [m3]\" % Warm_Water_Verbruik_m3 )\n",
    "\n",
    "# Boiler wordt 4 tot 5 keer per dag opgewarmd, \n",
    "# opwarmen duurt 4 tot 5 minuten, \n",
    "# waarbij de ketel gemiddeld op 60% draait\n",
    "Boiler_Dag_kWh = 5 * 0.6 * 24 * ( 5 / 60 )\n",
    "Boiler_Dag_m3  = Boiler_Dag_kWh / 10\n",
    "Boiler_m3      = 365 * Boiler_Dag_m3\n",
    "print ( \"Boiler max :  per dag = %.2f [m3] //  per jaar = %i [m3]\" % ( Boiler_Dag_m3, Boiler_m3 ) )\n",
    "Boiler_Dag_kWh = 4 * 0.6 * 24 * ( 4 / 60 )\n",
    "Boiler_Dag_m3  = Boiler_Dag_kWh / 10\n",
    "Boiler_m3      = 365 * Boiler_Dag_m3\n",
    "print ( \"Boiler min :  per dag = %.2f [m3] //  per jaar = %i [m3]\" % ( Boiler_Dag_m3, Boiler_m3 ) )\n",
    "\n",
    "Boiler_Object = Heat_Transfer_Object ( \"Boiler Object\" )\n",
    "Boiler_Object.R_Waarde = 1\n",
    "\n",
    "Boiler = Sandwich ( 'Boiler' )\n",
    "Boiler.Add ( Boiler_Object )\n",
    "Boiler.Dummy               = True\n",
    "Boiler.Lengte              = 23\n",
    "Boiler.Breedte             = 1\n",
    "Boiler.Temperature_Inside  = 80\n",
    "Boiler.Temperature_Outside = 0\n",
    "\n",
    "Boiler_WEG = Sandwich ( 'Boiler WEG' )\n",
    "Boiler_WEG.Add ( Boiler_Object )\n",
    "Boiler_WEG.Dummy               = True\n",
    "Boiler_WEG.Lengte              = 1\n",
    "Boiler_WEG.Breedte             = 1\n",
    "Boiler_WEG.Temperature_Inside  = 80\n",
    "Boiler_WEG.Temperature_Outside = 0\n",
    "\n",
    "WW_Object = Heat_Transfer_Object ( \"WW Object\" )\n",
    "WW_Object.R_Waarde = 1\n",
    "\n",
    "Warm_Water = Sandwich ( 'Warm Water' )\n",
    "Warm_Water.Add ( WW_Object )\n",
    "Warm_Water.Dummy               = True\n",
    "Warm_Water.Lengte              = 7.5\n",
    "Warm_Water.Breedte             = 1\n",
    "Warm_Water.Temperature_Inside  = 80\n",
    "Warm_Water.Temperature_Outside = 0\n"
   ]
  },
  {
   "cell_type": "markdown",
   "metadata": {},
   "source": [
    "## Ventilatie\n",
    "\n",
    "Dit is een stuk hoger dan de oude praktijkrichtlijn NPR 1089 (20 m3 /h/pp) en de aanbevolen luchtverversing van 25 m3 /h/pp van de Gezondheidsraad uit 1984. \n",
    "<br>Bron:  https://www.co2indicator.nl/documentatie/Nieuw%20Bouwbesluit%20gaat%20voorbij%20aan%20gezond%20binnenmilieu.pdf"
   ]
  },
  {
   "cell_type": "code",
   "execution_count": 14,
   "metadata": {},
   "outputs": [
    {
     "name": "stdout",
     "output_type": "stream",
     "text": [
      "65325.0\n",
      "18.145833333333332\n",
      "Name        = Ventilatie_Nu\n",
      "Layers    = [ Ventilatie,  ]\n",
      "R-Waarden = 0.06 [ 0.06,  ] [m2.K/W]\n",
      "\n",
      "Name        = Ventilatie WTW\n",
      "Layers    = [ Ventilatie_2,  ]\n",
      "R-Waarden = 0.11 [ 0.11,  ] [m2.K/W]\n",
      "\n"
     ]
    }
   ],
   "source": [
    "Lucht_Gewicht = 1.3  # [kg/m3]\n",
    "Lucht_Warmte_Capaciteit = 1005  # cp (bij constante druk) [J/kg*K]\n",
    "\n",
    "Ventilatie_Flow = 25   # per persoon in [m3/hr]\n",
    "# Gedurende 24 uur, 50 m3/hr verversen is ruim voldoende voor 2 personen\n",
    "\n",
    "Gewicht_50 = 50 * Lucht_Gewicht\n",
    "\n",
    "Joule_per_Kelvin = Gewicht_50 * Lucht_Warmte_Capaciteit\n",
    "print ( Joule_per_Kelvin )\n",
    "Watt_per_Kelvin = Joule_per_Kelvin / 3600\n",
    "print ( Watt_per_Kelvin )\n",
    "\n",
    "Ventilatie = Heat_Transfer_Object ( \"Ventilatie\" )\n",
    "Ventilatie.U_Waarde = Watt_per_Kelvin\n",
    "\n",
    "Ventilatie_Nu = Sandwich ( \"Ventilatie_Nu\" )\n",
    "Ventilatie_Nu.Add ( Ventilatie )\n",
    "Ventilatie_Nu.Lengte              = 1\n",
    "Ventilatie_Nu.Breedte             = 1\n",
    "Ventilatie_Nu.Temperature_Inside  = Temperatuur_Binnen\n",
    "Ventilatie_Nu.Temperature_Outside = Temperatuur_Buiten\n",
    "\n",
    "Ventilatie_2 = Heat_Transfer_Object ( \"Ventilatie_2\" )\n",
    "Ventilatie_2.U_Waarde = Watt_per_Kelvin / 2\n",
    "\n",
    "Ventilatie_WTW = Sandwich ( \"Ventilatie WTW\" )\n",
    "Ventilatie_WTW.Add ( Ventilatie_2 )\n",
    "Ventilatie_WTW.Lengte              = 1\n",
    "Ventilatie_WTW.Breedte             = 1\n",
    "Ventilatie_WTW.Temperature_Inside  = Temperatuur_Binnen\n",
    "Ventilatie_WTW.Temperature_Outside = Temperatuur_Buiten\n",
    "\n",
    "Base_Heat.PrintLevel = 1\n",
    "print ( Ventilatie_Nu )\n",
    "print ( Ventilatie_WTW )"
   ]
  },
  {
   "cell_type": "markdown",
   "metadata": {},
   "source": [
    "## Koelkast + Vriezer"
   ]
  },
  {
   "cell_type": "code",
   "execution_count": 15,
   "metadata": {},
   "outputs": [
    {
     "name": "stdout",
     "output_type": "stream",
     "text": [
      "Name        = Koelingen\n",
      "Oppervlakte = 2.0 [m2]\n",
      "R-Waarde    = 0.55 [m2.K/W]\n",
      "U-Waarde    = 1.82 [W/m2.K]\n",
      "T-Inside    = 20.0 [Celsius]\n",
      "T-Outside   = 0.0 [Celsius]\n",
      "Heat Loss 1m2   = 36 [W]\n",
      "Energy Cost 1m2 = 6.98 [Euro]\n",
      "Gasprijs        = 0.80 [Euro]\n",
      "Objects     = [ Koelkast, Vriezer, ]\n",
      "Oppervlakte = 2.0 [1.0, 1.0, ] [m2]\n",
      "R-Waarde    = 0.55 [ 0.7, 0.5, ] [m2.K/W]\n",
      "\n"
     ]
    }
   ],
   "source": [
    "Koelkast_Verbruik = 103  # [kWh/jaar]  # AEG  S52500KSW0\n",
    "Vriezer_Verbruik  = 143  # [kWh/jaar]  # Zanker VK202\n",
    "\n",
    "Koelkast_1 = Heat_Transfer_Object ( \"Koelkast Object\" )\n",
    "Koelkast_1.R_Waarde = 0.65\n",
    "\n",
    "Vriezer_1 = Heat_Transfer_Object ( \"Vriezer Object\" )\n",
    "Vriezer_1.R_Waarde = 0.45\n",
    "\n",
    "Koelkast = Sandwich ( \"Koelkast\" )\n",
    "Koelkast.Dummy               = True\n",
    "Koelkast.Add ( Koelkast_1 )\n",
    "Koelkast.Breedte             = 1\n",
    "Koelkast.Hoogte              = 1\n",
    "Koelkast.Temperature_Inside  = 20\n",
    "Koelkast.Temperature_Outside = 0\n",
    "\n",
    "Vriezer = Sandwich ( \"Vriezer\" )\n",
    "Vriezer.Dummy               = True\n",
    "Vriezer.Add ( Vriezer_1 )\n",
    "Vriezer.Breedte             = 1\n",
    "Vriezer.Hoogte              = 1\n",
    "Vriezer.Temperature_Inside  = 20\n",
    "Vriezer.Temperature_Outside = 0\n",
    "\n",
    "Koelingen = Heat_Parallel_Object ( \"Koelingen\")\n",
    "Koelingen.Add ( Koelkast )\n",
    "Koelingen.Add ( Vriezer )\n",
    "Koelingen.Temperature_Inside  = 20\n",
    "Koelingen.Temperature_Outside = 0\n",
    "\n",
    "Base_Heat.PrintLevel = 5\n",
    "print ( Koelingen )\n",
    "\n"
   ]
  },
  {
   "cell_type": "markdown",
   "metadata": {},
   "source": [
    "## PC's"
   ]
  },
  {
   "cell_type": "code",
   "execution_count": 16,
   "metadata": {},
   "outputs": [
    {
     "name": "stdout",
     "output_type": "stream",
     "text": [
      "308.06\n",
      "Name        = PCs + TV\n",
      "Breedte     = -1 [m]\n",
      "Hoogte      = 1 [m]\n",
      "Oppervlakte = 1.0 [m2]\n",
      "R-Waarde    = 0.22 [m2.K/W]\n",
      "U-Waarde    = 4.55 [W/m2.K]\n",
      "T-Inside    = 20.0 [Celsius]\n",
      "T-Outside   = 0.0 [Celsius]\n",
      "Heat Loss 1m2   = 90 [W]\n",
      "Energy Cost 1m2 = 17.45 [Euro]\n",
      "Gasprijs        = 0.80 [Euro]\n",
      "Layers    = [ PC Object,  ]\n",
      "Dikten    = [ -,  ] [cm]\n",
      "R-Waarden = 0.22 [ 0.22,  ] [m2.K/W]\n",
      "U-Waarden = 4.55 [ 4.55,  ] [W/m2.K]\n",
      "T-Inside  = 20.0 [Celsius]\n",
      "T-Outside = 0.0 [Celsius]\n",
      "\n"
     ]
    }
   ],
   "source": [
    "\n",
    "TV_W    = 46\n",
    "TV_h    = 4\n",
    "PC_S_W  = 85  # Met name monitor 75 Watt !!\n",
    "PC_S_h  = 4\n",
    "PC_B_W  = 20\n",
    "PC_B_h  = 4\n",
    "PC_MK_W = 10\n",
    "PC_MK_h = 24\n",
    "PCs_Totaal = 365 * ( TV_W*TV_h + PC_S_W*PC_S_h + PC_B_W*PC_B_h + PC_MK_W*PC_MK_h ) / 1000\n",
    "print ( PCs_Totaal )\n",
    "\n",
    "PC_1 = Heat_Transfer_Object ( \"PC Object\" )\n",
    "PC_1.R_Waarde = 0.22\n",
    "\n",
    "PCs = Sandwich ( \"PCs + TV\" )\n",
    "PCs.Dummy               = True\n",
    "PCs.Add ( PC_1 )\n",
    "PCs.Breedte             = 1\n",
    "PCs.Hoogte              = 1\n",
    "PCs.Temperature_Inside  = 20\n",
    "PCs.Temperature_Outside = 0\n",
    "\n",
    "print ( PCs )"
   ]
  },
  {
   "cell_type": "markdown",
   "metadata": {},
   "source": [
    "## Kamer Nu\n",
    "<img src=\"Verbruik_2018.png\">"
   ]
  },
  {
   "cell_type": "code",
   "execution_count": 17,
   "metadata": {
    "ExecuteTime": {
     "end_time": "2017-05-05T20:52:09.481949Z",
     "start_time": "2017-05-05T20:52:08.487034Z"
    },
    "run_control": {
     "frozen": false,
     "read_only": false
    }
   },
   "outputs": [
    {
     "data": {
      "text/html": [
       "<div>\n",
       "<style scoped>\n",
       "    .dataframe tbody tr th:only-of-type {\n",
       "        vertical-align: middle;\n",
       "    }\n",
       "\n",
       "    .dataframe tbody tr th {\n",
       "        vertical-align: top;\n",
       "    }\n",
       "\n",
       "    .dataframe thead th {\n",
       "        text-align: right;\n",
       "    }\n",
       "</style>\n",
       "<table border=\"1\" class=\"dataframe\">\n",
       "  <thead>\n",
       "    <tr style=\"text-align: right;\">\n",
       "      <th></th>\n",
       "      <th>R-waarde</th>\n",
       "      <th>U-waarde</th>\n",
       "      <th>Oppervlak</th>\n",
       "      <th>T-Binnen</th>\n",
       "      <th>T-Buiten</th>\n",
       "      <th>Kosten-m2</th>\n",
       "      <th>Kosten</th>\n",
       "      <th>Jaar-m3</th>\n",
       "      <th>-5</th>\n",
       "      <th>0</th>\n",
       "      <th>5</th>\n",
       "      <th>10</th>\n",
       "    </tr>\n",
       "  </thead>\n",
       "  <tbody>\n",
       "    <tr>\n",
       "      <th>Woonkamer.Vloer</th>\n",
       "      <td>3.39</td>\n",
       "      <td>0.29</td>\n",
       "      <td>49</td>\n",
       "      <td>20</td>\n",
       "      <td>8</td>\n",
       "      <td>1.57</td>\n",
       "      <td>76</td>\n",
       "      <td>96</td>\n",
       "      <td>361</td>\n",
       "      <td>288</td>\n",
       "      <td>216</td>\n",
       "      <td>144</td>\n",
       "    </tr>\n",
       "    <tr>\n",
       "      <th>Buitenmuur_Nu</th>\n",
       "      <td>1.94</td>\n",
       "      <td>0.51</td>\n",
       "      <td>23.5</td>\n",
       "      <td>20</td>\n",
       "      <td>0</td>\n",
       "      <td>2.73</td>\n",
       "      <td>64</td>\n",
       "      <td>80</td>\n",
       "      <td>301</td>\n",
       "      <td>241</td>\n",
       "      <td>180</td>\n",
       "      <td>120</td>\n",
       "    </tr>\n",
       "    <tr>\n",
       "      <th>Binnenmuur Spouw Nu</th>\n",
       "      <td>2.03</td>\n",
       "      <td>0.49</td>\n",
       "      <td>25</td>\n",
       "      <td>20</td>\n",
       "      <td>8</td>\n",
       "      <td>2.61</td>\n",
       "      <td>65</td>\n",
       "      <td>81</td>\n",
       "      <td>306</td>\n",
       "      <td>245</td>\n",
       "      <td>183</td>\n",
       "      <td>122</td>\n",
       "    </tr>\n",
       "    <tr>\n",
       "      <th>Binnenmuur Enkel</th>\n",
       "      <td>0.36</td>\n",
       "      <td>2.77</td>\n",
       "      <td>10</td>\n",
       "      <td>20</td>\n",
       "      <td>8</td>\n",
       "      <td>14.79</td>\n",
       "      <td>147</td>\n",
       "      <td>184</td>\n",
       "      <td>694</td>\n",
       "      <td>555</td>\n",
       "      <td>416</td>\n",
       "      <td>277</td>\n",
       "    </tr>\n",
       "    <tr>\n",
       "      <th>Ramen Nu</th>\n",
       "      <td>0.35</td>\n",
       "      <td>2.8</td>\n",
       "      <td>12.25</td>\n",
       "      <td>20</td>\n",
       "      <td>0</td>\n",
       "      <td>14.91</td>\n",
       "      <td>182</td>\n",
       "      <td>228</td>\n",
       "      <td>857</td>\n",
       "      <td>686</td>\n",
       "      <td>514</td>\n",
       "      <td>343</td>\n",
       "    </tr>\n",
       "    <tr>\n",
       "      <th>Kozijn Dark Red Meranti</th>\n",
       "      <td>0.92</td>\n",
       "      <td>1.08</td>\n",
       "      <td>2.77</td>\n",
       "      <td>20</td>\n",
       "      <td>0</td>\n",
       "      <td>5.78</td>\n",
       "      <td>16</td>\n",
       "      <td>20</td>\n",
       "      <td>75</td>\n",
       "      <td>60</td>\n",
       "      <td>45</td>\n",
       "      <td>30</td>\n",
       "    </tr>\n",
       "    <tr>\n",
       "      <th>Plafond</th>\n",
       "      <td>0.46</td>\n",
       "      <td>2.16</td>\n",
       "      <td>49</td>\n",
       "      <td>20</td>\n",
       "      <td>8</td>\n",
       "      <td>11.51</td>\n",
       "      <td>564</td>\n",
       "      <td>705</td>\n",
       "      <td>2649</td>\n",
       "      <td>2119</td>\n",
       "      <td>1589</td>\n",
       "      <td>1059</td>\n",
       "    </tr>\n",
       "    <tr>\n",
       "      <th>Tuindeuren</th>\n",
       "      <td>0.49</td>\n",
       "      <td>2.01</td>\n",
       "      <td>1.38</td>\n",
       "      <td>20</td>\n",
       "      <td>0</td>\n",
       "      <td>10.75</td>\n",
       "      <td>14</td>\n",
       "      <td>18</td>\n",
       "      <td>69</td>\n",
       "      <td>55</td>\n",
       "      <td>41</td>\n",
       "      <td>27</td>\n",
       "    </tr>\n",
       "    <tr>\n",
       "      <th>Haldeur</th>\n",
       "      <td>0.32</td>\n",
       "      <td>3.1</td>\n",
       "      <td>1.74</td>\n",
       "      <td>20</td>\n",
       "      <td>8</td>\n",
       "      <td>7.38</td>\n",
       "      <td>12</td>\n",
       "      <td>36</td>\n",
       "      <td>135</td>\n",
       "      <td>108</td>\n",
       "      <td>81</td>\n",
       "      <td>54</td>\n",
       "    </tr>\n",
       "    <tr>\n",
       "      <th>Keukendeur</th>\n",
       "      <td>1.64</td>\n",
       "      <td>0.6</td>\n",
       "      <td>1.74</td>\n",
       "      <td>20</td>\n",
       "      <td>8</td>\n",
       "      <td>2.11</td>\n",
       "      <td>3</td>\n",
       "      <td>7</td>\n",
       "      <td>26</td>\n",
       "      <td>21</td>\n",
       "      <td>15</td>\n",
       "      <td>10</td>\n",
       "    </tr>\n",
       "    <tr>\n",
       "      <th>Boiler</th>\n",
       "      <td>1</td>\n",
       "      <td>1</td>\n",
       "      <td>23</td>\n",
       "      <td>80</td>\n",
       "      <td>0</td>\n",
       "      <td>5.32</td>\n",
       "      <td>122</td>\n",
       "      <td>153</td>\n",
       "      <td>0</td>\n",
       "      <td>0</td>\n",
       "      <td>0</td>\n",
       "      <td>0</td>\n",
       "    </tr>\n",
       "    <tr>\n",
       "      <th>Warm Water</th>\n",
       "      <td>1</td>\n",
       "      <td>1</td>\n",
       "      <td>7.5</td>\n",
       "      <td>80</td>\n",
       "      <td>0</td>\n",
       "      <td>5.32</td>\n",
       "      <td>39</td>\n",
       "      <td>49</td>\n",
       "      <td>0</td>\n",
       "      <td>0</td>\n",
       "      <td>0</td>\n",
       "      <td>0</td>\n",
       "    </tr>\n",
       "    <tr>\n",
       "      <th>Ventilatie_Nu</th>\n",
       "      <td>0.05</td>\n",
       "      <td>18.14</td>\n",
       "      <td>1</td>\n",
       "      <td>20</td>\n",
       "      <td>0</td>\n",
       "      <td>96.64</td>\n",
       "      <td>96</td>\n",
       "      <td>120</td>\n",
       "      <td>453</td>\n",
       "      <td>362</td>\n",
       "      <td>272</td>\n",
       "      <td>181</td>\n",
       "    </tr>\n",
       "    <tr>\n",
       "      <th>Koelingen</th>\n",
       "      <td>0.55</td>\n",
       "      <td>1.81</td>\n",
       "      <td>2</td>\n",
       "      <td>20</td>\n",
       "      <td>0</td>\n",
       "      <td>4.84</td>\n",
       "      <td>9</td>\n",
       "      <td>24</td>\n",
       "      <td>90</td>\n",
       "      <td>72</td>\n",
       "      <td>54</td>\n",
       "      <td>36</td>\n",
       "    </tr>\n",
       "    <tr>\n",
       "      <th>PCs + TV</th>\n",
       "      <td>0.22</td>\n",
       "      <td>4.54</td>\n",
       "      <td>1</td>\n",
       "      <td>20</td>\n",
       "      <td>0</td>\n",
       "      <td>24.2</td>\n",
       "      <td>24</td>\n",
       "      <td>30</td>\n",
       "      <td>0</td>\n",
       "      <td>0</td>\n",
       "      <td>0</td>\n",
       "      <td>0</td>\n",
       "    </tr>\n",
       "    <tr>\n",
       "      <th>Totaal</th>\n",
       "      <td>R-waarde</td>\n",
       "      <td>U-waarde</td>\n",
       "      <td>Oppervlak</td>\n",
       "      <td>T-Binnen</td>\n",
       "      <td>T-Buiten</td>\n",
       "      <td>Kosten-m2</td>\n",
       "      <td>1433</td>\n",
       "      <td>1831</td>\n",
       "      <td>6016</td>\n",
       "      <td>4812</td>\n",
       "      <td>3606</td>\n",
       "      <td>2403</td>\n",
       "    </tr>\n",
       "  </tbody>\n",
       "</table>\n",
       "</div>"
      ],
      "text/plain": [
       "                         R-waarde  U-waarde  Oppervlak  T-Binnen  T-Buiten  \\\n",
       "Woonkamer.Vloer              3.39      0.29         49        20         8   \n",
       "Buitenmuur_Nu                1.94      0.51       23.5        20         0   \n",
       "Binnenmuur Spouw Nu          2.03      0.49         25        20         8   \n",
       "Binnenmuur Enkel             0.36      2.77         10        20         8   \n",
       "Ramen Nu                     0.35       2.8      12.25        20         0   \n",
       "Kozijn Dark Red Meranti      0.92      1.08       2.77        20         0   \n",
       "Plafond                      0.46      2.16         49        20         8   \n",
       "Tuindeuren                   0.49      2.01       1.38        20         0   \n",
       "Haldeur                      0.32       3.1       1.74        20         8   \n",
       "Keukendeur                   1.64       0.6       1.74        20         8   \n",
       "Boiler                          1         1         23        80         0   \n",
       "Warm Water                      1         1        7.5        80         0   \n",
       "Ventilatie_Nu                0.05     18.14          1        20         0   \n",
       "Koelingen                    0.55      1.81          2        20         0   \n",
       "PCs + TV                     0.22      4.54          1        20         0   \n",
       "Totaal                   R-waarde  U-waarde  Oppervlak  T-Binnen  T-Buiten   \n",
       "\n",
       "                         Kosten-m2 Kosten Jaar-m3    -5     0     5    10  \n",
       "Woonkamer.Vloer               1.57     76      96   361   288   216   144  \n",
       "Buitenmuur_Nu                 2.73     64      80   301   241   180   120  \n",
       "Binnenmuur Spouw Nu           2.61     65      81   306   245   183   122  \n",
       "Binnenmuur Enkel             14.79    147     184   694   555   416   277  \n",
       "Ramen Nu                     14.91    182     228   857   686   514   343  \n",
       "Kozijn Dark Red Meranti       5.78     16      20    75    60    45    30  \n",
       "Plafond                      11.51    564     705  2649  2119  1589  1059  \n",
       "Tuindeuren                   10.75     14      18    69    55    41    27  \n",
       "Haldeur                       7.38     12      36   135   108    81    54  \n",
       "Keukendeur                    2.11      3       7    26    21    15    10  \n",
       "Boiler                        5.32    122     153     0     0     0     0  \n",
       "Warm Water                    5.32     39      49     0     0     0     0  \n",
       "Ventilatie_Nu                96.64     96     120   453   362   272   181  \n",
       "Koelingen                     4.84      9      24    90    72    54    36  \n",
       "PCs + TV                      24.2     24      30     0     0     0     0  \n",
       "Totaal                   Kosten-m2   1433    1831  6016  4812  3606  2403  "
      ]
     },
     "execution_count": 17,
     "metadata": {},
     "output_type": "execute_result"
    }
   ],
   "source": [
    "Ts  = range ( -5, 15, 5 )\n",
    "Elements = [ Vloer, Buitenmuur_Nu, Binnenmuur_Spouw_Nu, Binnenmuur_Enkel_Nu, Ramen_Nu, Kozijnen,  \n",
    "             Plafond, Tuindeuren, Haldeur, Keukendeur, Boiler, Warm_Water, Ventilatie_Nu,\n",
    "             Koelingen, PCs ]\n",
    "Heat_Transfer_Table ( Elements, Ts )"
   ]
  },
  {
   "cell_type": "markdown",
   "metadata": {},
   "source": [
    "## Geisoleerd Plafond"
   ]
  },
  {
   "cell_type": "code",
   "execution_count": 18,
   "metadata": {
    "ExecuteTime": {
     "end_time": "2017-05-05T20:52:09.531594Z",
     "start_time": "2017-05-05T20:52:09.484957Z"
    },
    "run_control": {
     "frozen": false,
     "read_only": false
    }
   },
   "outputs": [
    {
     "data": {
      "text/html": [
       "<div>\n",
       "<style scoped>\n",
       "    .dataframe tbody tr th:only-of-type {\n",
       "        vertical-align: middle;\n",
       "    }\n",
       "\n",
       "    .dataframe tbody tr th {\n",
       "        vertical-align: top;\n",
       "    }\n",
       "\n",
       "    .dataframe thead th {\n",
       "        text-align: right;\n",
       "    }\n",
       "</style>\n",
       "<table border=\"1\" class=\"dataframe\">\n",
       "  <thead>\n",
       "    <tr style=\"text-align: right;\">\n",
       "      <th></th>\n",
       "      <th>R-waarde</th>\n",
       "      <th>U-waarde</th>\n",
       "      <th>Oppervlak</th>\n",
       "      <th>T-Binnen</th>\n",
       "      <th>T-Buiten</th>\n",
       "      <th>Kosten-m2</th>\n",
       "      <th>Kosten</th>\n",
       "      <th>Jaar-m3</th>\n",
       "      <th>-5</th>\n",
       "      <th>0</th>\n",
       "      <th>5</th>\n",
       "      <th>10</th>\n",
       "    </tr>\n",
       "  </thead>\n",
       "  <tbody>\n",
       "    <tr>\n",
       "      <th>Woonkamer.Vloer</th>\n",
       "      <td>3.39</td>\n",
       "      <td>0.29</td>\n",
       "      <td>49</td>\n",
       "      <td>20</td>\n",
       "      <td>8</td>\n",
       "      <td>1.57</td>\n",
       "      <td>76</td>\n",
       "      <td>96</td>\n",
       "      <td>361</td>\n",
       "      <td>288</td>\n",
       "      <td>216</td>\n",
       "      <td>144</td>\n",
       "    </tr>\n",
       "    <tr>\n",
       "      <th>Buitenmuur_Nu</th>\n",
       "      <td>1.94</td>\n",
       "      <td>0.51</td>\n",
       "      <td>23.5</td>\n",
       "      <td>20</td>\n",
       "      <td>0</td>\n",
       "      <td>2.73</td>\n",
       "      <td>64</td>\n",
       "      <td>80</td>\n",
       "      <td>301</td>\n",
       "      <td>241</td>\n",
       "      <td>180</td>\n",
       "      <td>120</td>\n",
       "    </tr>\n",
       "    <tr>\n",
       "      <th>Binnenmuur Spouw Nu</th>\n",
       "      <td>2.03</td>\n",
       "      <td>0.49</td>\n",
       "      <td>25</td>\n",
       "      <td>20</td>\n",
       "      <td>8</td>\n",
       "      <td>2.61</td>\n",
       "      <td>65</td>\n",
       "      <td>81</td>\n",
       "      <td>306</td>\n",
       "      <td>245</td>\n",
       "      <td>183</td>\n",
       "      <td>122</td>\n",
       "    </tr>\n",
       "    <tr>\n",
       "      <th>Binnenmuur Enkel</th>\n",
       "      <td>0.36</td>\n",
       "      <td>2.77</td>\n",
       "      <td>10</td>\n",
       "      <td>20</td>\n",
       "      <td>8</td>\n",
       "      <td>14.79</td>\n",
       "      <td>147</td>\n",
       "      <td>184</td>\n",
       "      <td>694</td>\n",
       "      <td>555</td>\n",
       "      <td>416</td>\n",
       "      <td>277</td>\n",
       "    </tr>\n",
       "    <tr>\n",
       "      <th>Ramen Nu</th>\n",
       "      <td>0.35</td>\n",
       "      <td>2.8</td>\n",
       "      <td>12.25</td>\n",
       "      <td>20</td>\n",
       "      <td>0</td>\n",
       "      <td>14.91</td>\n",
       "      <td>182</td>\n",
       "      <td>228</td>\n",
       "      <td>857</td>\n",
       "      <td>686</td>\n",
       "      <td>514</td>\n",
       "      <td>343</td>\n",
       "    </tr>\n",
       "    <tr>\n",
       "      <th>Kozijn Dark Red Meranti</th>\n",
       "      <td>0.92</td>\n",
       "      <td>1.08</td>\n",
       "      <td>2.77</td>\n",
       "      <td>20</td>\n",
       "      <td>0</td>\n",
       "      <td>5.78</td>\n",
       "      <td>16</td>\n",
       "      <td>20</td>\n",
       "      <td>75</td>\n",
       "      <td>60</td>\n",
       "      <td>45</td>\n",
       "      <td>30</td>\n",
       "    </tr>\n",
       "    <tr>\n",
       "      <th>Plafond_New</th>\n",
       "      <td>2.79</td>\n",
       "      <td>0.35</td>\n",
       "      <td>49</td>\n",
       "      <td>20</td>\n",
       "      <td>8</td>\n",
       "      <td>1.9</td>\n",
       "      <td>93</td>\n",
       "      <td>116</td>\n",
       "      <td>438</td>\n",
       "      <td>350</td>\n",
       "      <td>263</td>\n",
       "      <td>175</td>\n",
       "    </tr>\n",
       "    <tr>\n",
       "      <th>Tuindeuren</th>\n",
       "      <td>0.49</td>\n",
       "      <td>2.01</td>\n",
       "      <td>1.38</td>\n",
       "      <td>20</td>\n",
       "      <td>0</td>\n",
       "      <td>10.75</td>\n",
       "      <td>14</td>\n",
       "      <td>18</td>\n",
       "      <td>69</td>\n",
       "      <td>55</td>\n",
       "      <td>41</td>\n",
       "      <td>27</td>\n",
       "    </tr>\n",
       "    <tr>\n",
       "      <th>Haldeur</th>\n",
       "      <td>0.32</td>\n",
       "      <td>3.1</td>\n",
       "      <td>1.74</td>\n",
       "      <td>20</td>\n",
       "      <td>8</td>\n",
       "      <td>7.38</td>\n",
       "      <td>12</td>\n",
       "      <td>36</td>\n",
       "      <td>135</td>\n",
       "      <td>108</td>\n",
       "      <td>81</td>\n",
       "      <td>54</td>\n",
       "    </tr>\n",
       "    <tr>\n",
       "      <th>Keukendeur</th>\n",
       "      <td>1.64</td>\n",
       "      <td>0.6</td>\n",
       "      <td>1.74</td>\n",
       "      <td>20</td>\n",
       "      <td>8</td>\n",
       "      <td>2.11</td>\n",
       "      <td>3</td>\n",
       "      <td>7</td>\n",
       "      <td>26</td>\n",
       "      <td>21</td>\n",
       "      <td>15</td>\n",
       "      <td>10</td>\n",
       "    </tr>\n",
       "    <tr>\n",
       "      <th>Boiler</th>\n",
       "      <td>1</td>\n",
       "      <td>1</td>\n",
       "      <td>23</td>\n",
       "      <td>80</td>\n",
       "      <td>0</td>\n",
       "      <td>5.32</td>\n",
       "      <td>122</td>\n",
       "      <td>153</td>\n",
       "      <td>0</td>\n",
       "      <td>0</td>\n",
       "      <td>0</td>\n",
       "      <td>0</td>\n",
       "    </tr>\n",
       "    <tr>\n",
       "      <th>Warm Water</th>\n",
       "      <td>1</td>\n",
       "      <td>1</td>\n",
       "      <td>7.5</td>\n",
       "      <td>80</td>\n",
       "      <td>0</td>\n",
       "      <td>5.32</td>\n",
       "      <td>39</td>\n",
       "      <td>49</td>\n",
       "      <td>0</td>\n",
       "      <td>0</td>\n",
       "      <td>0</td>\n",
       "      <td>0</td>\n",
       "    </tr>\n",
       "    <tr>\n",
       "      <th>Ventilatie_Nu</th>\n",
       "      <td>0.05</td>\n",
       "      <td>18.14</td>\n",
       "      <td>1</td>\n",
       "      <td>20</td>\n",
       "      <td>0</td>\n",
       "      <td>96.64</td>\n",
       "      <td>96</td>\n",
       "      <td>120</td>\n",
       "      <td>453</td>\n",
       "      <td>362</td>\n",
       "      <td>272</td>\n",
       "      <td>181</td>\n",
       "    </tr>\n",
       "    <tr>\n",
       "      <th>Koelingen</th>\n",
       "      <td>0.55</td>\n",
       "      <td>1.81</td>\n",
       "      <td>2</td>\n",
       "      <td>20</td>\n",
       "      <td>0</td>\n",
       "      <td>4.84</td>\n",
       "      <td>9</td>\n",
       "      <td>24</td>\n",
       "      <td>90</td>\n",
       "      <td>72</td>\n",
       "      <td>54</td>\n",
       "      <td>36</td>\n",
       "    </tr>\n",
       "    <tr>\n",
       "      <th>PCs + TV</th>\n",
       "      <td>0.22</td>\n",
       "      <td>4.54</td>\n",
       "      <td>1</td>\n",
       "      <td>20</td>\n",
       "      <td>0</td>\n",
       "      <td>24.2</td>\n",
       "      <td>24</td>\n",
       "      <td>30</td>\n",
       "      <td>0</td>\n",
       "      <td>0</td>\n",
       "      <td>0</td>\n",
       "      <td>0</td>\n",
       "    </tr>\n",
       "    <tr>\n",
       "      <th>Totaal</th>\n",
       "      <td>R-waarde</td>\n",
       "      <td>U-waarde</td>\n",
       "      <td>Oppervlak</td>\n",
       "      <td>T-Binnen</td>\n",
       "      <td>T-Buiten</td>\n",
       "      <td>Kosten-m2</td>\n",
       "      <td>962</td>\n",
       "      <td>1242</td>\n",
       "      <td>3805</td>\n",
       "      <td>3043</td>\n",
       "      <td>2280</td>\n",
       "      <td>1519</td>\n",
       "    </tr>\n",
       "  </tbody>\n",
       "</table>\n",
       "</div>"
      ],
      "text/plain": [
       "                         R-waarde  U-waarde  Oppervlak  T-Binnen  T-Buiten  \\\n",
       "Woonkamer.Vloer              3.39      0.29         49        20         8   \n",
       "Buitenmuur_Nu                1.94      0.51       23.5        20         0   \n",
       "Binnenmuur Spouw Nu          2.03      0.49         25        20         8   \n",
       "Binnenmuur Enkel             0.36      2.77         10        20         8   \n",
       "Ramen Nu                     0.35       2.8      12.25        20         0   \n",
       "Kozijn Dark Red Meranti      0.92      1.08       2.77        20         0   \n",
       "Plafond_New                  2.79      0.35         49        20         8   \n",
       "Tuindeuren                   0.49      2.01       1.38        20         0   \n",
       "Haldeur                      0.32       3.1       1.74        20         8   \n",
       "Keukendeur                   1.64       0.6       1.74        20         8   \n",
       "Boiler                          1         1         23        80         0   \n",
       "Warm Water                      1         1        7.5        80         0   \n",
       "Ventilatie_Nu                0.05     18.14          1        20         0   \n",
       "Koelingen                    0.55      1.81          2        20         0   \n",
       "PCs + TV                     0.22      4.54          1        20         0   \n",
       "Totaal                   R-waarde  U-waarde  Oppervlak  T-Binnen  T-Buiten   \n",
       "\n",
       "                         Kosten-m2 Kosten Jaar-m3    -5     0     5    10  \n",
       "Woonkamer.Vloer               1.57     76      96   361   288   216   144  \n",
       "Buitenmuur_Nu                 2.73     64      80   301   241   180   120  \n",
       "Binnenmuur Spouw Nu           2.61     65      81   306   245   183   122  \n",
       "Binnenmuur Enkel             14.79    147     184   694   555   416   277  \n",
       "Ramen Nu                     14.91    182     228   857   686   514   343  \n",
       "Kozijn Dark Red Meranti       5.78     16      20    75    60    45    30  \n",
       "Plafond_New                    1.9     93     116   438   350   263   175  \n",
       "Tuindeuren                   10.75     14      18    69    55    41    27  \n",
       "Haldeur                       7.38     12      36   135   108    81    54  \n",
       "Keukendeur                    2.11      3       7    26    21    15    10  \n",
       "Boiler                        5.32    122     153     0     0     0     0  \n",
       "Warm Water                    5.32     39      49     0     0     0     0  \n",
       "Ventilatie_Nu                96.64     96     120   453   362   272   181  \n",
       "Koelingen                     4.84      9      24    90    72    54    36  \n",
       "PCs + TV                      24.2     24      30     0     0     0     0  \n",
       "Totaal                   Kosten-m2    962    1242  3805  3043  2280  1519  "
      ]
     },
     "execution_count": 18,
     "metadata": {},
     "output_type": "execute_result"
    }
   ],
   "source": [
    "Ts  = range ( -5, 15, 5 )\n",
    "Elements = [ Vloer, Buitenmuur_Nu, Binnenmuur_Spouw_Nu, Binnenmuur_Enkel_Nu, Ramen_Nu, Kozijnen, \n",
    "             Plafond_New, Tuindeuren, Haldeur, Keukendeur, Boiler, Warm_Water, Ventilatie_Nu,\n",
    "             Koelingen, PCs ]\n",
    "Heat_Transfer_Table ( Elements, Ts )"
   ]
  },
  {
   "cell_type": "markdown",
   "metadata": {},
   "source": [
    "## Overige Besparingen"
   ]
  },
  {
   "cell_type": "code",
   "execution_count": 19,
   "metadata": {
    "ExecuteTime": {
     "end_time": "2017-05-05T20:52:09.590751Z",
     "start_time": "2017-05-05T20:52:09.536607Z"
    },
    "run_control": {
     "frozen": false,
     "read_only": false
    }
   },
   "outputs": [
    {
     "data": {
      "text/html": [
       "<div>\n",
       "<style scoped>\n",
       "    .dataframe tbody tr th:only-of-type {\n",
       "        vertical-align: middle;\n",
       "    }\n",
       "\n",
       "    .dataframe tbody tr th {\n",
       "        vertical-align: top;\n",
       "    }\n",
       "\n",
       "    .dataframe thead th {\n",
       "        text-align: right;\n",
       "    }\n",
       "</style>\n",
       "<table border=\"1\" class=\"dataframe\">\n",
       "  <thead>\n",
       "    <tr style=\"text-align: right;\">\n",
       "      <th></th>\n",
       "      <th>R-waarde</th>\n",
       "      <th>U-waarde</th>\n",
       "      <th>Oppervlak</th>\n",
       "      <th>T-Binnen</th>\n",
       "      <th>T-Buiten</th>\n",
       "      <th>Kosten-m2</th>\n",
       "      <th>Kosten</th>\n",
       "      <th>Jaar-m3</th>\n",
       "      <th>-5</th>\n",
       "      <th>0</th>\n",
       "      <th>5</th>\n",
       "      <th>10</th>\n",
       "    </tr>\n",
       "  </thead>\n",
       "  <tbody>\n",
       "    <tr>\n",
       "      <th>Woonkamer.Vloer</th>\n",
       "      <td>3.39</td>\n",
       "      <td>0.29</td>\n",
       "      <td>49</td>\n",
       "      <td>20</td>\n",
       "      <td>8</td>\n",
       "      <td>1.57</td>\n",
       "      <td>76</td>\n",
       "      <td>96</td>\n",
       "      <td>361</td>\n",
       "      <td>288</td>\n",
       "      <td>216</td>\n",
       "      <td>144</td>\n",
       "    </tr>\n",
       "    <tr>\n",
       "      <th>Buitenmuur Parels</th>\n",
       "      <td>3.24</td>\n",
       "      <td>0.3</td>\n",
       "      <td>23.5</td>\n",
       "      <td>20</td>\n",
       "      <td>0</td>\n",
       "      <td>1.63</td>\n",
       "      <td>38</td>\n",
       "      <td>48</td>\n",
       "      <td>180</td>\n",
       "      <td>144</td>\n",
       "      <td>108</td>\n",
       "      <td>72</td>\n",
       "    </tr>\n",
       "    <tr>\n",
       "      <th>Binnenmuur Spouw Parels</th>\n",
       "      <td>3.33</td>\n",
       "      <td>0.29</td>\n",
       "      <td>25</td>\n",
       "      <td>20</td>\n",
       "      <td>8</td>\n",
       "      <td>1.59</td>\n",
       "      <td>39</td>\n",
       "      <td>49</td>\n",
       "      <td>187</td>\n",
       "      <td>149</td>\n",
       "      <td>112</td>\n",
       "      <td>74</td>\n",
       "    </tr>\n",
       "    <tr>\n",
       "      <th>Binnenmuur Enkel 5cm PIR</th>\n",
       "      <td>2.67</td>\n",
       "      <td>0.37</td>\n",
       "      <td>10</td>\n",
       "      <td>20</td>\n",
       "      <td>8</td>\n",
       "      <td>1.99</td>\n",
       "      <td>19</td>\n",
       "      <td>24</td>\n",
       "      <td>93</td>\n",
       "      <td>74</td>\n",
       "      <td>56</td>\n",
       "      <td>37</td>\n",
       "    </tr>\n",
       "    <tr>\n",
       "      <th>Ramen HR++</th>\n",
       "      <td>0.9</td>\n",
       "      <td>1.1</td>\n",
       "      <td>12.25</td>\n",
       "      <td>20</td>\n",
       "      <td>0</td>\n",
       "      <td>5.85</td>\n",
       "      <td>71</td>\n",
       "      <td>89</td>\n",
       "      <td>336</td>\n",
       "      <td>269</td>\n",
       "      <td>202</td>\n",
       "      <td>134</td>\n",
       "    </tr>\n",
       "    <tr>\n",
       "      <th>Kozijn Dark Red Meranti</th>\n",
       "      <td>0.92</td>\n",
       "      <td>1.08</td>\n",
       "      <td>2.77</td>\n",
       "      <td>20</td>\n",
       "      <td>0</td>\n",
       "      <td>5.78</td>\n",
       "      <td>16</td>\n",
       "      <td>20</td>\n",
       "      <td>75</td>\n",
       "      <td>60</td>\n",
       "      <td>45</td>\n",
       "      <td>30</td>\n",
       "    </tr>\n",
       "    <tr>\n",
       "      <th>Plafond_New</th>\n",
       "      <td>2.79</td>\n",
       "      <td>0.35</td>\n",
       "      <td>49</td>\n",
       "      <td>20</td>\n",
       "      <td>8</td>\n",
       "      <td>1.9</td>\n",
       "      <td>93</td>\n",
       "      <td>116</td>\n",
       "      <td>438</td>\n",
       "      <td>350</td>\n",
       "      <td>263</td>\n",
       "      <td>175</td>\n",
       "    </tr>\n",
       "    <tr>\n",
       "      <th>Tuindeuren 2</th>\n",
       "      <td>1.4</td>\n",
       "      <td>0.71</td>\n",
       "      <td>1.38</td>\n",
       "      <td>20</td>\n",
       "      <td>0</td>\n",
       "      <td>3.79</td>\n",
       "      <td>5</td>\n",
       "      <td>6</td>\n",
       "      <td>24</td>\n",
       "      <td>19</td>\n",
       "      <td>14</td>\n",
       "      <td>9</td>\n",
       "    </tr>\n",
       "    <tr>\n",
       "      <th>Haldeur 2</th>\n",
       "      <td>1.36</td>\n",
       "      <td>0.73</td>\n",
       "      <td>1.74</td>\n",
       "      <td>20</td>\n",
       "      <td>8</td>\n",
       "      <td>2.02</td>\n",
       "      <td>3</td>\n",
       "      <td>8</td>\n",
       "      <td>32</td>\n",
       "      <td>25</td>\n",
       "      <td>19</td>\n",
       "      <td>12</td>\n",
       "    </tr>\n",
       "    <tr>\n",
       "      <th>Keukendeur</th>\n",
       "      <td>1.64</td>\n",
       "      <td>0.6</td>\n",
       "      <td>1.74</td>\n",
       "      <td>20</td>\n",
       "      <td>8</td>\n",
       "      <td>2.11</td>\n",
       "      <td>3</td>\n",
       "      <td>7</td>\n",
       "      <td>26</td>\n",
       "      <td>21</td>\n",
       "      <td>15</td>\n",
       "      <td>10</td>\n",
       "    </tr>\n",
       "    <tr>\n",
       "      <th>Boiler WEG</th>\n",
       "      <td>1</td>\n",
       "      <td>1</td>\n",
       "      <td>1</td>\n",
       "      <td>80</td>\n",
       "      <td>0</td>\n",
       "      <td>5.32</td>\n",
       "      <td>5</td>\n",
       "      <td>6</td>\n",
       "      <td>0</td>\n",
       "      <td>0</td>\n",
       "      <td>0</td>\n",
       "      <td>0</td>\n",
       "    </tr>\n",
       "    <tr>\n",
       "      <th>Warm Water</th>\n",
       "      <td>1</td>\n",
       "      <td>1</td>\n",
       "      <td>7.5</td>\n",
       "      <td>80</td>\n",
       "      <td>0</td>\n",
       "      <td>5.32</td>\n",
       "      <td>39</td>\n",
       "      <td>49</td>\n",
       "      <td>0</td>\n",
       "      <td>0</td>\n",
       "      <td>0</td>\n",
       "      <td>0</td>\n",
       "    </tr>\n",
       "    <tr>\n",
       "      <th>Ventilatie WTW</th>\n",
       "      <td>0.11</td>\n",
       "      <td>9.07</td>\n",
       "      <td>1</td>\n",
       "      <td>20</td>\n",
       "      <td>0</td>\n",
       "      <td>48.32</td>\n",
       "      <td>48</td>\n",
       "      <td>60</td>\n",
       "      <td>226</td>\n",
       "      <td>181</td>\n",
       "      <td>136</td>\n",
       "      <td>90</td>\n",
       "    </tr>\n",
       "    <tr>\n",
       "      <th>Koelingen</th>\n",
       "      <td>0.55</td>\n",
       "      <td>1.81</td>\n",
       "      <td>2</td>\n",
       "      <td>20</td>\n",
       "      <td>0</td>\n",
       "      <td>4.84</td>\n",
       "      <td>9</td>\n",
       "      <td>24</td>\n",
       "      <td>90</td>\n",
       "      <td>72</td>\n",
       "      <td>54</td>\n",
       "      <td>36</td>\n",
       "    </tr>\n",
       "    <tr>\n",
       "      <th>PCs + TV</th>\n",
       "      <td>0.22</td>\n",
       "      <td>4.54</td>\n",
       "      <td>1</td>\n",
       "      <td>20</td>\n",
       "      <td>0</td>\n",
       "      <td>24.2</td>\n",
       "      <td>24</td>\n",
       "      <td>30</td>\n",
       "      <td>0</td>\n",
       "      <td>0</td>\n",
       "      <td>0</td>\n",
       "      <td>0</td>\n",
       "    </tr>\n",
       "    <tr>\n",
       "      <th>Totaal</th>\n",
       "      <td>R-waarde</td>\n",
       "      <td>U-waarde</td>\n",
       "      <td>Oppervlak</td>\n",
       "      <td>T-Binnen</td>\n",
       "      <td>T-Buiten</td>\n",
       "      <td>Kosten-m2</td>\n",
       "      <td>488</td>\n",
       "      <td>632</td>\n",
       "      <td>2068</td>\n",
       "      <td>1652</td>\n",
       "      <td>1240</td>\n",
       "      <td>823</td>\n",
       "    </tr>\n",
       "  </tbody>\n",
       "</table>\n",
       "</div>"
      ],
      "text/plain": [
       "                          R-waarde  U-waarde  Oppervlak  T-Binnen  T-Buiten  \\\n",
       "Woonkamer.Vloer               3.39      0.29         49        20         8   \n",
       "Buitenmuur Parels             3.24       0.3       23.5        20         0   \n",
       "Binnenmuur Spouw Parels       3.33      0.29         25        20         8   \n",
       "Binnenmuur Enkel 5cm PIR      2.67      0.37         10        20         8   \n",
       "Ramen HR++                     0.9       1.1      12.25        20         0   \n",
       "Kozijn Dark Red Meranti       0.92      1.08       2.77        20         0   \n",
       "Plafond_New                   2.79      0.35         49        20         8   \n",
       "Tuindeuren 2                   1.4      0.71       1.38        20         0   \n",
       "Haldeur 2                     1.36      0.73       1.74        20         8   \n",
       "Keukendeur                    1.64       0.6       1.74        20         8   \n",
       "Boiler WEG                       1         1          1        80         0   \n",
       "Warm Water                       1         1        7.5        80         0   \n",
       "Ventilatie WTW                0.11      9.07          1        20         0   \n",
       "Koelingen                     0.55      1.81          2        20         0   \n",
       "PCs + TV                      0.22      4.54          1        20         0   \n",
       "Totaal                    R-waarde  U-waarde  Oppervlak  T-Binnen  T-Buiten   \n",
       "\n",
       "                          Kosten-m2 Kosten Jaar-m3    -5     0     5   10  \n",
       "Woonkamer.Vloer                1.57     76      96   361   288   216  144  \n",
       "Buitenmuur Parels              1.63     38      48   180   144   108   72  \n",
       "Binnenmuur Spouw Parels        1.59     39      49   187   149   112   74  \n",
       "Binnenmuur Enkel 5cm PIR       1.99     19      24    93    74    56   37  \n",
       "Ramen HR++                     5.85     71      89   336   269   202  134  \n",
       "Kozijn Dark Red Meranti        5.78     16      20    75    60    45   30  \n",
       "Plafond_New                     1.9     93     116   438   350   263  175  \n",
       "Tuindeuren 2                   3.79      5       6    24    19    14    9  \n",
       "Haldeur 2                      2.02      3       8    32    25    19   12  \n",
       "Keukendeur                     2.11      3       7    26    21    15   10  \n",
       "Boiler WEG                     5.32      5       6     0     0     0    0  \n",
       "Warm Water                     5.32     39      49     0     0     0    0  \n",
       "Ventilatie WTW                48.32     48      60   226   181   136   90  \n",
       "Koelingen                      4.84      9      24    90    72    54   36  \n",
       "PCs + TV                       24.2     24      30     0     0     0    0  \n",
       "Totaal                    Kosten-m2    488     632  2068  1652  1240  823  "
      ]
     },
     "execution_count": 19,
     "metadata": {},
     "output_type": "execute_result"
    }
   ],
   "source": [
    "Ts  = range ( -5, 15, 5 )\n",
    "Elements = [ Vloer, Buitenmuur_Na, Binnenmuur_Spouw_Parels, Binnenmuur_Enkel_PIR5, Ramen_HRxx, Kozijnen,  \n",
    "             Plafond_New, Tuindeuren2, Haldeur2, Keukendeur, Boiler_WEG, Warm_Water, Ventilatie_WTW,\n",
    "             Koelingen, PCs ]\n",
    "Heat_Transfer_Table ( Elements, Ts )"
   ]
  },
  {
   "cell_type": "markdown",
   "metadata": {
    "cell_style": "split"
   },
   "source": [
    "# References\n",
    "\n"
   ]
  }
 ],
 "metadata": {
  "anaconda-cloud": {},
  "extensions": {
   "jupyter_dashboards": {
    "activeView": "grid_default",
    "version": 1,
    "views": {
     "grid_default": {
      "cellMargin": 10,
      "defaultCellHeight": 20,
      "maxColumns": 12,
      "name": "grid",
      "type": "grid"
     },
     "report_default": {
      "name": "report",
      "type": "report"
     }
    }
   }
  },
  "gist": {
   "data": {
    "description": "Stef-Robbie-Notebook/Warmteverbruik_huiskamer.ipynb",
    "public": false
   },
   "id": ""
  },
  "hide_input": false,
  "kernelspec": {
   "display_name": "Python 3",
   "language": "python",
   "name": "python3"
  },
  "language_info": {
   "codemirror_mode": {
    "name": "ipython",
    "version": 3
   },
   "file_extension": ".py",
   "mimetype": "text/x-python",
   "name": "python",
   "nbconvert_exporter": "python",
   "pygments_lexer": "ipython3",
   "version": "3.6.6"
  },
  "latex_envs": {
   "bibliofile": "biblio.bib",
   "cite_by": "apalike",
   "current_citInitial": 1,
   "eqLabelWithNumbers": true,
   "eqNumInitial": 0
  },
  "nav_menu": {},
  "toc": {
   "navigate_menu": true,
   "number_sections": true,
   "sideBar": true,
   "threshold": 6,
   "toc_cell": true,
   "toc_section_display": "block",
   "toc_window_display": true
  },
  "toc_position": {
   "height": "824px",
   "left": "0px",
   "right": "20px",
   "top": "130px",
   "width": "193px"
  }
 },
 "nbformat": 4,
 "nbformat_minor": 2
}
