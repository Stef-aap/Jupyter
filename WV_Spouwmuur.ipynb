{
 "cells": [
  {
   "cell_type": "markdown",
   "metadata": {},
   "source": [
    "05-02-2019, SM"
   ]
  },
  {
   "cell_type": "markdown",
   "metadata": {},
   "source": [
    "# WarmteVerlies Spouwmuur\n",
    "In dit document worden een aantal verschillende spouwconstructies met elkaar vergeleken voor wat betreft het warmteverlies. \n",
    "<br>Oorspronkelijk is dit document/programma ( JupyterLab / Python ) geschreven om het gehele warmteverlies van een bestaande ruimte te modeleren en hiermee te bepalen waar de meeste winst (zowel economisch gezien als ook wat betreft duurzaamheid) valt te behalen.\n",
    "<br>Hier zoomen we echter in op een aantal spouwmuurconstructies, in een poging de volgende vragen te beantwoorden:\n",
    "- wat is de winst van het bijvullen van een half gevulde spouw (komt in een groot aantal huizen in Molenhoek voor)\n",
    "- wat is de winst bij vulling van een geheel lege spouw (klopt de claim van isolatiebedrijven)\n",
    "- wat is de winst van een extra binnenmuur (dit naar aanleiding van een stel dat zeer enthousiast deze vorm van isolatie in Mook aan het realiseren is)\n",
    "\n",
    "Een zeer heldere en beknopte uitleg over de functie van een spouw, waarin veel van de mystiek rondom spouwmuren de wereld wordt uitgeholpen, is hier te vinden:\n",
    "http://www.ekbouwadvies.nl/bouwbesluit/energiezuinigheid/spouwventilatie.asp\n",
    "<br><br>Bouwbesluit uitgebreide toelichting hoe de Rc-waarde van een gemetselde muur te berekenen\n",
    "http://www.ekbouwadvies.nl/bouwbesluit/energiezuinigheid/rcwaardebaksteenmuur.asp\n"
   ]
  },
  {
   "cell_type": "markdown",
   "metadata": {
    "extensions": {
     "jupyter_dashboards": {
      "version": 1,
      "views": {
       "grid_default": {
        "col": 4,
        "height": 4,
        "hidden": false,
        "row": 31,
        "width": 4
       },
       "report_default": {}
      }
     }
    }
   },
   "source": [
    "## Uitgangspunten"
   ]
  },
  {
   "cell_type": "code",
   "execution_count": 8,
   "metadata": {
    "ExecuteTime": {
     "end_time": "2017-05-05T20:52:07.228970Z",
     "start_time": "2017-05-05T20:52:07.222952Z"
    },
    "collapsed": true,
    "extensions": {
     "jupyter_dashboards": {
      "version": 1,
      "views": {
       "grid_default": {
        "col": 8,
        "height": 4,
        "hidden": false,
        "row": 31,
        "width": 4
       },
       "report_default": {}
      }
     }
    },
    "run_control": {
     "frozen": false,
     "read_only": false
    }
   },
   "outputs": [],
   "source": [
    "# Maten van de totale Buitenmuur\n",
    "Lengte  = 9.40\n",
    "Hoogte  = 2.50\n",
    "\n",
    "# Veronderstelde temperaturen\n",
    "Temperatuur_Binnen = 20.0\n",
    "Temperatuur_Buiten = 0.0\n",
    "\n",
    "# Voor de berekening van de kostenbesparing gaan we uit van \n",
    "# Temperatuurverschil zoals hierboven gedefinieerd\n",
    "# Dit temperatuurverschil is (gemiddeld) gedurende 100 dagen en 24 uur per dag aanwezig.  DIT MOET MOGELIJK BIJGESTELD WORDEN\n",
    "# De gasprijs in [Euro] per m3:\n",
    "Price_Gas = 0.80"
   ]
  },
  {
   "cell_type": "markdown",
   "metadata": {
    "extensions": {
     "jupyter_dashboards": {
      "version": 1,
      "views": {
       "grid_default": {
        "col": 8,
        "height": 4,
        "hidden": false,
        "row": 35,
        "width": 4
       },
       "report_default": {}
      }
     }
    }
   },
   "source": [
    "## Materiaal Constanten\n",
    "Hieronder de definitie van de gebruikte materialen.\n",
    "<br>Iedere vorm om de warmtegeleiding op te geven is toegestaan ( R-waarde, U-waarde of Lambda + Dikte). "
   ]
  },
  {
   "cell_type": "code",
   "execution_count": 9,
   "metadata": {},
   "outputs": [
    {
     "name": "stdout",
     "output_type": "stream",
     "text": [
      "Name        = PIR_alu_10cm\n",
      "R-Waarde    = 4.54 [m2.K/W]\n",
      "U-Waarde    = 0.22 [W/m2.K]\n",
      "\n"
     ]
    }
   ],
   "source": [
    "from Base_Heat import *\n",
    "\n",
    "# luchtweerstand van de binnenmuur, zoals gedefinieerd in het bouwbesluit\n",
    "Rsi = Heat_Transfer_Object ( \"Rsi\" )\n",
    "Rsi.R_Waarde = 0.13\n",
    "\n",
    "# luchtweerstand van de buitenmuur, zoals gedefinieerd in het bouwbesluit\n",
    "Rse = Heat_Transfer_Object ( \"Rse\" )\n",
    "Rse.R_Waarde = 0.04\n",
    "\n",
    "# De isolatiewaarde van de spouw tussen de 15 .. 300 mm heeft een vaste R_Waarde\n",
    "# bron: http://www.ekbouwadvies.nl/bouwbesluit/energiezuinigheid/spouwventilatie.asp\n",
    "Spouw_Zwak_Geventileerd = Heat_Transfer_Object ( \"Spouw Zwak Geventileerd\" )\n",
    "Spouw_Zwak_Geventileerd.R_Waarde = 0.18   \n",
    "\n",
    "# Veel gebruikte steen voor binnenmuren\n",
    "Kalkzandsteen = Heat_Transfer_Object ( \"Kalkzandsteen\" )\n",
    "Kalkzandsteen.R_Waarde = 0.1\n",
    "\n",
    "#Veel gebruikte steen voor buitenmuren\n",
    "Baksteen = Heat_Transfer_Object ( \"Baksteen\" )\n",
    "Baksteen.R_Waarde = 0.08\n",
    "\n",
    "Glaswol_5cm = Heat_Transfer_Object ( \"Glaswol 5cm\" )\n",
    "Glaswol_5cm.Lambda = 0.035\n",
    "Glaswol_5cm.Dikte  = 0.05\n",
    "\n",
    "Iso_Parels_5cm = Heat_Transfer_Object ( \"Iso-Parels 5cm\" )\n",
    "Iso_Parels_5cm.Lambda = 0.034\n",
    "Iso_Parels_5cm.Dikte  = 0.05\n",
    "\n",
    "PIR_alu_10cm = Heat_Transfer_Object ( \"PIR_alu_10cm\" )\n",
    "PIR_alu_10cm.R_Waarde = 4.54\n",
    "\n",
    "Leem_Deklaag = Heat_Transfer_Object ( \"Leem_Deklaag\" )\n",
    "Leem_Deklaag.Lambda = 1.2\n",
    "Leem_Deklaag.Dikte  = 0.01\n",
    "\n",
    "Gipsplaat = Heat_Transfer_Object ( \"Gipsplaat\" )\n",
    "Gipsplaat.R_Waarde = 0.04\n",
    "\n",
    "print ( PIR_alu_10cm )"
   ]
  },
  {
   "cell_type": "markdown",
   "metadata": {},
   "source": [
    "## Muur met half gevulde spouw\n",
    "Dit is een model van mijn eigen muur, waarmee het allemaal begon. Een 10 cm spouw, die half gevuld is met isover glaswol.\n",
    "<br>Het isolatiebedrijf gaf na 1 endoscopisch blik in de muur aan, dat het de muur niet wilde bij-isoleren. Onduidelijk is gebleven wat daarvan de reden was, ik meen zoiets als \"condensatie\" gehoord te hebben, maar dat is natuurlijk faillikante onzin."
   ]
  },
  {
   "cell_type": "code",
   "execution_count": 10,
   "metadata": {},
   "outputs": [
    {
     "name": "stdout",
     "output_type": "stream",
     "text": [
      "Name        = Buitenmuur Nu\n",
      "Lengte      = 9.4 [m]\n",
      "Hoogte      = 2.5 [m]\n",
      "Oppervlakte = 23.5 [m2]\n",
      "R-Waarde    = 1.96 [m2.K/W]\n",
      "U-Waarde    = 0.51 [W/m2.K]\n",
      "T-Inside    = 20.0 [Celcius]\n",
      "T-Outside   = 0.0 [Celcius]\n",
      "Heat Loss   = 239 [W]\n",
      "===========  Kosten per m2, 24 uur per dag, 100 dagen =========\n",
      "Heat Loss 1m2   = 10 [W]\n",
      "Energy Cost 1m2 = 1.96 [Euro]\n",
      "Gasprijs        = 0.80 [Euro]\n",
      "Layer[s]    = [ Rsi, Kalkzandsteen, Glaswol 5cm, Spouw Zwak Geventileerd, Baksteen, Rse,  ]\n",
      "Dikte[s]    = [ -1.000, -1.000, 0.050, -1.000, -1.000, -1.000,  ] [m]\n",
      "R-Waarde[s] = [ 0.13, 0.10, 1.43, 0.18, 0.08, 0.04,  ] [m2.K/W]\n",
      "U-Waarde[s] = [ 7.69, 10.00, 0.70, 5.56, 12.50, 25.00,  ] [W/m2.K]\n",
      "T-Inside    = 20.0 [Celcius]\n",
      "T-Outside   = 0.0 [Celcius]\n",
      "\n"
     ]
    }
   ],
   "source": [
    "Buitenmuur_Nu = Sandwich ( \"Buitenmuur Nu\" )\n",
    "Buitenmuur_Nu.Inpandig            = False\n",
    "Buitenmuur_Nu.Lengte              = Lengte\n",
    "Buitenmuur_Nu.Hoogte              = Hoogte\n",
    "Buitenmuur_Nu.Temperature_Inside  = Temperatuur_Binnen\n",
    "Buitenmuur_Nu.Temperature_Outside = Temperatuur_Buiten\n",
    "Buitenmuur_Nu.Add ( Rsi )\n",
    "Buitenmuur_Nu.Add ( Kalkzandsteen )\n",
    "Buitenmuur_Nu.Add ( Glaswol_5cm )\n",
    "Buitenmuur_Nu.Add ( Spouw_Zwak_Geventileerd )\n",
    "Buitenmuur_Nu.Add ( Baksteen )\n",
    "Buitenmuur_Nu.Add ( Rse )\n",
    "\n",
    "print ( Buitenmuur_Nu )"
   ]
  },
  {
   "cell_type": "markdown",
   "metadata": {},
   "source": [
    "## Muur met half gevulde spouw + bijgevuld"
   ]
  },
  {
   "cell_type": "code",
   "execution_count": 11,
   "metadata": {},
   "outputs": [
    {
     "name": "stdout",
     "output_type": "stream",
     "text": [
      "Name        = Buitenmuur Na Bijvulling\n",
      "Lengte      = 9.4 [m]\n",
      "Hoogte      = 2.5 [m]\n",
      "Oppervlakte = 23.5 [m2]\n",
      "R-Waarde    = 3.25 [m2.K/W]\n",
      "U-Waarde    = 0.31 [W/m2.K]\n",
      "T-Inside    = 20.0 [Celcius]\n",
      "T-Outside   = 0.0 [Celcius]\n",
      "Heat Loss   = 144 [W]\n",
      "===========  Kosten per m2, 24 uur per dag, 100 dagen =========\n",
      "Heat Loss 1m2   = 6 [W]\n",
      "Energy Cost 1m2 = 1.18 [Euro]\n",
      "Gasprijs        = 0.80 [Euro]\n",
      "Layer[s]    = [ Rsi, Kalkzandsteen, Glaswol 5cm, Iso-Parels 5cm, Baksteen, Rse,  ]\n",
      "Dikte[s]    = [ -1.000, -1.000, 0.050, 0.050, -1.000, -1.000,  ] [m]\n",
      "R-Waarde[s] = [ 0.13, 0.10, 1.43, 1.47, 0.08, 0.04,  ] [m2.K/W]\n",
      "U-Waarde[s] = [ 7.69, 10.00, 0.70, 0.68, 12.50, 25.00,  ] [W/m2.K]\n",
      "T-Inside    = 20.0 [Celcius]\n",
      "T-Outside   = 0.0 [Celcius]\n",
      "\n"
     ]
    }
   ],
   "source": [
    "Buitenmuur_Na = Sandwich ( \"Buitenmuur Na Bijvulling\" )\n",
    "Buitenmuur_Na.Inpandig            = False\n",
    "Buitenmuur_Na.Lengte              = Lengte\n",
    "Buitenmuur_Na.Hoogte              = Hoogte\n",
    "Buitenmuur_Na.Temperature_Inside  = Temperatuur_Binnen\n",
    "Buitenmuur_Na.Temperature_Outside = Temperatuur_Buiten\n",
    "Buitenmuur_Na.Add ( Rsi )\n",
    "Buitenmuur_Na.Add ( Kalkzandsteen )\n",
    "Buitenmuur_Na.Add ( Glaswol_5cm )\n",
    "Buitenmuur_Na.Add ( Iso_Parels_5cm )\n",
    "Buitenmuur_Na.Add ( Baksteen )\n",
    "Buitenmuur_Na.Add ( Rse )\n",
    "print ( Buitenmuur_Na )"
   ]
  },
  {
   "cell_type": "markdown",
   "metadata": {},
   "source": [
    "## Muur met half gevulde spouw + Binnenwand"
   ]
  },
  {
   "cell_type": "code",
   "execution_count": 12,
   "metadata": {},
   "outputs": [
    {
     "name": "stdout",
     "output_type": "stream",
     "text": [
      "Name        = Buitenmuur Super\n",
      "Lengte      = 9.4 [m]\n",
      "Hoogte      = 2.5 [m]\n",
      "Oppervlakte = 23.5 [m2]\n",
      "R-Waarde    = 6.54 [m2.K/W]\n",
      "U-Waarde    = 0.15 [W/m2.K]\n",
      "T-Inside    = 20.0 [Celcius]\n",
      "T-Outside   = 0.0 [Celcius]\n",
      "Heat Loss   = 71 [W]\n",
      "===========  Kosten per m2, 24 uur per dag, 100 dagen =========\n",
      "Heat Loss 1m2   = 3 [W]\n",
      "Energy Cost 1m2 = 0.59 [Euro]\n",
      "Gasprijs        = 0.80 [Euro]\n",
      "Layer[s]    = [ Rsi, Gipsplaat, PIR_alu_10cm, Kalkzandsteen, Glaswol 5cm, Spouw Zwak Geventileerd, Baksteen, Rse,  ]\n",
      "Dikte[s]    = [ -1.000, -1.000, -1.000, -1.000, 0.050, -1.000, -1.000, -1.000,  ] [m]\n",
      "R-Waarde[s] = [ 0.13, 0.04, 4.54, 0.10, 1.43, 0.18, 0.08, 0.04,  ] [m2.K/W]\n",
      "U-Waarde[s] = [ 7.69, 25.00, 0.22, 10.00, 0.70, 5.56, 12.50, 25.00,  ] [W/m2.K]\n",
      "T-Inside    = 20.0 [Celcius]\n",
      "T-Outside   = 0.0 [Celcius]\n",
      "\n"
     ]
    }
   ],
   "source": [
    "Buitenmuur_Super = Sandwich ( \"Buitenmuur Super\" )\n",
    "Buitenmuur_Super.Inpandig            = False\n",
    "Buitenmuur_Super.Lengte              = Lengte\n",
    "Buitenmuur_Super.Hoogte              = Hoogte\n",
    "Buitenmuur_Super.Temperature_Inside  = Temperatuur_Binnen\n",
    "Buitenmuur_Super.Temperature_Outside = Temperatuur_Buiten\n",
    "Buitenmuur_Super.Add ( Rsi )\n",
    "Buitenmuur_Super.Add ( Gipsplaat )\n",
    "Buitenmuur_Super.Add ( PIR_alu_10cm )\n",
    "Buitenmuur_Super.Add ( Kalkzandsteen )\n",
    "Buitenmuur_Super.Add ( Glaswol_5cm )\n",
    "Buitenmuur_Super.Add ( Spouw_Zwak_Geventileerd )\n",
    "Buitenmuur_Super.Add ( Baksteen )\n",
    "Buitenmuur_Super.Add ( Rse )\n",
    "\n",
    "print ( Buitenmuur_Super )"
   ]
  },
  {
   "cell_type": "markdown",
   "metadata": {},
   "source": [
    "## Muur met lege spouw"
   ]
  },
  {
   "cell_type": "code",
   "execution_count": 13,
   "metadata": {},
   "outputs": [
    {
     "name": "stdout",
     "output_type": "stream",
     "text": [
      "Name        = Buitenmuur Leeg\n",
      "Lengte      = 9.4 [m]\n",
      "Hoogte      = 2.5 [m]\n",
      "Oppervlakte = 23.5 [m2]\n",
      "R-Waarde    = 0.53 [m2.K/W]\n",
      "U-Waarde    = 1.89 [W/m2.K]\n",
      "T-Inside    = 20.0 [Celcius]\n",
      "T-Outside   = 0.0 [Celcius]\n",
      "Heat Loss   = 886 [W]\n",
      "===========  Kosten per m2, 24 uur per dag, 100 dagen =========\n",
      "Heat Loss 1m2   = 37 [W]\n",
      "Energy Cost 1m2 = 7.25 [Euro]\n",
      "Gasprijs        = 0.80 [Euro]\n",
      "Layer[s]    = [ Rsi, Kalkzandsteen, Spouw Zwak Geventileerd, Baksteen, Rse,  ]\n",
      "Dikte[s]    = [ -1.000, -1.000, -1.000, -1.000, -1.000,  ] [m]\n",
      "R-Waarde[s] = [ 0.13, 0.10, 0.18, 0.08, 0.04,  ] [m2.K/W]\n",
      "U-Waarde[s] = [ 7.69, 10.00, 5.56, 12.50, 25.00,  ] [W/m2.K]\n",
      "T-Inside    = 20.0 [Celcius]\n",
      "T-Outside   = 0.0 [Celcius]\n",
      "\n"
     ]
    }
   ],
   "source": [
    "Buitenmuur_Leeg = Sandwich ( \"Buitenmuur Leeg\" )\n",
    "Buitenmuur_Leeg.Inpandig            = False\n",
    "Buitenmuur_Leeg.Lengte              = Lengte\n",
    "Buitenmuur_Leeg.Hoogte              = Hoogte\n",
    "Buitenmuur_Leeg.Temperature_Inside  = Temperatuur_Binnen\n",
    "Buitenmuur_Leeg.Temperature_Outside = Temperatuur_Buiten\n",
    "Buitenmuur_Leeg.Add ( Rsi )\n",
    "Buitenmuur_Leeg.Add ( Kalkzandsteen )\n",
    "Buitenmuur_Leeg.Add ( Spouw_Zwak_Geventileerd )\n",
    "Buitenmuur_Leeg.Add ( Baksteen )\n",
    "Buitenmuur_Leeg.Add ( Rse )\n",
    "\n",
    "print ( Buitenmuur_Leeg )"
   ]
  },
  {
   "cell_type": "markdown",
   "metadata": {},
   "source": [
    "## Vergelijk van de verschillende spouwmuren\n",
    "Deze tabel functie is gemaakt om het warmteverlies van een gehele ruimte of woning in detail weer te geven. In de huidige situatie waar een aantal spouwmuur constructies met elkaar worden vergeleken, is de onderste regel \"Totaal\", evenals enkele kolommen, volkomen zinloos. \n",
    "<br>Het rechter deel van de tabel (kolommen met de getallen erboven) geeft de kolomnaam de buitentemperatuur aan en de waarden in die kolom staan, is het warmteverlies in Watt dat door de muur weglekt bij die buitentemperatuur. \n",
    "<br>kolom Kosten    = de geschatte totale jaarlijke Energiekosten in Euros (bij gebruik van Gas)\n",
    "<br>kolom Kosten-m2 = de geschatte jaarlijke Energiekosten per m2 in Euros (bij gebruik van Gas)"
   ]
  },
  {
   "cell_type": "code",
   "execution_count": 14,
   "metadata": {
    "ExecuteTime": {
     "end_time": "2017-05-05T20:52:09.590751Z",
     "start_time": "2017-05-05T20:52:09.536607Z"
    },
    "run_control": {
     "frozen": false,
     "read_only": false
    }
   },
   "outputs": [
    {
     "name": "stdout",
     "output_type": "stream",
     "text": [
      "['Buitenmuur Leeg', 'Buitenmuur Nu', 'Buitenmuur Na Bijvulling', 'Buitenmuur Super']\n"
     ]
    },
    {
     "data": {
      "text/html": [
       "<div>\n",
       "<style scoped>\n",
       "    .dataframe tbody tr th:only-of-type {\n",
       "        vertical-align: middle;\n",
       "    }\n",
       "\n",
       "    .dataframe tbody tr th {\n",
       "        vertical-align: top;\n",
       "    }\n",
       "\n",
       "    .dataframe thead th {\n",
       "        text-align: right;\n",
       "    }\n",
       "</style>\n",
       "<table border=\"1\" class=\"dataframe\">\n",
       "  <thead>\n",
       "    <tr style=\"text-align: right;\">\n",
       "      <th></th>\n",
       "      <th>R-waarde</th>\n",
       "      <th>U-waarde</th>\n",
       "      <th>Oppervlak</th>\n",
       "      <th>T-Binnen</th>\n",
       "      <th>Inpandig</th>\n",
       "      <th>Kosten-m2</th>\n",
       "      <th>Kosten</th>\n",
       "      <th>-8</th>\n",
       "      <th>-6</th>\n",
       "      <th>-4</th>\n",
       "      <th>-2</th>\n",
       "      <th>0</th>\n",
       "      <th>2</th>\n",
       "      <th>4</th>\n",
       "      <th>6</th>\n",
       "      <th>8</th>\n",
       "      <th>10</th>\n",
       "    </tr>\n",
       "  </thead>\n",
       "  <tbody>\n",
       "    <tr>\n",
       "      <th>Buitenmuur Leeg</th>\n",
       "      <td>0.53</td>\n",
       "      <td>1.88</td>\n",
       "      <td>23.5</td>\n",
       "      <td>20</td>\n",
       "      <td>False</td>\n",
       "      <td>7.24</td>\n",
       "      <td>170</td>\n",
       "      <td>1241</td>\n",
       "      <td>1152</td>\n",
       "      <td>1064</td>\n",
       "      <td>975</td>\n",
       "      <td>886</td>\n",
       "      <td>798</td>\n",
       "      <td>709</td>\n",
       "      <td>620</td>\n",
       "      <td>532</td>\n",
       "      <td>443</td>\n",
       "    </tr>\n",
       "    <tr>\n",
       "      <th>Buitenmuur Nu</th>\n",
       "      <td>1.95</td>\n",
       "      <td>0.51</td>\n",
       "      <td>23.5</td>\n",
       "      <td>20</td>\n",
       "      <td>False</td>\n",
       "      <td>1.96</td>\n",
       "      <td>46</td>\n",
       "      <td>335</td>\n",
       "      <td>311</td>\n",
       "      <td>287</td>\n",
       "      <td>263</td>\n",
       "      <td>239</td>\n",
       "      <td>215</td>\n",
       "      <td>191</td>\n",
       "      <td>167</td>\n",
       "      <td>143</td>\n",
       "      <td>119</td>\n",
       "    </tr>\n",
       "    <tr>\n",
       "      <th>Buitenmuur Na Bijvulling</th>\n",
       "      <td>3.24</td>\n",
       "      <td>0.3</td>\n",
       "      <td>23.5</td>\n",
       "      <td>20</td>\n",
       "      <td>False</td>\n",
       "      <td>1.18</td>\n",
       "      <td>27</td>\n",
       "      <td>202</td>\n",
       "      <td>188</td>\n",
       "      <td>173</td>\n",
       "      <td>159</td>\n",
       "      <td>144</td>\n",
       "      <td>130</td>\n",
       "      <td>115</td>\n",
       "      <td>101</td>\n",
       "      <td>86</td>\n",
       "      <td>72</td>\n",
       "    </tr>\n",
       "    <tr>\n",
       "      <th>Buitenmuur Super</th>\n",
       "      <td>6.53</td>\n",
       "      <td>0.15</td>\n",
       "      <td>23.5</td>\n",
       "      <td>20</td>\n",
       "      <td>False</td>\n",
       "      <td>0.58</td>\n",
       "      <td>13</td>\n",
       "      <td>100</td>\n",
       "      <td>93</td>\n",
       "      <td>86</td>\n",
       "      <td>79</td>\n",
       "      <td>71</td>\n",
       "      <td>64</td>\n",
       "      <td>57</td>\n",
       "      <td>50</td>\n",
       "      <td>43</td>\n",
       "      <td>35</td>\n",
       "    </tr>\n",
       "    <tr>\n",
       "      <th>Totaal</th>\n",
       "      <td>R-waarde</td>\n",
       "      <td>U-waarde</td>\n",
       "      <td>Oppervlak</td>\n",
       "      <td>T-Binnen</td>\n",
       "      <td>Inpandig</td>\n",
       "      <td>Kosten-m2</td>\n",
       "      <td>Kosten</td>\n",
       "      <td>1878</td>\n",
       "      <td>1744</td>\n",
       "      <td>1610</td>\n",
       "      <td>1476</td>\n",
       "      <td>1340</td>\n",
       "      <td>1207</td>\n",
       "      <td>1072</td>\n",
       "      <td>938</td>\n",
       "      <td>804</td>\n",
       "      <td>669</td>\n",
       "    </tr>\n",
       "  </tbody>\n",
       "</table>\n",
       "</div>"
      ],
      "text/plain": [
       "                          R-waarde  U-waarde  Oppervlak  T-Binnen  Inpandig  \\\n",
       "Buitenmuur Leeg               0.53      1.88       23.5        20     False   \n",
       "Buitenmuur Nu                 1.95      0.51       23.5        20     False   \n",
       "Buitenmuur Na Bijvulling      3.24       0.3       23.5        20     False   \n",
       "Buitenmuur Super              6.53      0.15       23.5        20     False   \n",
       "Totaal                    R-waarde  U-waarde  Oppervlak  T-Binnen  Inpandig   \n",
       "\n",
       "                          Kosten-m2  Kosten    -8    -6    -4    -2     0  \\\n",
       "Buitenmuur Leeg                7.24     170  1241  1152  1064   975   886   \n",
       "Buitenmuur Nu                  1.96      46   335   311   287   263   239   \n",
       "Buitenmuur Na Bijvulling       1.18      27   202   188   173   159   144   \n",
       "Buitenmuur Super               0.58      13   100    93    86    79    71   \n",
       "Totaal                    Kosten-m2  Kosten  1878  1744  1610  1476  1340   \n",
       "\n",
       "                             2     4    6    8   10  \n",
       "Buitenmuur Leeg            798   709  620  532  443  \n",
       "Buitenmuur Nu              215   191  167  143  119  \n",
       "Buitenmuur Na Bijvulling   130   115  101   86   72  \n",
       "Buitenmuur Super            64    57   50   43   35  \n",
       "Totaal                    1207  1072  938  804  669  "
      ]
     },
     "execution_count": 14,
     "metadata": {},
     "output_type": "execute_result"
    }
   ],
   "source": [
    "Ts  = range ( -8, 12, 2 )\n",
    "Elements = [ Buitenmuur_Leeg, Buitenmuur_Nu, Buitenmuur_Na, Buitenmuur_Super ]\n",
    "Heat_Transfer_Table ( Elements, Ts )"
   ]
  },
  {
   "cell_type": "markdown",
   "metadata": {},
   "source": [
    "## Conclusie\n",
    "Als ik bovenstaande tabel zie, krijg ik een vermoeden waarom isolatiebedrijven alleen geïnteresseerd zijn in het vullen van een geheel lege spouw, namelijk de besparing bedraagt ongeveer 6 Euro per m2 per jaar en dus kun je het goed verkopen dat een m2 buitenmuur isoleren 15 tot 20 Euro kost. De claim van de isolatiebedrijven over de terugverdientijd lijkt hier dus te kloppen.\n",
    "<br><br>Voor een half gevulde spouw, bedraagt de economische winst \"slechts\" 0.80 Euro, hetgeen betekent dat er een terugverdientijd van ongeveer 20 jaar aan vasthangt.\n",
    "<br><br>De supermuur, met een extra inpandige voorzetwand, bespaart t.o.v. de half gevulde spouw 1.40 Euro. Als ik een prijs gok van 25 Euro per m2, zou dat een terugverdientijd van ongeveer 15 jaar betekenen (dit allemaal uit het hoofd). Energetisch gezien is dit een hele fraaie oplossing, immers de hier gerealiseerde Rc waarde (6.5 m2.K/W) voldoet zelfs ruim aan de norm voor nieuwbouw gevels (4.5 m2.K/W)"
   ]
  },
  {
   "cell_type": "code",
   "execution_count": null,
   "metadata": {},
   "outputs": [],
   "source": []
  }
 ],
 "metadata": {
  "anaconda-cloud": {},
  "extensions": {
   "jupyter_dashboards": {
    "activeView": "grid_default",
    "version": 1,
    "views": {
     "grid_default": {
      "cellMargin": 10,
      "defaultCellHeight": 20,
      "maxColumns": 12,
      "name": "grid",
      "type": "grid"
     },
     "report_default": {
      "name": "report",
      "type": "report"
     }
    }
   }
  },
  "gist": {
   "data": {
    "description": "Stef-Robbie-Notebook/Warmteverbruik_huiskamer.ipynb",
    "public": false
   },
   "id": ""
  },
  "hide_input": false,
  "kernelspec": {
   "display_name": "Python 3",
   "language": "python",
   "name": "python3"
  },
  "language_info": {
   "codemirror_mode": {
    "name": "ipython",
    "version": 3
   },
   "file_extension": ".py",
   "mimetype": "text/x-python",
   "name": "python",
   "nbconvert_exporter": "python",
   "pygments_lexer": "ipython3",
   "version": "3.6.6"
  },
  "latex_envs": {
   "bibliofile": "biblio.bib",
   "cite_by": "apalike",
   "current_citInitial": 1,
   "eqLabelWithNumbers": true,
   "eqNumInitial": 0
  },
  "nav_menu": {},
  "toc": {
   "navigate_menu": true,
   "number_sections": true,
   "sideBar": true,
   "threshold": 6,
   "toc_cell": true,
   "toc_section_display": "block",
   "toc_window_display": true
  },
  "toc_position": {
   "height": "824px",
   "left": "0px",
   "right": "20px",
   "top": "130px",
   "width": "193px"
  }
 },
 "nbformat": 4,
 "nbformat_minor": 2
}
